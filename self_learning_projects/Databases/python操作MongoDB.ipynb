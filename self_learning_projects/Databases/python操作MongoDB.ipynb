{
 "cells": [
  {
   "cell_type": "markdown",
   "metadata": {},
   "source": [
    "# MongoDB 基本操作"
   ]
  },
  {
   "cell_type": "code",
   "execution_count": 1,
   "metadata": {},
   "outputs": [],
   "source": [
    "import pymongo\n",
    "from pymongo import MongoClient\n",
    "from datetime import datetime"
   ]
  },
  {
   "cell_type": "code",
   "execution_count": 10,
   "metadata": {},
   "outputs": [],
   "source": [
    "from pprint import pprint"
   ]
  },
  {
   "cell_type": "code",
   "execution_count": 12,
   "metadata": {},
   "outputs": [],
   "source": [
    "from bson import ObjectId"
   ]
  },
  {
   "cell_type": "markdown",
   "metadata": {},
   "source": [
    "### 连接mongo"
   ]
  },
  {
   "cell_type": "code",
   "execution_count": 2,
   "metadata": {},
   "outputs": [],
   "source": [
    "# client = MongoClient()\n",
    "# client = MongoClient('localhost', 27017)\n",
    "# client = MongoClient('mongodb://localhost:27017/') # URI\n",
    "# 三种方法均可"
   ]
  },
  {
   "cell_type": "code",
   "execution_count": 53,
   "metadata": {},
   "outputs": [],
   "source": [
    "class TestMongo():\n",
    "    \n",
    "    def __init__(self):\n",
    "        self.client = MongoClient('mongodb://localhost:27017/')\n",
    "        self.db = self.client['dingdian_novels']\n",
    "    \n",
    "    def add_one(self):\n",
    "        ''' 插入数据 '''\n",
    "        post = {\n",
    "            'author': '天蚕土豆', \n",
    "            'words': '15000000',\n",
    "            'update_time': str(datetime.now())\n",
    "        }\n",
    "        return self.db.dingdian_novels.insert_one(post)\n",
    "    \n",
    "    def get_one(self):\n",
    "        ''' 查询一条数据 '''\n",
    "        return self.db.dingdian_novels.find_one() # 返回的是字典类型\n",
    "    \n",
    "    def get_many(self):\n",
    "        ''' 查询多条数据 '''\n",
    "        return self.db.dingdian_novels.find({'author': '笑子风3'}) # 查询所有数据\n",
    "    \n",
    "    def get_one_from_oid(self, oid):\n",
    "        ''' 通过id查询数据 '''\n",
    "        oid = ObjectId(oid)\n",
    "        return self.db.dingdian_novels.find({'_id': oid})\n",
    "    \n",
    "    def update_one(self):\n",
    "        ''' \n",
    "        修改一条数据 \n",
    "        .update_one 方法\n",
    "        '''\n",
    "        res = self.db.dingdian_novels.update_one({'author': '天蚕土豆'}, {'$inc': {'words': 10}})\n",
    "        print('匹配数据条数:', res.matched_count)\n",
    "        print('修改数据条数:', res.modified_count)\n",
    "    \n",
    "    def update_many(self):\n",
    "        ''' \n",
    "        修改所有匹配数据 \n",
    "        .update_many 方法\n",
    "        '''\n",
    "        res = self.db.dingdian_novels.update_many({'author': '天蚕土豆'}, {'$inc': {'words': 11}})\n",
    "        print('匹配数据条数:', res.matched_count)\n",
    "        print('修改数据条数:', res.modified_count)\n",
    "    \n",
    "    def delete_one(self):\n",
    "        '''\n",
    "        删除匹配到的第一条数据\n",
    "        delete_one 方法\n",
    "        '''\n",
    "        res = self.db.dingdian_novels.delete_one({'author': '天蚕土豆'})\n",
    "        print('删除数据条数:', res.deleted_count)\n",
    "        \n",
    "    def delete_many(self):\n",
    "        '''\n",
    "        删除所有匹配到的数据\n",
    "        delete_many 方法\n",
    "        '''\n",
    "        res = self.db.dingdian_novels.delete_many({'author': '天蚕土豆'})\n",
    "        print('删除数据条数:', res.deleted_count)"
   ]
  },
  {
   "cell_type": "markdown",
   "metadata": {},
   "source": [
    "# MongoDB ODM\n",
    "+ MongoEngine包"
   ]
  },
  {
   "cell_type": "code",
   "execution_count": 76,
   "metadata": {},
   "outputs": [],
   "source": [
    "import mongoengine\n",
    "from mongoengine import connect, Document\n",
    "from mongoengine import StringField, IntField, FloatField\n",
    "from mongoengine import EmbeddedDocument, ListField, EmbeddedDocumentField"
   ]
  },
  {
   "cell_type": "code",
   "execution_count": 69,
   "metadata": {},
   "outputs": [
    {
     "data": {
      "text/plain": [
       "MongoClient(host=['localhost:27017'], document_class=dict, tz_aware=False, connect=True, read_preference=Primary())"
      ]
     },
     "execution_count": 69,
     "metadata": {},
     "output_type": "execute_result"
    }
   ],
   "source": [
    "connect('dingdian_novels', host='mongodb://localhost:27017/dingdian_novels')"
   ]
  },
  {
   "cell_type": "code",
   "execution_count": 125,
   "metadata": {},
   "outputs": [],
   "source": [
    "SEX_CHOICES = (\n",
    "    ('MALE', '男'), \n",
    "    ('FEMALE', '女'),\n",
    ")\n",
    "\n",
    "class Grade(EmbeddedDocument):\n",
    "    ''' 成绩 '''\n",
    "    name = StringField(required=True)\n",
    "    score = FloatField(required=True)\n",
    "\n",
    "class Student(Document):\n",
    "    name = StringField(max_length=32, required=True)\n",
    "    age = IntField(required=True)\n",
    "    sex = StringField(choices=SEX_CHOICES, required=True)\n",
    "    grade = FloatField()\n",
    "    address = StringField()\n",
    "    grades = ListField(EmbeddedDocumentField(Grade))\n",
    "    \n",
    "    meta = {\n",
    "        'collection': 'students666', # 制定存放的collection的名称\n",
    "        'ordering': ['-age'], # 以年纪倒叙\n",
    "    }"
   ]
  },
  {
   "cell_type": "code",
   "execution_count": 131,
   "metadata": {},
   "outputs": [],
   "source": [
    "class TestMongoEngine():\n",
    "    \n",
    "    def add_one(self):\n",
    "        ''' 添加数据 '''\n",
    "        \n",
    "        yuwen = Grade(\n",
    "            name = '语文', \n",
    "            score = 90\n",
    "        )\n",
    "        shuxue = Grade(\n",
    "            name = '数学', \n",
    "            score = 100\n",
    "        )\n",
    "        stu_obj = Student(\n",
    "            name = '张宇东',\n",
    "            age = 155, \n",
    "            sex = 'MALE',\n",
    "            grades = [yuwen, shuxue],\n",
    "        )\n",
    "        stu_obj.save()\n",
    "        return stu_obj\n",
    "    \n",
    "    def get_one(self):\n",
    "        ''' 查询一条数据 '''\n",
    "        return Student.objects.first()\n",
    "    \n",
    "    def get_all(self):\n",
    "        ''' 查询多条数据 '''\n",
    "        return Student.objects.all()\n",
    "    \n",
    "    def get_from_oid(self, oid):\n",
    "        ''' 根据ID来获取数据 '''\n",
    "        return Student.objects.filter(pk=oid).first()\n",
    "    \n",
    "    def update_one(self):\n",
    "        ''' 修改一条数据 '''\n",
    "        res = Student.objects.filter(age=155).update_one(inc__age=1)\n",
    "        return res\n",
    "    \n",
    "    def update_many(self):\n",
    "        ''' 修改所有匹配到的数据 '''\n",
    "        res = Student.objects.filter(age=15).update(inc__age=1000)\n",
    "        return res\n",
    "    \n",
    "    def delete_one(self):\n",
    "        ''' 删除一条数据 '''\n",
    "        res = Student.objects.filter(age=1015).first().delete()\n",
    "    \n",
    "    def delete_many(self):\n",
    "        ''' 删除所有匹配的数据 '''\n",
    "        res = Student.objects.filter(age=1015).delete()"
   ]
  },
  {
   "cell_type": "code",
   "execution_count": 134,
   "metadata": {},
   "outputs": [],
   "source": [
    "obj = TestMongoEngine()\n",
    "obj.delete_many()"
   ]
  },
  {
   "cell_type": "code",
   "execution_count": 116,
   "metadata": {},
   "outputs": [
    {
     "data": {
      "text/plain": [
       "ObjectId('5aedd94204e83c4a59ed9c43')"
      ]
     },
     "execution_count": 116,
     "metadata": {},
     "output_type": "execute_result"
    }
   ],
   "source": [
    "res.id"
   ]
  }
 ],
 "metadata": {
  "kernelspec": {
   "display_name": "Python 3",
   "language": "python",
   "name": "python3"
  },
  "language_info": {
   "codemirror_mode": {
    "name": "ipython",
    "version": 3
   },
   "file_extension": ".py",
   "mimetype": "text/x-python",
   "name": "python",
   "nbconvert_exporter": "python",
   "pygments_lexer": "ipython3",
   "version": "3.6.4"
  }
 },
 "nbformat": 4,
 "nbformat_minor": 2
}
