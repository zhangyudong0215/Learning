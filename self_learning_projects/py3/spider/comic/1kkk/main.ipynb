{
 "cells": [
  {
   "cell_type": "code",
   "execution_count": 117,
   "metadata": {},
   "outputs": [],
   "source": [
    "from requests_html import HTMLSession\n",
    "import regex as re\n",
    "import string\n",
    "from mylog import MyLog as mylog\n",
    "import os"
   ]
  },
  {
   "cell_type": "code",
   "execution_count": 113,
   "metadata": {},
   "outputs": [],
   "source": [
    "logger = mylog()\n",
    "htmlsession = HTMLSession()\n",
    "headers = {\n",
    "    'user-agent':\n",
    "    'Mozilla/5.0 (X11; Ubuntu; Linux x86_64; rv:54.0) Gecko/20100101 Firefox/54.0',\n",
    "    'accept':\n",
    "    'text/html, application/xhtml+xml, application/xml; q=0.9, image/webp, */*; q=0.8',\n",
    "    'referer':\n",
    "    'https://www.1kkk.com'\n",
    "}"
   ]
  },
  {
   "cell_type": "code",
   "execution_count": 18,
   "metadata": {},
   "outputs": [],
   "source": [
    "# logger.info(\"test\")\n",
    "# logger.error(\"error test\")"
   ]
  },
  {
   "cell_type": "code",
   "execution_count": 24,
   "metadata": {},
   "outputs": [],
   "source": [
    "start_url = \"https://www.1kkk.com\""
   ]
  },
  {
   "cell_type": "code",
   "execution_count": 20,
   "metadata": {},
   "outputs": [],
   "source": [
    "comic_id = 17241"
   ]
  },
  {
   "cell_type": "code",
   "execution_count": 25,
   "metadata": {},
   "outputs": [
    {
     "data": {
      "text/plain": [
       "'https://www.1kkk.com/manhua17241'"
      ]
     },
     "execution_count": 25,
     "metadata": {},
     "output_type": "execute_result"
    }
   ],
   "source": [
    "category_url = \"\".join([start_url, \"/manhua\", str(comic_id)])\n",
    "category_url"
   ]
  },
  {
   "cell_type": "code",
   "execution_count": 75,
   "metadata": {},
   "outputs": [],
   "source": [
    "res = htmlsession.get(category_url)"
   ]
  },
  {
   "cell_type": "markdown",
   "metadata": {},
   "source": [
    "## 获取章节urls"
   ]
  },
  {
   "cell_type": "code",
   "execution_count": 30,
   "metadata": {},
   "outputs": [],
   "source": [
    "pattern_chapter = re.compile('https:\\/\\/www\\.1kkk\\.com\\/ch(\\d+)-\\d+\\/')"
   ]
  },
  {
   "cell_type": "code",
   "execution_count": 32,
   "metadata": {},
   "outputs": [],
   "source": [
    "urls_chapter = []"
   ]
  },
  {
   "cell_type": "code",
   "execution_count": 41,
   "metadata": {},
   "outputs": [],
   "source": [
    "for url in res.html.absolute_links:\n",
    "    result_re = pattern_chapter.match(url)\n",
    "    if result_re:\n",
    "        urls_chapter.append((url, result_re.group(1)))\n",
    "urls_chapter = list(set(urls_chapter))\n",
    "urls_chapter.sort(key=lambda x: int(x[1]))"
   ]
  },
  {
   "cell_type": "code",
   "execution_count": 45,
   "metadata": {},
   "outputs": [
    {
     "data": {
      "text/plain": [
       "('https://www.1kkk.com/ch1-429512/', '1')"
      ]
     },
     "execution_count": 45,
     "metadata": {},
     "output_type": "execute_result"
    }
   ],
   "source": [
    "urls_chapter # urls_chapter中混有其他漫画的部分章节, 需要根据标题进行筛选\n",
    "urls_chapter[0]"
   ]
  },
  {
   "cell_type": "markdown",
   "metadata": {},
   "source": [
    "## 获取标题"
   ]
  },
  {
   "cell_type": "code",
   "execution_count": 76,
   "metadata": {},
   "outputs": [
    {
     "name": "stdout",
     "output_type": "stream",
     "text": [
      "寄宿学校的朱丽叶 7.3分\n"
     ]
    }
   ],
   "source": [
    "tag_title = res.html.find('p.title')[1].text\n",
    "comic_title, comic_score = tag_title.split()\n",
    "print(comic_title, comic_score)"
   ]
  },
  {
   "cell_type": "markdown",
   "metadata": {},
   "source": [
    "## download单个章节"
   ]
  },
  {
   "cell_type": "code",
   "execution_count": 81,
   "metadata": {},
   "outputs": [
    {
     "data": {
      "text/plain": [
       "'https://www.1kkk.com/ch1-209332/'"
      ]
     },
     "execution_count": 81,
     "metadata": {},
     "output_type": "execute_result"
    }
   ],
   "source": [
    "target_url = urls_chapter[1][0]\n",
    "target_url"
   ]
  },
  {
   "cell_type": "code",
   "execution_count": 82,
   "metadata": {},
   "outputs": [],
   "source": [
    "res = htmlsession.get(target_url)"
   ]
  },
  {
   "cell_type": "code",
   "execution_count": 83,
   "metadata": {},
   "outputs": [
    {
     "data": {
      "text/plain": [
       "'寄宿学校的朱丽叶'"
      ]
     },
     "execution_count": 83,
     "metadata": {},
     "output_type": "execute_result"
    }
   ],
   "source": [
    "title"
   ]
  },
  {
   "cell_type": "markdown",
   "metadata": {},
   "source": [
    "### 1. 爬取该chapter对应comic的标题, 进行筛选"
   ]
  },
  {
   "cell_type": "code",
   "execution_count": 84,
   "metadata": {},
   "outputs": [],
   "source": [
    "tag = res.html.find('div.title', first=True)"
   ]
  },
  {
   "cell_type": "code",
   "execution_count": 85,
   "metadata": {},
   "outputs": [
    {
     "data": {
      "text/plain": [
       "'寄宿学校的朱丽叶'"
      ]
     },
     "execution_count": 85,
     "metadata": {},
     "output_type": "execute_result"
    }
   ],
   "source": [
    "chapter_title = tag.text.split()[1]\n",
    "chapter_title"
   ]
  },
  {
   "cell_type": "code",
   "execution_count": 86,
   "metadata": {},
   "outputs": [
    {
     "data": {
      "text/plain": [
       "True"
      ]
     },
     "execution_count": 86,
     "metadata": {},
     "output_type": "execute_result"
    }
   ],
   "source": [
    "comic_title == chapter_title"
   ]
  },
  {
   "cell_type": "markdown",
   "metadata": {},
   "source": [
    "### 2. 获取chapter长度"
   ]
  },
  {
   "cell_type": "code",
   "execution_count": 105,
   "metadata": {},
   "outputs": [],
   "source": [
    "urls_page = []\n",
    "for url in res.html.absolute_links:\n",
    "    if url.startswith(target_url[: -1]):\n",
    "        urls_page.append(url)"
   ]
  },
  {
   "cell_type": "code",
   "execution_count": 106,
   "metadata": {},
   "outputs": [
    {
     "data": {
      "text/plain": [
       "['https://www.1kkk.com/ch1-209332-p50/',\n",
       " 'https://www.1kkk.com/ch1-209332-p6/',\n",
       " 'https://www.1kkk.com/ch1-209332-p5/',\n",
       " 'https://www.1kkk.com/ch1-209332-p2/',\n",
       " 'https://www.1kkk.com/ch1-209332-p4/',\n",
       " 'https://www.1kkk.com/ch1-209332-p8/',\n",
       " 'https://www.1kkk.com/ch1-209332-p7/',\n",
       " 'https://www.1kkk.com/ch1-209332-p3/']"
      ]
     },
     "execution_count": 106,
     "metadata": {},
     "output_type": "execute_result"
    }
   ],
   "source": [
    "urls_page"
   ]
  },
  {
   "cell_type": "code",
   "execution_count": 97,
   "metadata": {},
   "outputs": [],
   "source": [
    "pattern_page_count = re.compile('p(\\d+)\\/')"
   ]
  },
  {
   "cell_type": "code",
   "execution_count": 107,
   "metadata": {},
   "outputs": [
    {
     "data": {
      "text/plain": [
       "50"
      ]
     },
     "execution_count": 107,
     "metadata": {},
     "output_type": "execute_result"
    }
   ],
   "source": [
    "chapter_page_count = max(map(int, [pattern_page_count.search(i).group(1) for i in urls_page]))\n",
    "chapter_page_count"
   ]
  },
  {
   "cell_type": "markdown",
   "metadata": {},
   "source": [
    "### 3. 尝试下载单页图片"
   ]
  },
  {
   "cell_type": "code",
   "execution_count": 111,
   "metadata": {},
   "outputs": [
    {
     "data": {
      "text/plain": [
       "'https://www.1kkk.com/ch1-209332-p34'"
      ]
     },
     "execution_count": 111,
     "metadata": {},
     "output_type": "execute_result"
    }
   ],
   "source": [
    "index = 34\n",
    "url_page = \"\".join([target_url[: -1], \"-p\", str(index)])\n",
    "url_page"
   ]
  },
  {
   "cell_type": "code",
   "execution_count": 133,
   "metadata": {},
   "outputs": [],
   "source": [
    "res = htmlsession.get('https://www.1kkk.com/ch1-209332/#ipg34', headers=headers)"
   ]
  },
  {
   "cell_type": "code",
   "execution_count": 134,
   "metadata": {},
   "outputs": [
    {
     "data": {
      "text/plain": [
       "'<!DOCTYPE html PUBLIC \"-//W3C//DTD XHTML 1.0 Transitional//EN\" \"http://www.w3.org/TR/xhtml1/DTD/xhtml1-transitional.dtd\"><html xmlns=\"http://www.w3.org/1999/xhtml\"><head>    <meta http-equiv=\"Content-Type\" content=\"text/html; charset=utf-8\" />    <title>寄宿学校的朱丽叶漫画_第1话,_在线漫画阅读_极速漫画</title>    <meta name=\"Description\" content=\"寄宿学校的朱丽叶1漫画简介：寄宿学校的朱丽叶漫画 ，2人的关系暴露就是死刑！秘密...极速漫画提供寄宿学校的朱丽叶1在线阅读和寄宿学校的朱丽叶68第一时间更新，同时也是国内寄宿学校的朱丽叶漫画最快最全的在线漫画阅读网站 - 68第1页。\" />    <meta name=\"Keywords\" content=\"寄宿学校的朱丽叶漫画,寄宿学校的朱丽叶第1话,寄宿学校的朱丽叶在线漫画\" />    <meta name=\"Author\" content=\"极速漫画:好漫画,为看漫画的人而生、1kkk.com\" />    <!-- 样式引用 -->    <link rel=\"stylesheet\" type=\"text/css\" href=\"https://css99tel.cdndm5.com/v201808091405/blue/css/reset.css\" />    <link rel=\"stylesheet\" type=\"text/css\" href=\"https://css99tel.cdndm5.com/v201808091405/blue/css/view.css\" />    <link rel=\"shortcut icon\" href=\"http://css99tel.cdndm5.com/v201808091405/blue/images/1kkk.ico\" />    <script src=\"https://css99tel.cdndm5.com/v201808091405/blue/js/jquery-1.8.3.min.js\" type=\"text/javascript\"></script>    <script src=\"https://css99tel.cdndm5.com/v201808091405/blue/js/jquery.cookie.js\" type=\"text/javascript\"></script>    <script src=\"https://css99tel.cdndm5.com/v201808091405/blue/js/chapternew_v22.js\" type=\"text/javascript\"></script>    <script src=\"https://css99tel.cdndm5.com/v201808091405/blue/js/comm.js\" type=\"text/javascript\"></script>    <script src=\"https://css99tel.cdndm5.com/v201808091405/blue/js/post.js\" type=\"text/javascript\"></script>    <script src=\"https://css99tel.cdndm5.com/v201808091405/blue/js/login.js\" type=\"text/javascript\"></script>    <script src=\"https://css99tel.cdndm5.com/v201808091405/blue/js/comics-dm5v3.js\" type=\"text/javascript\"></script>    <script src=\"https://css99tel.cdndm5.com/v201808091405/blue/js/newtc.js\" type=\"text/javascript\"></script>    <script src=\"https://css99tel.cdndm5.com/v201808091405/blue/js/newyb.js\" type=\"text/javascript\"></script>    <script type=\"text/javascript\">        var isVip = \"False\";        var DM5_COOKIEDOMAIN=\\'1kkk.com\\';        var COMIC_MID = 17241;        var DM5_CURL = \"/ch1-209332/\";        var DM5_CURL_END = \"/m209332-end/\";        var DM5_CTITLE = \"寄宿学校的朱丽叶 第1话\";        var DM5_MID=17241;        var DM5_CID=209332;        var DM5_IMAGE_COUNT=50;        var DM5_USERID = 0;        var DM5_FROM = \"%2fch1-209332%2f\";        var DM5_PAGETYPE = 9;        var DM5_PAGEINDEX = 1;        var DM5_PAGEPCOUNT = 4;        var DM5_POSTCOUNT=38;        var DM5_TIEBATOPICID=\\'825063\\';        var DM5_LOADIMAGEURL=\\'https://css99tel.cdndm5.com/v201808091405/blue/images/loading.gif\\';        var DM5_LOADIMAGEURLW=\\'https://css99tel.cdndm5.com/blue/images/newloading2.gif\\';        var DM5_LOADIMAGEURLWH=\\'https://css99tel.cdndm5.com/blue/images/newloading3.gif\\';        var DM5_LOADINGIMAGE=\\'https://css99tel.cdndm5.com/v201808091405/blue/images/loading.gif\\';        var DM5_READMODEL = 1;        var DM5_CURRENTFOCUS = 1;        var DM5_VIEWSIGN=\"7cd2288a52bd0efd36fe004d1d92be42\";        var DM5_VIEWSIGN_DT=\"2018-08-21 21:04:27\";        reseturl(window.location.href, DM5_CURL.substring(0, DM5_CURL.length - 1));    </script>    <style type=\"text/css\">        div.yddiv iframe {        position:relative !important;        }    </style></head><body class=\"white\">    <div class=\"view-header-2\" style=\"overflow:visible;position: inherit;\">        <a href=\"/manhua17241/\" class=\"back\">退出阅读</a>        <div class=\"title\">            <a href=\"/\">首页</a>            <span class=\"right-arrow\"><a href=\"/manhua17241/\" title=\"寄宿学校的朱丽叶\">寄宿学校的朱丽叶</a></span>            <span class=\"active right-arrow\">            第1话            </span>        </div>        <div class=\"right-bar\">            <div class=\"hover\">                <a href=\"javascript:void(0);\" class=\"avatar userbtn\" >                    <img data-isload=\"0\" class=\"header-avatar\" src=\"https://css99tel.cdndm5.com/blue/images/mrtx.gif\" />                </a>            </div>            <div class=\"hover\" style=\"margin-left: 30px;\">                <a href=\"/bookmarker/\" class=\"bookshelf\" data-isload=\"0\"  target=\"_blank\">书架</a>            </div>            <a href=\"javascript:void(0)\" class=\"collection\">收藏</a>            <div class=\"read-style-con\">                 <a href=\"javascript:void(0);\" class=\"read-style readmode\"  \" val=\"1\">阅读模式</a>                <div class=\"info read-style-info\"><p>仅VIP会员可使用</p>                    <p>切换至高级阅读模式</p><a href=\"/vipopen/\" target=\"_blank\">开通VIP会员</a>                </div>            </div>            <a href=\"javascript:void(0)\" class=\"phone\">手机上查看<span class=\"code\"><img src=\"https://css99tel.cdndm5.com/v201808091405/blue/images/manhua_pc_code_1.png\" /><p>扫码在手机上阅读</p></span></a>        </div>    </div>    <div class=\"new-tip normal\">本页内容由用户【鬣蜥】分享发布</div>        <div class=\"yddiv\" id=\"c11\"  style=\"margin-bottom: 0;margin-top: 5px;width:960px;height:90px;\"><script type=\"text/javascript\">getjscallback(\\'/wxh_asy.js?cid=2938&v=20180821140222&a=77&p=0\\',null,\\'c11\\',\\'0\\',\\'180\\');</script><script type=\"text/javascript\">var h = $(\"#c11\").width()*0.09375;$(\"#c11\").css(\"height\",h + \"px\");</script><script type=\"text/javascript\">addtogroup(180,0, 3365, \\'c11\\');</script></div>    <div class=\"view-ad\" style=\"margin-top: 5px;\">        <div class=\"container\">            <div class=\"view-ad-ct\">            </div>        </div>    </div>    <div class=\"view-paging\" style=\"margin-top:3px;\">        <div class=\"container\">            <a href=\"/other187685/\" class=\"block\" title=\"\">上一章</a>            <a href=\"javascript:ShowPre();\" class=\"block\">上一页</a>            <div class=\"chapterpager\" style=\"display: inline;\" id=\"chapterpager\"><span class=\"current\">1</span><a href=\"/ch1-209332-p2/\">2</a>   <a href=\"/ch1-209332-p3/\">3</a>   <a href=\"/ch1-209332-p4/\">4</a>   <a href=\"/ch1-209332-p5/\">5</a>   <a href=\"/ch1-209332-p6/\">6</a>   <a href=\"/ch1-209332-p7/\">7</a>   <a href=\"/ch1-209332-p8/\">8</a>   ...<a href=\"/ch1-209332-p50/\">50</a>   </div>            <a href=\"javascript:ShowNext();\" class=\"block\">下一页</a>            <a href=\"/ch2-218328/\" class=\"block\" title=\"\">下一章</a>        </div>    </div>        <div class=\"yddiv\" id=\"c12\" style=\"margin-bottom: 5px;overflow: hidden;width:960px;height:90px;\"><script type=\"text/javascript\">getjscallback(\\'/wxh_asy.js?cid=2939&v=20180821140222&a=77&p=0\\',null,\\'c12\\',\\'0\\',\\'181\\');</script><script type=\"text/javascript\">var h = $(\"#c12\").width()*0.09375;$(\"#c12\").css(\"height\",h + \"px\");</script><script type=\"text/javascript\">addtogroup(181,0, 3315, \\'c12\\');</script></div>        <div class=\"yddiv\" id=\"c13\" style=\"margin-bottom: 5px;margin-top: 5px;overflow: hidden;width:960px;height:90px;\"><script type=\"text/javascript\">getjscallback(\\'/wxh_asy.js?cid=2940&v=20180821140222&a=77&p=0\\',null,\\'c13\\',\\'0\\',\\'182\\');</script><script type=\"text/javascript\">var h = $(\"#c13\").width()*0.09375;$(\"#c13\").css(\"height\",h + \"px\");</script><script type=\"text/javascript\">addtogroup(182,0, 3316, \\'c13\\');</script></div>            <div class=\"view-main\" id=\"showimage\" oncontextmenu=\"return false;\" style=\"margin-top:5px;\">        <div class=\"item\" id=\"cp_img\" oncontextmenu=\"return false;\"></div>        <input type=\"hidden\" id=\"dm5_key\" value=\"\" />                <script type=\"text/javascript\">var strategyarea=\\'\\';var nav_lg=(navigator.systemLanguage||navigator.language || navigator.browserLanguage);var nav_lg_noshow=false;nav_lg=nav_lg.toLowerCase();if (nav_lg==\\'ja\\'||nav_lg==\\'ja-jp\\'){if(strategyarea.indexOf(\\'|51|\\')!=-1){ nav_lg_noshow=true;} }</script>        <script type=\"text/javascript\">            if (typeof (nav_lg_noshow) != \"undefined\" && nav_lg_noshow) {                var nav_lg_txt=\"<div class=\\\\\"warning-bar\\\\\"><img src=\\\\\"https://css99tel.cdndm5.com/v201808091405/blue/images/sd/warning.png\\\\\"><p><b>寄宿学校的朱丽叶漫画</b> 中有部份或全部章节数据缺少，导致情节不连续影响您正常观看，我们将对 <b>寄宿学校的朱丽叶漫画</b> 进行屏蔽处理，给您带来不便，敬请谅解！</p></div>\";                $(\\'#showimage\\').replaceWith(nav_lg_txt);            }            else            {                chapterload2(DM5_CID, DM5_CTITLE, DM5_CURL, DM5_CURL_END);            }        </script>    </div>        <div class=\"yddiv\" id=\"c14\" style=\"margin-bottom: 4px;margin-top: 5px;width:960px;height:90px;\"><script type=\"text/javascript\">getjscallback(\\'/wxh_asy.js?cid=2941&v=20180821140222&a=77&p=0\\',null,\\'c14\\',\\'0\\',\\'174\\');</script><script type=\"text/javascript\">var h = $(\"#c14\").width()*0.09375;$(\"#c14\").css(\"height\",h + \"px\");</script><script type=\"text/javascript\">addtogroup(174,0, 1277, \\'c14\\');</script></div>    <div class=\"view-paging\" style=\"margin-top:5px;\">        <div class=\"container\">            <a href=\"/other187685/\" class=\"block\" title=\"\">上一章</a>            <a href=\"javascript:ShowPre();\" class=\"block\">上一页</a>            <div class=\"chapterpager\" style=\"display: inline;\" id=\"chapterpager\"><span class=\"current\">1</span><a href=\"/ch1-209332-p2/\">2</a>   <a href=\"/ch1-209332-p3/\">3</a>   <a href=\"/ch1-209332-p4/\">4</a>   <a href=\"/ch1-209332-p5/\">5</a>   <a href=\"/ch1-209332-p6/\">6</a>   <a href=\"/ch1-209332-p7/\">7</a>   <a href=\"/ch1-209332-p8/\">8</a>   ...<a href=\"/ch1-209332-p50/\">50</a>   </div>            <a href=\"javascript:ShowNext();\" class=\"block\">下一页</a>            <a href=\"/ch2-218328/\" class=\"block\" title=\"\">下一章</a>        </div>    </div>    <div class=\"view-ad\" style=\"margin-top: 5px;\">        <div class=\"container\">            <div class=\"view-ad-ct\">            </div>        </div>    </div>            <div class=\"yddiv\" id=\"c16\" class=\"\" style=\"width:960px;height:90px;\"><script type=\"text/javascript\">getjscallback(\\'/wxh_asy.js?cid=2943&v=20180821140222&a=77&p=0\\',null,\\'c16\\',\\'0\\',\\'176\\');</script><script type=\"text/javascript\">var h = $(\"#c16\").width()*0.09375;$(\"#c16\").css(\"height\",h + \"px\");</script><script type=\"text/javascript\">addtogroup(176,0, 1279, \\'c16\\');</script></div>    <div class=\"view-comment\" style=\"position:relative;\">        <div class=\"container\" style=\"width:1180px;    overflow: visible;\">            <div style=\"float:left;width:858px;\">            <div class=\"view-comment-main\">                <div class=\"top\">                    <span>本章评论</span>                    <span class=\"s commentcount\" style=\"border-right:none\">(共有38条评论)</span>                    <div class=\"page bottom-page\" >                    </div>                </div>                <ul class=\"list\">                    <li class=\"solid\">                        <div class=\"cover\"><img src=\"https://css99tel.cdndm5.com/blue/images/mrtx.gif\" /></div>                        <div class=\"info\">                            <form id=\"form1\" name=\"form1\" class=\"chaptercommentform\" method=\"post\" action=\"/ch1-209332/\">                                <textarea class=\"comment-input js_max_text_length\" name=\"txt_recontent\" placeholder=\"我来说两句...\"></textarea>                                <p class=\"comment-item\">                                    <span class=\"right\"><span>请您文明上网，理性发言，注意文明用语</span><span class=\"red\"></span><span></span><a href=\"javascript:void(0);\" onclick=\"$(\\'#form1\\').submit();\" class=\"publish btn chaptercommentbtn\">发表评论</a></span>                                </p>                            </form></div>                    </li>                    <li>                        <ul class=\"postlist\">                        </ul>                    </li>                     <li class=\"solid\" style=\"margin-bottom: -1px;\">                        <div class=\"cover\"><img src=\"https://css99tel.cdndm5.com/blue/images/mrtx.gif\" /></div>                        <div class=\"info\">                            <form id=\"form2\" name=\"form2\" class=\"chaptercommentform\" method=\"post\" action=\"/ch1-209332/\">                                <textarea class=\"comment-input js_max_text_length\" name=\"txt_recontent\" placeholder=\"我来说两句...\"></textarea>                                <p class=\"comment-item\">                                    <span class=\"right\"><span>请您文明上网，理性发言，注意文明用语</span><span class=\"red\"></span><span></span><a href=\"javascript:void(0);\" onclick=\"$(\\'#form2\\').submit();\" class=\"publish btn chaptercommentbtn\">发表评论</a></span>                                </p>                            </form></div>                    </li>                </ul>                <div class=\"bottom-bar footer-bar\" style=\"display:none;\">                <div class=\"bottom-page\">                </div>            </div>            </div>                <div style=\"width: 920px;overflow: hidden;position: relative;left: -60px;padding-top: 20px;\">                <div class=\"yddiv\" id=\"c7\" style=\"overflow:hidden;float: left;margin:5px 0;margin-right: 10px;width:300px;height:250px;\"><iframe frameborder=\"no\" border=\"0\" marginwidth=\"0\" marginheight=\"0\" scrolling=\"no\" allowtransparency=\"yes\"  width=\"300px\" height=\"250px\" id=\"frame_2393\" src=\"/wxhfm.html?cid=2393&v=20180821140222&a=77&p=0\" class=\"fastrefresh\"></iframe><script type=\"text/javascript\">addtogroup(58,0, 809, \\'c7\\');</script></div>                <div class=\"yddiv\" id=\"c8\" style=\"overflow:hidden;float: left;margin:5px 0;margin-right: 10px;width:300px;height:250px;\"><iframe frameborder=\"no\" border=\"0\" marginwidth=\"0\" marginheight=\"0\" scrolling=\"no\" allowtransparency=\"yes\"  width=\"300px\" height=\"250px\" id=\"frame_2387\" src=\"/wxhfm.html?cid=2387&v=20180821140222&a=77&p=0\" class=\"fastrefresh\"></iframe><script type=\"text/javascript\">addtogroup(96,0, 184, \\'c8\\');</script></div>                <div class=\"yddiv\" id=\"c9\" style=\"overflow:hidden;float: left;margin:5px 0;width:300px;height:250px;\"><iframe frameborder=\"no\" border=\"0\" marginwidth=\"0\" marginheight=\"0\" scrolling=\"no\" allowtransparency=\"yes\"  width=\"300px\" height=\"250px\" id=\"frame_1470\" src=\"/wxhfm.html?cid=1470&v=20180821140222&a=77&p=0\" class=\"fastrefresh\"></iframe><script type=\"text/javascript\">addtogroup(144,0, 774, \\'c9\\');</script></div>                </div>            </div>            <div class=\"view-comment-sub\">                <!--<div class=\"code-bar\">                    <img class=\"code\" src=\"https://css99tel.cdndm5.com/v201808091405/blue/images/manhua_pc_code_1.png\" />                    <div class=\"info\">                        <p>扫一扫</p>                        <p>手机上阅读本作品</p>                    </div>                </div>-->                <div>                    <img src=\"https://css99tel.cdndm5.com/v201808091405/blue/images/view_code_ad.jpg\" />                </div>                <div class=\"sub-manga\">                    <div class=\"top\">相关作品</div>                    <ul class=\"list\">                            <li>                                <div class=\"cover\">                                    <a href=\"/manhua14701/\" title=\"不良少女不会唱歌\"><img src=\"https://mhfm5tel.cdndm5.com/15/14701/14701_c.jpg\" /></a>                                </div>                                <div class=\"info\">                                    <p class=\"title\"><a href=\"/manhua14701/\" title=\"不良少女不会唱歌\">不良少女不会唱歌</a></p>                                    <p class=\"subtitle-new\">                                        不良少女不会唱歌漫画 ，比男生还强悍的女汉子鬼咲悠...                                    </p>                                    <p class=\"tip\">                                        <span>评分:</span><span class=\"mh-star-line star-3\"></span>                                    </p>                                </div>                            </li>                            <li>                                <div class=\"cover\">                                    <a href=\"/manhua33944/\" title=\"单恋朱丽叶\"><img src=\"https://mhfm2tel.cdndm5.com/34/33944/20161128102709_130x174_10.jpg\" /></a>                                </div>                                <div class=\"info\">                                    <p class=\"title\"><a href=\"/manhua33944/\" title=\"单恋朱丽叶\">单恋朱丽叶</a></p>                                    <p class=\"subtitle-new\">                                        欢迎观看单恋朱丽叶漫画：如果向他搭话，会回过头；如...                                    </p>                                    <p class=\"tip\">                                        <span>评分:</span><span class=\"mh-star-line star-3\"></span>                                    </p>                                </div>                            </li>                            <li>                                <div class=\"cover\">                                    <a href=\"/manhua2985/\" title=\"Romeo×Juliet罗密欧朱丽叶\"><img src=\"https://mhfm5tel.cdndm5.com/3/2985/2985.jpg\" /></a>                                </div>                                <div class=\"info\">                                    <p class=\"title\"><a href=\"/manhua2985/\" title=\"Romeo×Juliet罗密欧朱丽叶\">Romeo×Juliet罗密欧朱丽叶</a></p>                                    <p class=\"subtitle-new\">                                        罗密欧是蒙太古家族大公的儿子，他对父亲的行为存在疑...                                    </p>                                    <p class=\"tip\">                                        <span>评分:</span><span class=\"mh-star-line star-3\"></span>                                    </p>                                </div>                            </li>                            <li>                                <div class=\"cover\">                                    <a href=\"/manhua31562/\" title=\"秘密的朱丽叶\"><img src=\"https://mhfm4tel.cdndm5.com/32/31562/20160828105725_130x174_13.jpg\" /></a>                                </div>                                <div class=\"info\">                                    <p class=\"title\"><a href=\"/manhua31562/\" title=\"秘密的朱丽叶\">秘密的朱丽叶</a></p>                                    <p class=\"subtitle-new\">                                        秘密的朱丽叶漫画 ，职业为刑警的树里在朋友的婚礼会...                                    </p>                                    <p class=\"tip\">                                        <span>评分:</span><span class=\"mh-star-line star-3\"></span>                                    </p>                                </div>                            </li>                            <li>                                <div class=\"cover\">                                    <a href=\"/manhua17243/\" title=\"朱丽叶的忧郁\"><img src=\"https://mhfm6tel.cdndm5.com/18/17243/20150118111654_130x174_6.jpg\" /></a>                                </div>                                <div class=\"info\">                                    <p class=\"title\"><a href=\"/manhua17243/\" title=\"朱丽叶的忧郁\">朱丽叶的忧郁</a></p>                                    <p class=\"subtitle-new\">                                        朱丽叶的忧郁漫画 ，在那之后 我从未停下 追寻你身影...                                    </p>                                    <p class=\"tip\">                                        <span>评分:</span><span class=\"mh-star-line star-2\"></span>                                    </p>                                </div>                            </li>                            <li>                                <div class=\"cover\">                                    <a href=\"/manhua18149/\" title=\"朱丽叶与朱丽叶\"><img src=\"https://mhfm2tel.cdndm5.com/19/18149/20150418105538_130x174_10.jpg\" /></a>                                </div>                                <div class=\"info\">                                    <p class=\"title\"><a href=\"/manhua18149/\" title=\"朱丽叶与朱丽叶\">朱丽叶与朱丽叶</a></p>                                    <p class=\"subtitle-new\">                                        朱丽叶与朱丽叶漫画 ，韩国百合短篇集。为什么没能吻...                                    </p>                                    <p class=\"tip\">                                        <span>评分:</span><span class=\"mh-star-line star-3\"></span>                                    </p>                                </div>                            </li>                            <li>                                <div class=\"cover\">                                    <a href=\"/manhua22302/\" title=\"再见了朱丽叶\"><img src=\"https://mhfm4tel.cdndm5.com/23/22302/20170818152749_130x174_12.jpg\" /></a>                                </div>                                <div class=\"info\">                                    <p class=\"title\"><a href=\"/manhua22302/\" title=\"再见了朱丽叶\">再见了朱丽叶</a></p>                                    <p class=\"subtitle-new\">                                        再见了朱丽叶漫画 ，月刊少年天狼星百合(?)新连载。\\r\\n...                                    </p>                                    <p class=\"tip\">                                        <span>评分:</span><span class=\"mh-star-line star-3\"></span>                                    </p>                                </div>                            </li>                            <li>                                <div class=\"cover\">                                    <a href=\"/manhua13156/\" title=\"朱丽叶X2\"><img src=\"https://mhfm1tel.cdndm5.com/14/13156/13156_c.jpg\" /></a>                                </div>                                <div class=\"info\">                                    <p class=\"title\"><a href=\"/manhua13156/\" title=\"朱丽叶X2\">朱丽叶X2</a></p>                                    <p class=\"subtitle-new\">                                        朱丽叶X2漫画 ，妳，正唱出什么样的歌声？\\r\\n……妳，...                                    </p>                                    <p class=\"tip\">                                        <span>评分:</span><span class=\"mh-star-line star-3\"></span>                                    </p>                                </div>                            </li>                    </ul>                </div>            </div>        </div>    </div>    <div class=\"view-mask\" id=\"last-mask\" style=\"display:none;z-index:900\"></div>     <div class=\"view-ad\" style=\"margin-top: 3px;\">        <div class=\"container\">             <!--                <div class=\"yddiv\" id=\"c7\" style=\"overflow:hidden;float: left;margin:5px 0;margin-right: 30px;width:300px;height:250px;\"><iframe frameborder=\"no\" border=\"0\" marginwidth=\"0\" marginheight=\"0\" scrolling=\"no\" allowtransparency=\"yes\"  width=\"300px\" height=\"250px\" id=\"frame_2393\" src=\"/wxhfm.html?cid=2393&v=20180821140222&a=77&p=0\" class=\"fastrefresh\"></iframe><script type=\"text/javascript\">addtogroup(58,0, 809, \\'c7\\');</script></div>                <div class=\"yddiv\" id=\"c8\" style=\"overflow:hidden;float: left;margin:5px 0;margin-right: 30px;width:300px;height:250px;\"><iframe frameborder=\"no\" border=\"0\" marginwidth=\"0\" marginheight=\"0\" scrolling=\"no\" allowtransparency=\"yes\"  width=\"300px\" height=\"250px\" id=\"frame_2074\" src=\"/wxhfm.html?cid=2074&v=20180821140222&a=77&p=0\" class=\"fastrefresh\"></iframe><script type=\"text/javascript\">addtogroup(96,0, 184, \\'c8\\');</script></div>                <div class=\"yddiv\" id=\"c9\" style=\"overflow:hidden;float: left;margin:5px 0;width:300px;height:250px;\"><iframe frameborder=\"no\" border=\"0\" marginwidth=\"0\" marginheight=\"0\" scrolling=\"no\" allowtransparency=\"yes\"  width=\"300px\" height=\"250px\" id=\"frame_1470\" src=\"/wxhfm.html?cid=1470&v=20180821140222&a=77&p=0\" class=\"fastrefresh\"></iframe><script type=\"text/javascript\">addtogroup(144,0, 774, \\'c9\\');</script></div>-->        </div>    </div>    <div class=\"view-mask\" id=\"last-mask\" style=\"display:none;\"></div>    <div class=\"view-win\" id=\"last-win\" style=\"display:none;z-index:900\">        <a href=\"javascript:void(0);\" onclick=\"$(\\'#last-mask\\').hide();$(\\'#last-win\\').hide();\"><img style=\"position: absolute;right: -32px;background-color: #fff;padding: 5px;top: 0;\" src=\"https://css99tel.cdndm5.com/v201808091405/blue/images/cross_red.png\" /></a>        <p class=\"title\">            <span class=\"view-voice\">您已经阅览完本章节</span>            <span class=\"right\">                <a href=\"javascript:void(0)\" class=\"view-code phone\">手机上阅读<span class=\"code\"><img src=\"https://css99tel.cdndm5.com/v201808091405/blue/images/manhua_pc_code_1.png\" /><span>扫码在手机上阅读</span></span></a>                <a href=\"javascript:void(0)\" class=\"view-collection collection\" >收藏</a>                <a href=\"/manhua17241/\" class=\"view-btn-back\">返回目录</a>                <a href=\"/ch2-218328/\" title=\"寄宿学校的朱丽叶 第2话\" class=\"view-btn-next\">阅览下一章节</a>            </span>        </p>        <a href=\"/vipopen/\" target=\"_blank\"><img class=\"banner\" src=\"https://css99tel.cdndm5.com/v201808091405/blue/images/view-win-img.png\" /></a>        <ul class=\"view-win-list\">                <li>                    <a href=\"/ch68-682713/\" title=\"第68话\">第68话</a>                </li>                <li>                    <a href=\"/ch67-682682/\" title=\"第67话\">第67话</a>                </li>                <li>                    <a href=\"/ch66-682656/\" title=\"第66话\">第66话</a>                </li>                <li>                    <a href=\"/ch65-650812/\" title=\"第65话\">第65话</a>                </li>                <li>                    <a href=\"/ch64-650811/\" title=\"第64话\">第64话</a>                </li>                <li>                    <a href=\"/ch63-633183/\" title=\"第63话\">第63话</a>                </li>                <li>                    <a href=\"/ch62-630605/\" title=\"第62话\">第62话</a>                </li>                <li>                    <a href=\"/ch61-630604/\" title=\"第61话\">第61话</a>                </li>                <li>                    <a href=\"/ch60-624260/\" title=\"第60话\">第60话</a>                </li>        </ul>    </div>    <div class=\"rightToolBar\">        <a href=\"/other187685/\" title=\"短篇\" class=\"logo_1\"><div class=\"tip\">上一话</div></a>        <a href=\"/ch2-218328/\" title=\"第2话\" class=\"logo_2\"><div class=\"tip\">下一话</div></a>        <a href=\"javascript:void(0);\" onclick=\"setautosize(this);resetimagesize();\" title=\"自适应\" class=\"logo_3 \"><div class=\"tip\">自适应</div></a>        <a href=\"javascript:void(0);\" class=\"logo_4 view-collection collection\" title=\"收藏\"><div class=\"tip\">收藏</div></a>        <a href=\"javascript:switchlight();\" class=\"logo_5\"><div class=\"tip\" id=\"lightTip\">关灯</div></a>    </div> <footer class=\"footer container-fluid\">     <section class=\"container\">         <div class=\"footer-left\">             <p class=\"footer-logo\">                 <a href=\"/\">                     <img src=\"https://css99tel.cdndm5.com/v201808091405/blue/images/logo-big.png\" alt=\"\">                 </a>             </p>             <p class=\"link\">                 <span><a href=\"/about/\" target=\"_blank\">关于我们</a></span>                 <span><a href=\"/coomperation/\" target=\"_blank\">商务合作</a></span>                 <span><a href=\"/help/\" target=\"_blank\">建议与投诉</a></span>                 <span><a href=\"/mianze/\" target=\"_blank\">版权声明</a></span>             </p>             <p>                 Copyright (C) 2010-2020 www.1kkk.com 极速漫画 All rights reserved             </p>             <p>                 文网文：浙网文[2015]0289-059号 网站备案：浙ICP备09075556号-4             </p>         </div>         <div class=\"footer-rigth\">             <ul class=\"qrcode-list\">                 <li>                     <img width=\"100\" height=\"100\" src=\"https://css99tel.cdndm5.com/v201808091405/blue/images/down-qrcode-2.png\" alt=\"\">                     <span>手机APP</span>                 </li>                 <li>                     <img width=\"100\" height=\"100\" src=\"https://css99tel.cdndm5.com/v201808091405/blue/images/weibo.png\" alt=\"\">                     <span>新浪微博</span>                 </li>             </ul>         </div>     </section> </footer>    <div class=\"alertTop_1\" style=\"display: none;\"><p id=\"alertTop_1\"></p></div>    <script type=\"text/javascript\">        function getTextCount(item){            $(item).parent().find(\\'.red\\').text(180-$(item).val().length);        }    </script>    <section class=\"modal-wrap\" style=\"display: none;z-index:1000\">    <div class=\"modal\">        <div class=\"modal-body login-modal\">            <span class=\"close\"><i class=\"icon icon-close\"></i></span>            <h1>登录</h1>            <div class=\"account-login-form\">                <div class=\"form-wrap\">                    <p class=\"tip color-main\"></p>                    <p><input name=\"txt_name\" type=\"text\" autocomplete=\"off\" value=\"\" placeholder=\"您的手机号／邮箱／用户名\"></p>                    <p style=\"margin-bottom:15px;\"><input name=\"txt_password\" type=\"password\" autocomplete=\"off\" value=\"\" placeholder=\"密码\"></p>                    <p class=\"verify\">                        <div style=\"width:400px;padding:0;overflow:hidden;margin-bottom:10px;font-size:14px;display:block;\">                            <div style=\"color:#555;height:16px;line-height:16px;margin:0 1px 8px;position:relative\">                                <label style=\"font-size:14px;opacity:1;position:absolute;transform:translate(0px, 0px);transition:all 0.25s ease-out 0s;vertical-align:baseline\">请点击下方图片，旋转至正确方向</label>                                <a class=\"rotate-refresh\" style=\"background-position: 0% -76px;cursor:pointer;position:absolute;right:0;top:0;color:#1a66b3;text-decoration:none\">换一组</a>                            </div>                            <div class=\"rotate-background\" style=\"cursor:pointer;float:left; background-position: 0px 0px;background-repeat:no-repeat;margin:0 1px 0;height:76px;width:76px;display:block;\">                                <input type=\"hidden\" value=\"0\" />                            </div>                            <div class=\"rotate-background\" style=\"cursor:pointer;float:left; background-position: -76px 0px;background-repeat:no-repeat;margin:0 1px 0;height:76px;width:76px;display:block;\">                                <input type=\"hidden\" value=\"0\" />                            </div>                            <div class=\"rotate-background\" style=\"cursor:pointer;float:left; background-position: -152px 0px;background-repeat:no-repeat;margin:0 1px 0;height:76px;width:76px;display:block;\">                                <input type=\"hidden\" value=\"0\" />                            </div>                            <div class=\"rotate-background\" style=\"cursor:pointer;float:left; background-position: -228px 0px;background-repeat:no-repeat;margin:0 1px 0;height:76px;width:76px;display:block;\">                                <input type=\"hidden\" value=\"0\" />                            </div>                        </div>                        <input type=\"hidden\" name=\"txt_code\" style=\"display:none\" />                    </p>                    <p>                        <button id=\"btnLogin\" class=\"button\">立即登录</button>                    </p>                    <p class=\"options\">                        <label><input name=\"remember\" type=\"checkbox\" value=\"1\">自动登录</label>                        <span class=\"find-pwd\"><a href=\"/back/\">忘记密码？</a></span>                        <span class=\"tabs-link pull-right\"><a class=\"\" href=\"/register/\">去注册</a></span>                    </p>                </div>                <dl class=\"three\" style=\"display:none\">                    <dt>其他账号登录</dt>                    <dd><span><img src=\"https://css99tel.cdndm5.com/v201808091405/blue/images/account-icon-facebook.png\" alt=\"\"></span></dd>                    <dd><span><img src=\"https://css99tel.cdndm5.com/v201808091405/blue/images/account-icon-vk.png\" alt=\"\"></span></dd>                    <dd><span><img src=\"https://css99tel.cdndm5.com/v201808091405/blue/images/account-icon-ok.png\" alt=\"\"></span></dd>                    <dd><span><img src=\"https://css99tel.cdndm5.com/v201808091405/blue/images/account-icon-instagram.png\" alt=\"\"></span></dd>                    <dd><span><img src=\"https://css99tel.cdndm5.com/v201808091405/blue/images/account-icon-twitter.png\" alt=\"\"></span></dd>                    <dd><span><img src=\"https://css99tel.cdndm5.com/v201808091405/blue/images/account-icon-rss.png\" alt=\"\"></span></dd>                </dl>            </div>        </div>    </div>    </section>        <script type=\"text/javascript\">if(adLimit)adLimit();function adjs() {}</script>        <script type=\"text/javascript\">        $(document.body).resize(function (e) {            adjs();        });        </script>      <script type=\"text/javascript\">        var mh_apkhost = \"\";        if($(\\'body\\').hasClass(\\'white\\')){$(\\'.mato5\\').css({ color: \\'#252525\\' });}else{$(\\'.mato5\\').css({ color: \\'#ffffff\\' });}          function switchlight() {              $(\\'body\\').toggleClass(\\'white\\');              if ($(\\'body\\').hasClass(\\'white\\')) {                  $.cookie(\\'isLight\\', \\'on\\', { path: \\'/\\', expires: 365 });                  $(\\'.mato5\\').css({ color: \\'#252525\\' });                  $(\\'#lightTip\\').text(\\'关灯\\');              } else {                  $.cookie(\\'isLight\\', \\'off\\', { path: \\'/\\', expires: 365 });                  $(\\'.mato5\\').css({color:\\'#ffffff\\'});                  $(\\'#lightTip\\').text(\\'开灯\\');              }          }      </script>           <div style=\"display:none\">        <!--1kkk-->\\r\\n<script type=\"text/javascript\">\\r\\n        (function () {\\r\\n            var ga = document.createElement(\\'script\\'); ga.type = \\'text/javascript\\'; ga.async = true;\\r\\n            ga.src =(\\'https:\\' == document.location.protocol ? \\'https://\\' : \\'http://\\') + \"w.cnzz.com/c.php?id=30046992\";\\r\\n            var s = document.getElementsByTagName(\\'script\\')[0]; s.parentNode.insertBefore(ga, s);\\r\\n        })();\\r\\n    </script><script type=\"text/javascript\">\\r\\n\\r\\n  var _gaq = _gaq || [];\\r\\n  _gaq.push([\\'_setAccount\\', \\'UA-27601854-1\\']);\\r\\n  _gaq.push([\\'_setDomainName\\', \\'none\\']);\\r\\n  _gaq.push([\\'_setAllowLinker\\', true]);\\r\\n  _gaq.push([\\'_trackPageview\\']);\\r\\n\\r\\n  (function() {\\r\\n    var ga = document.createElement(\\'script\\'); ga.type = \\'text/javascript\\'; ga.async = true;\\r\\n    ga.src = (\\'https:\\' == document.location.protocol ? \\'https://ssl\\' : \\'http://www\\') + \\'.google-analytics.com/ga.js\\';\\r\\n    var s = document.getElementsByTagName(\\'script\\')[0]; s.parentNode.insertBefore(ga, s);\\r\\n  })();\\r\\n\\r\\n</script><script type=\"text/javascript\">\\r\\n        (function () {\\r\\n            var ga = document.createElement(\\'script\\'); ga.type = \\'text/javascript\\'; ga.async = true;\\r\\n            ga.src = (\\'https:\\' == document.location.protocol ? \\'https://\\' : \\'http://\\')+\"w.cnzz.com/c.php?id=1258752048\";\\r\\n            var s = document.getElementsByTagName(\\'script\\')[0]; s.parentNode.insertBefore(ga, s);\\r\\n        })();\\r\\n    </script><script>\\r\\n(function(){\\r\\n    var bp = document.createElement(\\'script\\');\\r\\n    var curProtocol = window.location.protocol.split(\\':\\')[0];\\r\\n    if (curProtocol === \\'https\\'){\\r\\n   bp.src = \\'https://zz.bdstatic.com/linksubmit/push.js\\';\\r\\n  }\\r\\n  else{\\r\\n  bp.src = \\'http://push.zhanzhang.baidu.com/push.js\\';\\r\\n  }\\r\\n    var s = document.getElementsByTagName(\"script\")[0];\\r\\n    s.parentNode.insertBefore(bp, s);\\r\\n})();\\r\\n</script><script type=\"text/javascript\"> \\r\\n(function () {\\r\\n    var ga = document.createElement(\\'script\\');\\r\\n    ga.type = \\'text/javascript\\';\\r\\n    ga.async = true;\\r\\n    ga.src = (\\'https:\\' == document.location.protocol ? \\'https://\\' : \\'http://\\')+\"w.cnzz.com/c.php?id=1258880908\";\\r\\n    var s = document.getElementsByTagName(\\'script\\')[0];\\r\\n    s.parentNode.insertBefore(ga, s);\\r\\n    })();\\r\\n        </script><script type=\"text/javascript\">\\r\\n        (function () {\\r\\n            var ga = document.createElement(\\'script\\'); ga.type = \\'text/javascript\\'; ga.async = true;\\r\\n            ga.src =(\\'https:\\' == document.location.protocol ? \\'https://\\' : \\'http://\\')+\"w.cnzz.com/c.php?id=1261430601\";\\r\\n            var s = document.getElementsByTagName(\\'script\\')[0]; s.parentNode.insertBefore(ga, s);\\r\\n        })();\\r\\n    </script>    </div>    <script src=\"https://css99tel.cdndm5.com/v201808091405/blue/js/ad_360_view_20180104.js\"></script><script type=\"text/javascript\">    $(window).scroll(function(){        if($(window).scrollTop() + $(window).height() > $(\\'.view-comment\\').offset().top + $(\\'.view-comment-sub\\').height() + 20){            if($(window).scrollTop() + $(window).height() > $(document).height() - $(\\'footer\\').height() - 78){                $(\\'.view-comment\\').css(\\'min-height\\',$(\\'.view-comment-sub\\').height() + \\'px\\');                $(\\'.view-comment-sub\\').css({\\'position\\': \\'absolute\\',\\'left\\': \\'50%\\',\\'margin-left\\': \\'300px\\',\\'bottom\\': \\'20px\\'});            }            else{                $(\\'.view-comment\\').css(\\'min-height\\',$(\\'.view-comment-sub\\').height() + \\'px\\');                $(\\'.view-comment-sub\\').css({\\'position\\': \\'fixed\\',\\'left\\': \\'50%\\',\\'margin-left\\': \\'300px\\',\\'bottom\\': \\'20px\\'});            }        }else{            $(\\'.view-comment-sub\\').css({\\'position\\': \\'relative\\',\\'left\\': \\'0\\',\\'margin-left\\': \\'0\\',\\'bottom\\': \\'0\\'});        }    });</script></body></html>'"
      ]
     },
     "execution_count": 134,
     "metadata": {},
     "output_type": "execute_result"
    }
   ],
   "source": [
    "res.text"
   ]
  },
  {
   "cell_type": "code",
   "execution_count": 114,
   "metadata": {},
   "outputs": [],
   "source": [
    "def save_image(img_url, order, save_path):\n",
    "    img_response = htmlsession.get(img_url, headers=headers)\n",
    "    with open(os.path.join(save_path, '%d.jpg' % order), 'ab') as f:\n",
    "        f.write(img_response.content)"
   ]
  },
  {
   "cell_type": "code",
   "execution_count": 118,
   "metadata": {},
   "outputs": [],
   "source": [
    "save_image(url_page, index, \"E:/\")"
   ]
  }
 ],
 "metadata": {
  "kernelspec": {
   "display_name": "Python 3",
   "language": "python",
   "name": "python3"
  },
  "language_info": {
   "codemirror_mode": {
    "name": "ipython",
    "version": 3
   },
   "file_extension": ".py",
   "mimetype": "text/x-python",
   "name": "python",
   "nbconvert_exporter": "python",
   "pygments_lexer": "ipython3",
   "version": "3.6.4"
  }
 },
 "nbformat": 4,
 "nbformat_minor": 2
}
