{
 "cells": [
  {
   "cell_type": "markdown",
   "metadata": {},
   "source": [
    "# Redis\n",
    "+ 安装命令: sudo apt-get install redis\n",
    "+ 进入client命令: redis-cli\n",
    "\n",
    "## Redis字符串(String)相关操作\n",
    "+ set --设置值\n",
    "+ get --获取值\n",
    "+ mset --设置多个值\n",
    "+ mget --获取多个值\n",
    "+ append --在原有字符串后添加字符串\n",
    "+ del --删除\n",
    "+ incr/decr --增加/减少1\n",
    "\n",
    "## Redis列表(List)相关操作\n",
    "+ lpush/rpush --从List的左/右插入(如果key不存在会新建key)\n",
    "+ llen --获取List长度\n",
    "+ lrange --获取指定长度的信息\n",
    "+ ltrim --截取一定长度的数据\n",
    "+ lpop/rpop --从左/右移除数据并返回\n",
    "+ lpushx/rpushx --如果key不存在就不进行push操作(对应lpush/rpush)\n",
    "\n",
    "## Redis集合(Set)相关操作\n",
    "+ sadd/srem --添加/删除元素\n",
    "+ sismember --判断是否为set的一个元素\n",
    "+ smembers --返回该set的所有元素\n",
    "+ sdiff --返回一个集合与其他集合的差异\n",
    "+ sinter --返回几个集合的交集\n",
    "+ sunion --返回几个集合的并集\n",
    "\n",
    "## Redis散列(Hash)相关操作\n",
    "+ hset/hget --设置/获取散列值\n",
    "+ hmset/hmget --设置/获取多对散列值\n",
    "+ hsetnx --如果散列已经存在, 则不设置\n",
    "+ hkeys/hvals --返回所有keys/values\n",
    "+ hlen --返回散列包含域(field)的数量\n",
    "+ hdel --删除散列制定的域(field)\n",
    "+ hexists --判断是否存在"
   ]
  },
  {
   "cell_type": "markdown",
   "metadata": {},
   "source": [
    "# python操作Redis\n",
    "+ pip install redispy"
   ]
  },
  {
   "cell_type": "code",
   "execution_count": 5,
   "metadata": {},
   "outputs": [],
   "source": [
    "import redis"
   ]
  },
  {
   "cell_type": "markdown",
   "metadata": {},
   "source": [
    "## python-redis字符串(string)操作"
   ]
  },
  {
   "cell_type": "code",
   "execution_count": 25,
   "metadata": {},
   "outputs": [],
   "source": [
    "class TestString():\n",
    "    \n",
    "    def __init__(self):\n",
    "        self.r = redis.StrictRedis(host='127.0.0.1', port=6379, db=0)\n",
    "    \n",
    "    def test_set(self):\n",
    "        res = self.r.set('user2', 'Amy2222')\n",
    "        return res\n",
    "    \n",
    "    def test_get(self):\n",
    "        res = self.r.get('user2')\n",
    "        return res\n",
    "    \n",
    "    def test_mset(self):\n",
    "        ''' 设置多个值 '''\n",
    "        d = {\n",
    "            'user3': 'Bob1', \n",
    "            'user4': 'Bob2', \n",
    "        }\n",
    "        res = self.r.mset(d)\n",
    "        return res\n",
    "    \n",
    "    def test_mget(self):\n",
    "        ''' 查找多个值 '''\n",
    "        l = ['user3', 'user4', 'user2']\n",
    "        res = self.r.mget(l)\n",
    "        return res\n",
    "    \n",
    "    def test_del(self):\n",
    "        ''' 删除值 '''\n",
    "        res = self.r.delete('user2')\n",
    "        return res"
   ]
  },
  {
   "cell_type": "markdown",
   "metadata": {},
   "source": [
    "## python-redis列表(list)操作"
   ]
  },
  {
   "cell_type": "code",
   "execution_count": 55,
   "metadata": {},
   "outputs": [],
   "source": [
    "class TestList():\n",
    "    \n",
    "    def __init__(self):\n",
    "        self.r = redis.StrictRedis(host='127.0.0.1', port=6379, db=0)\n",
    "    \n",
    "    def test_push(self):\n",
    "        ''' lpush/rpush '''\n",
    "        t = ['Amy', 'Bob', 'John']\n",
    "        res = self.r.lpush('l_eat', *t)\n",
    "        print(res)\n",
    "        res = self.r.lrange('l_eat', 0, -1)\n",
    "        print(res)\n",
    "        \n",
    "        t = ['Amy', 'Bob', 'John']\n",
    "        res = self.r.rpush('r_eat', *t)\n",
    "        print(res)\n",
    "        res = self.r.lrange('r_eat', 0, -1)\n",
    "        print(res)\n",
    "    \n",
    "    def test_pop(self):\n",
    "        ''' lpop/rpop '''\n",
    "        res = self.r.lpop('l_eat')\n",
    "        print(res)\n",
    "        res = self.r.lrange('l_eat', 0, -1)\n",
    "        print(res)\n",
    "        res = self.r.rpop('l_eat')\n",
    "        print(res)\n",
    "        res = self.r.lrange('l_eat', 0, -1)\n",
    "        print(res)"
   ]
  },
  {
   "cell_type": "markdown",
   "metadata": {},
   "source": [
    "## python-redis集合(set)操作"
   ]
  },
  {
   "cell_type": "code",
   "execution_count": 57,
   "metadata": {},
   "outputs": [],
   "source": [
    "class Base():\n",
    "    def __init__(self):\n",
    "        self.r = redis.StrictRedis(host='127.0.0.1', port=6379, db=0)"
   ]
  },
  {
   "cell_type": "code",
   "execution_count": 73,
   "metadata": {},
   "outputs": [],
   "source": [
    "class TestSet(Base):\n",
    "    \n",
    "    def test_sadd(self):\n",
    "        ''' 添加元素 '''\n",
    "        l = ['Cat3', 'Cat4', 'Cat666']\n",
    "        res = self.r.sadd('zoo1', *l)\n",
    "        print(res)\n",
    "        res = self.r.smembers('zoo1')\n",
    "        print(res)\n",
    "    \n",
    "    def test_srem(self):\n",
    "        ''' 删除元素 '''\n",
    "        res = self.r.srem('zoo', 'Cat2')\n",
    "        print(res)\n",
    "        res = self.r.smembers('zoo')\n",
    "        print(res)\n",
    "    \n",
    "    def test_sinter(self):\n",
    "        ''' 取交集 '''\n",
    "        print(self.r.smembers('zoo'))\n",
    "        print(self.r.smembers('zoo1'))\n",
    "        res = self.r.sinter('zoo', 'zoo1')\n",
    "        print(res)\n",
    "    \n",
    "    def test_sunion(self):\n",
    "        ''' 取补集 '''\n",
    "        print(self.r.smembers('zoo'))\n",
    "        print(self.r.smembers('zoo1'))\n",
    "        res = self.r.sunion('zoo', 'zoo1')\n",
    "        print(res)"
   ]
  },
  {
   "cell_type": "code",
   "execution_count": 74,
   "metadata": {},
   "outputs": [
    {
     "name": "stdout",
     "output_type": "stream",
     "text": [
      "{b'Dog', b'Cat4', b'Cat3', b'keys'}\n",
      "{b'Cat3', b'Cat4', b'Cat', b'Cat666', b'Cow'}\n",
      "{b'Cat3', b'keys', b'Dog', b'Cat4', b'Cow', b'Cat666', b'Cat'}\n"
     ]
    }
   ],
   "source": [
    "obj = TestSet()\n",
    "obj.test_sunion()"
   ]
  }
 ],
 "metadata": {
  "kernelspec": {
   "display_name": "Python 3",
   "language": "python",
   "name": "python3"
  },
  "language_info": {
   "codemirror_mode": {
    "name": "ipython",
    "version": 3
   },
   "file_extension": ".py",
   "mimetype": "text/x-python",
   "name": "python",
   "nbconvert_exporter": "python",
   "pygments_lexer": "ipython3",
   "version": "3.6.4"
  }
 },
 "nbformat": 4,
 "nbformat_minor": 2
}
