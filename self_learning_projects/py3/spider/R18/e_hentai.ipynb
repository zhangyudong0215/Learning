{
 "cells": [
  {
   "cell_type": "code",
   "execution_count": 15,
   "metadata": {},
   "outputs": [],
   "source": [
    "from requests_html import HTMLSession\n",
    "import requests\n",
    "import time\n",
    "import regex as re\n",
    "from functools import partial, reduce\n",
    "import requests"
   ]
  },
  {
   "cell_type": "code",
   "execution_count": 6,
   "metadata": {},
   "outputs": [],
   "source": [
    "proxies = { \n",
    "    \"http\": \"127.0.0.1:1080\", \n",
    "    \"https\": \"https://127.0.0.1:1080\", \n",
    "}   "
   ]
  },
  {
   "cell_type": "code",
   "execution_count": 117,
   "metadata": {},
   "outputs": [],
   "source": [
    "session = HTMLSession()\n",
    "url = 'https://e-hentai.org/g/1213796/de0b7cdc6c/'"
   ]
  },
  {
   "cell_type": "code",
   "execution_count": 118,
   "metadata": {},
   "outputs": [],
   "source": [
    "responses = []"
   ]
  },
  {
   "cell_type": "code",
   "execution_count": 119,
   "metadata": {},
   "outputs": [],
   "source": [
    "get_html = partial(session.get, proxies=proxies)"
   ]
  },
  {
   "cell_type": "code",
   "execution_count": 120,
   "metadata": {},
   "outputs": [],
   "source": [
    "res = get_html(url)"
   ]
  },
  {
   "cell_type": "code",
   "execution_count": 121,
   "metadata": {},
   "outputs": [],
   "source": [
    "temp = res.html.find('h1.gj', first=True)"
   ]
  },
  {
   "cell_type": "code",
   "execution_count": 122,
   "metadata": {},
   "outputs": [
    {
     "data": {
      "text/plain": [
       "NoneType"
      ]
     },
     "execution_count": 122,
     "metadata": {},
     "output_type": "execute_result"
    }
   ],
   "source": [
    "type(temp)"
   ]
  },
  {
   "cell_type": "code",
   "execution_count": 123,
   "metadata": {},
   "outputs": [],
   "source": [
    "import requests\n",
    "from bs4 import BeautifulSoup\n",
    "response = requests.get(url, proxies=proxies).text\n",
    "soup = BeautifulSoup(response, 'lxml')"
   ]
  },
  {
   "cell_type": "code",
   "execution_count": 130,
   "metadata": {},
   "outputs": [],
   "source": [
    "def get_title(url, proxies):\n",
    "    response = requests.get(url, proxies=proxies).text\n",
    "    soup = BeautifulSoup(response, 'lxml')\n",
    "    return soup.find('h1', attrs={'id': 'gj'}).text"
   ]
  },
  {
   "cell_type": "code",
   "execution_count": 131,
   "metadata": {},
   "outputs": [
    {
     "data": {
      "text/plain": [
       "'(C91) [ひとのふんどし (ゆきよし真水)] 夏期補習総集編1～6+ [中国翻訳]'"
      ]
     },
     "execution_count": 131,
     "metadata": {},
     "output_type": "execute_result"
    }
   ],
   "source": [
    "get_title(url, proxies)"
   ]
  },
  {
   "cell_type": "code",
   "execution_count": 125,
   "metadata": {},
   "outputs": [],
   "source": [
    "anchorTag = soup.find('h1', attrs={'id': 'gj'})"
   ]
  },
  {
   "cell_type": "code",
   "execution_count": 127,
   "metadata": {},
   "outputs": [
    {
     "data": {
      "text/plain": [
       "'(C91) [ひとのふんどし (ゆきよし真水)] 夏期補習総集編1～6+ [中国翻訳]'"
      ]
     },
     "execution_count": 127,
     "metadata": {},
     "output_type": "execute_result"
    }
   ],
   "source": [
    "anchorTag.text"
   ]
  },
  {
   "cell_type": "code",
   "execution_count": 114,
   "metadata": {},
   "outputs": [
    {
     "ename": "AttributeError",
     "evalue": "'NoneType' object has no attribute 'text'",
     "output_type": "error",
     "traceback": [
      "\u001b[1;31m---------------------------------------------------------------------------\u001b[0m",
      "\u001b[1;31mAttributeError\u001b[0m                            Traceback (most recent call last)",
      "\u001b[1;32m<ipython-input-114-c1eab6c669be>\u001b[0m in \u001b[0;36m<module>\u001b[1;34m()\u001b[0m\n\u001b[1;32m----> 1\u001b[1;33m \u001b[0mget_title\u001b[0m\u001b[1;33m(\u001b[0m\u001b[0mres\u001b[0m\u001b[1;33m)\u001b[0m\u001b[1;33m\u001b[0m\u001b[0m\n\u001b[0m",
      "\u001b[1;32m<ipython-input-87-5a239d0d8b10>\u001b[0m in \u001b[0;36mget_title\u001b[1;34m(res)\u001b[0m\n\u001b[0;32m      1\u001b[0m \u001b[1;32mdef\u001b[0m \u001b[0mget_title\u001b[0m\u001b[1;33m(\u001b[0m\u001b[0mres\u001b[0m\u001b[1;33m)\u001b[0m\u001b[1;33m:\u001b[0m\u001b[1;33m\u001b[0m\u001b[0m\n\u001b[1;32m----> 2\u001b[1;33m     \u001b[1;32mreturn\u001b[0m \u001b[0mres\u001b[0m\u001b[1;33m.\u001b[0m\u001b[0mhtml\u001b[0m\u001b[1;33m.\u001b[0m\u001b[0mfind\u001b[0m\u001b[1;33m(\u001b[0m\u001b[1;34m'h1.gn'\u001b[0m\u001b[1;33m,\u001b[0m \u001b[0mfirst\u001b[0m\u001b[1;33m=\u001b[0m\u001b[1;32mTrue\u001b[0m\u001b[1;33m)\u001b[0m\u001b[1;33m.\u001b[0m\u001b[0mtext\u001b[0m\u001b[1;33m\u001b[0m\u001b[0m\n\u001b[0m",
      "\u001b[1;31mAttributeError\u001b[0m: 'NoneType' object has no attribute 'text'"
     ]
    }
   ],
   "source": [
    "get_title(res)"
   ]
  },
  {
   "cell_type": "code",
   "execution_count": 29,
   "metadata": {},
   "outputs": [],
   "source": [
    "responses.append(res)"
   ]
  },
  {
   "cell_type": "code",
   "execution_count": 25,
   "metadata": {},
   "outputs": [
    {
     "name": "stdout",
     "output_type": "stream",
     "text": [
      "https://e-hentai.org/g/1213796/de0b7cdc6c/?p=3\n",
      "https://e-hentai.org/g/1213796/de0b7cdc6c/?p=2\n",
      "https://e-hentai.org/g/1213796/de0b7cdc6c/?p=1\n"
     ]
    }
   ],
   "source": [
    "def get_page_urls(res):\n",
    "    pattern_page = re.compile('\\?p=\\d+$')\n",
    "    return [url for url in res.html.absolute_links if pattern_page.search(url)]"
   ]
  },
  {
   "cell_type": "code",
   "execution_count": 31,
   "metadata": {},
   "outputs": [],
   "source": [
    "page_urls = get_page_urls(res)"
   ]
  },
  {
   "cell_type": "code",
   "execution_count": 36,
   "metadata": {},
   "outputs": [],
   "source": [
    "def merge(list1, list2):\n",
    "    list1.extend(list2)\n",
    "    return list1"
   ]
  },
  {
   "cell_type": "code",
   "execution_count": 39,
   "metadata": {},
   "outputs": [],
   "source": [
    "def get_tail(url):\n",
    "    return int(url.split('-')[-1])"
   ]
  },
  {
   "cell_type": "code",
   "execution_count": 50,
   "metadata": {},
   "outputs": [],
   "source": [
    "imgs = []"
   ]
  },
  {
   "cell_type": "code",
   "execution_count": 53,
   "metadata": {},
   "outputs": [],
   "source": [
    "def get_all_html(page_urls, responses):\n",
    "    responses.extend(list(map(get_html, page_urls)))"
   ]
  },
  {
   "cell_type": "code",
   "execution_count": 54,
   "metadata": {},
   "outputs": [],
   "source": [
    "get_all_html(page_urls, responses)"
   ]
  },
  {
   "cell_type": "code",
   "execution_count": 64,
   "metadata": {},
   "outputs": [],
   "source": [
    "def get_page_img_urls(res, imgs_urls, pattern_imgs):\n",
    "    curPageImgsUrl = [url for url in res.html.absolute_links if pattern_imgs.search(url)]\n",
    "    imgs_urls.extend(curPageImgsUrl)"
   ]
  },
  {
   "cell_type": "code",
   "execution_count": 65,
   "metadata": {},
   "outputs": [],
   "source": [
    "def get_img_urls(responses):\n",
    "    pattern_imgs = re.compile('-\\d+$')\n",
    "    imgs_urls = []\n",
    "    for res in responses:\n",
    "        get_page_img_urls(res, imgs_urls, pattern_imgs)\n",
    "    imgs_urls.sort(key=get_tail)\n",
    "    return imgs_urls"
   ]
  },
  {
   "cell_type": "code",
   "execution_count": 62,
   "metadata": {},
   "outputs": [],
   "source": [
    "imgs_urls = get_img_urls(responses)"
   ]
  },
  {
   "cell_type": "code",
   "execution_count": 134,
   "metadata": {},
   "outputs": [],
   "source": [
    "def save_image(img_url, order):\n",
    "    img_response = requests.get(img_url)\n",
    "    with open('E:/ZYD/spider/177test/%d.jpg' %order, 'ab') as f:\n",
    "        f.write(img_response.content)\n",
    "\n",
    "def download(imgs_urls):\n",
    "    for index, img_url in enumerate(imgs_urls):\n",
    "        save_image(img_url, index+1)"
   ]
  },
  {
   "cell_type": "code",
   "execution_count": 135,
   "metadata": {},
   "outputs": [],
   "source": [
    "def save_image(img_url, order, save_path, proxies):\n",
    "    response = requests.get(img_url, proxies=proxies).text\n",
    "    time.sleep(2)\n",
    "    soup = BeautifulSoup(response, 'lxml')\n",
    "    img_url = soup.find('img', attrs={'id': 'img'})['src']\n",
    "    img_response = requests.get(img_url, proxies=proxies)\n",
    "    time.sleep(2)\n",
    "    with open(os.path.join(save_path, '%d.jpg' %order), 'ab') as f:\n",
    "        f.write(img_response.content)"
   ]
  },
  {
   "cell_type": "code",
   "execution_count": 140,
   "metadata": {},
   "outputs": [],
   "source": [
    "res = get_html('https://e-hentai.org/s/996b21214e/1213796-35')"
   ]
  },
  {
   "cell_type": "code",
   "execution_count": 148,
   "metadata": {},
   "outputs": [
    {
     "data": {
      "text/plain": [
       "'(C91) [Hito no Fundoshi (Yukiyoshi Mamizu)] Kaki Hoshuu Soushuuhen 1~6+ [Chinese] [漢化組漢化組×Foxglove]\\nfunction popUp(URL,w,h) { window.open(URL,\"_pu\"+(Math.random()+\"\").replace(/0\\\\./,\"\"),\"toolbar=0,scrollbars=0,location=0,statusbar=0,menubar=0,resizable=0,width=\"+w+\",height=\"+h+\",left=\"+((screen.width-w)/2)+\",top=\"+((screen.height-h)/2)); return false; }\\n(C91) [Hito no Fundoshi (Yukiyoshi Mamizu)] Kaki Hoshuu Soushuuhen 1~6+ [Chinese] [漢化組漢化組×Foxglove]\\n35 / 159\\n033.jpg :: 1280 x 1833 :: 397.9 KB\\n(adsbyjuicy = window.adsbyjuicy || []).push({\\'adzone\\':265909});\\n(adsbyjuicy = window.adsbyjuicy || []).push({\\'adzone\\':249007});\\n033.jpg :: 1280 x 1833 :: 397.9 KB\\n35 / 159\\nShow all galleries with this file \\xa0 Generate a static forum image link \\xa0 Click here if the image fails loading\\nDownload original 2514 x 3600 2.75 MB source\\n[Front Page]\\nvar gid=1213796;var startpage=35;var startkey=\"996b21214e\";var showkey=\"6hgz9mb92r3\";var base_url=\"https://e-hentai.org/\";var api_url = \"https://api.e-hentai.org/api.php\";var prl=0;var si=26108;var xres = 1280;var yres = 1833;'"
      ]
     },
     "execution_count": 148,
     "metadata": {},
     "output_type": "execute_result"
    }
   ],
   "source": [
    "res.html.text"
   ]
  },
  {
   "cell_type": "code",
   "execution_count": 149,
   "metadata": {},
   "outputs": [],
   "source": [
    "response = requests.get(img_url, proxies=proxies).text\n",
    "time.sleep(2)\n",
    "soup = BeautifulSoup(response, 'lxml')\n",
    "soup.find('img', attrs={'id': 'img'})['src']"
   ]
  },
  {
   "cell_type": "code",
   "execution_count": 154,
   "metadata": {},
   "outputs": [],
   "source": [
    "ans = soup.find('img', attrs={'id': 'img'})['src']"
   ]
  },
  {
   "cell_type": "code",
   "execution_count": 158,
   "metadata": {},
   "outputs": [
    {
     "data": {
      "text/plain": [
       "<img id=\"img\" onerror=\"this.onerror=null; nl('26108-423471')\" src=\"http://50.5.168.76:3010/h/4d09be347a34a264eafd63e03b0f3fbdb3923350-407421-1280-1833-jpg/keystamp=1524499500-c4a03c6f23;fileindex=54462529;xres=1280/033.jpg\" style=\"height:1833px;width:1280px\"/>"
      ]
     },
     "execution_count": 158,
     "metadata": {},
     "output_type": "execute_result"
    }
   ],
   "source": [
    "ans"
   ]
  },
  {
   "cell_type": "code",
   "execution_count": 159,
   "metadata": {},
   "outputs": [
    {
     "data": {
      "text/plain": [
       "'http://50.5.168.76:3010/h/4d09be347a34a264eafd63e03b0f3fbdb3923350-407421-1280-1833-jpg/keystamp=1524499500-c4a03c6f23;fileindex=54462529;xres=1280/033.jpg'"
      ]
     },
     "execution_count": 159,
     "metadata": {},
     "output_type": "execute_result"
    }
   ],
   "source": [
    "ans['src']"
   ]
  },
  {
   "cell_type": "code",
   "execution_count": 33,
   "metadata": {},
   "outputs": [],
   "source": [
    "temp = [url for url in res.html.absolute_links if pattern_imgs.search(url)]"
   ]
  },
  {
   "cell_type": "code",
   "execution_count": 21,
   "metadata": {},
   "outputs": [
    {
     "data": {
      "text/plain": [
       "{'https://e-hentai.org/',\n",
       " 'https://e-hentai.org/bounty.php',\n",
       " 'https://e-hentai.org/doujinshi',\n",
       " 'https://e-hentai.org/favorites.php',\n",
       " 'https://e-hentai.org/g/1052460/00df243d6e/',\n",
       " 'https://e-hentai.org/g/1099124/2efd8f6d65/',\n",
       " 'https://e-hentai.org/g/1213796/de0b7cdc6c/',\n",
       " 'https://e-hentai.org/g/1213796/de0b7cdc6c/?hc=1#comments',\n",
       " 'https://e-hentai.org/g/1213796/de0b7cdc6c/?p=1',\n",
       " 'https://e-hentai.org/g/1213796/de0b7cdc6c/?p=2',\n",
       " 'https://e-hentai.org/g/1213796/de0b7cdc6c/?p=3',\n",
       " 'https://e-hentai.org/g/1213796/de0b7cdc6c/?report=select',\n",
       " 'https://e-hentai.org/home.php',\n",
       " 'https://e-hentai.org/news.php',\n",
       " 'https://e-hentai.org/s/08a86063bd/1213796-13',\n",
       " 'https://e-hentai.org/s/0c2590dd92/1213796-4',\n",
       " 'https://e-hentai.org/s/1af09378ba/1213796-6',\n",
       " 'https://e-hentai.org/s/202a71b72e/1213796-34',\n",
       " 'https://e-hentai.org/s/28d764fb4f/1213796-36',\n",
       " 'https://e-hentai.org/s/29d2f54899/1213796-2',\n",
       " 'https://e-hentai.org/s/30ab797ede/1213796-15',\n",
       " 'https://e-hentai.org/s/459a92d679/1213796-29',\n",
       " 'https://e-hentai.org/s/464fa6434b/1213796-25',\n",
       " 'https://e-hentai.org/s/4808651cea/1213796-16',\n",
       " 'https://e-hentai.org/s/498b8f3e1c/1213796-32',\n",
       " 'https://e-hentai.org/s/4a0b80dd9a/1213796-18',\n",
       " 'https://e-hentai.org/s/4e44593bc6/1213796-24',\n",
       " 'https://e-hentai.org/s/5a1e4189d7/1213796-21',\n",
       " 'https://e-hentai.org/s/5e5f8560ca/1213796-7',\n",
       " 'https://e-hentai.org/s/72539cbfcb/1213796-39',\n",
       " 'https://e-hentai.org/s/73e1a65223/1213796-30',\n",
       " 'https://e-hentai.org/s/7858fe6dea/1213796-12',\n",
       " 'https://e-hentai.org/s/78e48bd3fc/1213796-9',\n",
       " 'https://e-hentai.org/s/79c4f640b6/1213796-40',\n",
       " 'https://e-hentai.org/s/8ae2c0fec9/1213796-5',\n",
       " 'https://e-hentai.org/s/8cdf1987a7/1213796-8',\n",
       " 'https://e-hentai.org/s/8dfeea6ee9/1213796-33',\n",
       " 'https://e-hentai.org/s/91916b1fa5/1213796-27',\n",
       " 'https://e-hentai.org/s/996b21214e/1213796-35',\n",
       " 'https://e-hentai.org/s/9da4969b09/1213796-23',\n",
       " 'https://e-hentai.org/s/a43e30cc6a/1213796-31',\n",
       " 'https://e-hentai.org/s/ab09369bb8/1213796-37',\n",
       " 'https://e-hentai.org/s/ad14dc857c/1213796-22',\n",
       " 'https://e-hentai.org/s/aebd1d7f2c/1213796-1',\n",
       " 'https://e-hentai.org/s/b6686d6f19/1213796-19',\n",
       " 'https://e-hentai.org/s/bcf96ab258/1213796-38',\n",
       " 'https://e-hentai.org/s/befcd9c16a/1213796-11',\n",
       " 'https://e-hentai.org/s/d091263137/1213796-26',\n",
       " 'https://e-hentai.org/s/d42d7435df/1213796-14',\n",
       " 'https://e-hentai.org/s/d45e10c516/1213796-20',\n",
       " 'https://e-hentai.org/s/e84ffcf1ff/1213796-28',\n",
       " 'https://e-hentai.org/s/f61cb59d07/1213796-3',\n",
       " 'https://e-hentai.org/s/ff42c18911/1213796-10',\n",
       " 'https://e-hentai.org/s/fff6a45ed4/1213796-17',\n",
       " 'https://e-hentai.org/stats.php?gid=1213796&t=de0b7cdc6c',\n",
       " 'https://e-hentai.org/tag/artist%3Ayukiyoshi+mamizu',\n",
       " 'https://e-hentai.org/tag/female%3Ablackmail',\n",
       " 'https://e-hentai.org/tag/female%3Ablowjob',\n",
       " 'https://e-hentai.org/tag/female%3Acheating',\n",
       " 'https://e-hentai.org/tag/female%3Achloroform',\n",
       " 'https://e-hentai.org/tag/female%3Acondom',\n",
       " 'https://e-hentai.org/tag/female%3Adrugs',\n",
       " 'https://e-hentai.org/tag/female%3Adrunk',\n",
       " 'https://e-hentai.org/tag/female%3Afilming',\n",
       " 'https://e-hentai.org/tag/female%3Afingering',\n",
       " 'https://e-hentai.org/tag/female%3Amilf',\n",
       " 'https://e-hentai.org/tag/female%3Amother',\n",
       " 'https://e-hentai.org/tag/female%3Anakadashi',\n",
       " 'https://e-hentai.org/tag/female%3Anetorare',\n",
       " 'https://e-hentai.org/tag/female%3Arape',\n",
       " 'https://e-hentai.org/tag/female%3Aschoolgirl+uniform',\n",
       " 'https://e-hentai.org/tag/female%3Ashimapan',\n",
       " 'https://e-hentai.org/tag/female%3Asleeping',\n",
       " 'https://e-hentai.org/tag/female%3Ax-ray',\n",
       " 'https://e-hentai.org/tag/group%3Ahito+no+fundoshi',\n",
       " 'https://e-hentai.org/tag/language%3Achinese',\n",
       " 'https://e-hentai.org/tag/language%3Atranslated',\n",
       " 'https://e-hentai.org/tag/male%3Abbm',\n",
       " 'https://e-hentai.org/tag/male%3Acheating',\n",
       " 'https://e-hentai.org/tag/male%3Acoach',\n",
       " 'https://e-hentai.org/tag/male%3Adark+skin',\n",
       " 'https://e-hentai.org/tag/male%3Aglasses',\n",
       " 'https://e-hentai.org/tag/male%3Aold+man',\n",
       " 'https://e-hentai.org/tag/male%3Ateacher',\n",
       " 'https://e-hentai.org/tag/mosaic+censorship',\n",
       " 'https://e-hentai.org/tag/multi-work+series',\n",
       " 'https://e-hentai.org/tag/story+arc',\n",
       " 'https://e-hentai.org/toplist.php',\n",
       " 'https://e-hentai.org/torrents.php',\n",
       " 'https://e-hentai.org/tos.php',\n",
       " 'https://e-hentai.org/uploader/%25E4%25B8%2589%25E5%2591%25B3%25E7%25BA%25BF',\n",
       " 'https://e-hentai.org/uploader/%25E5%258D%2583%25E5%25B9%25B4%25E7%259A%2584%25E5%25BF%2583',\n",
       " 'https://e-hentai.org/uploader/%25E5%25B8%258C%25E6%2581%25A9%25E7%2591%259F%25E6%258B%2589',\n",
       " 'https://e-hentai.org/uploader/3000Roger',\n",
       " 'https://e-hentai.org/uploader/Black%2BFlower',\n",
       " 'https://e-hentai.org/uploader/FFZZNN',\n",
       " 'https://e-hentai.org/uploader/KDONGWI',\n",
       " 'https://e-hentai.org/uploader/Loadring',\n",
       " 'https://e-hentai.org/uploader/LostMe-Moon',\n",
       " 'https://e-hentai.org/uploader/Miyth%2BDuChen',\n",
       " 'https://e-hentai.org/uploader/SilverRH',\n",
       " 'https://e-hentai.org/uploader/a68925',\n",
       " 'https://e-hentai.org/uploader/aaa1503702913',\n",
       " 'https://e-hentai.org/uploader/aieeeee',\n",
       " 'https://e-hentai.org/uploader/benzhexol',\n",
       " 'https://e-hentai.org/uploader/coldiceEVO',\n",
       " 'https://e-hentai.org/uploader/dabolu',\n",
       " 'https://e-hentai.org/uploader/game8210',\n",
       " 'https://e-hentai.org/uploader/kyoloo',\n",
       " 'https://e-hentai.org/uploader/laiey',\n",
       " 'https://e-hentai.org/uploader/lilk',\n",
       " 'https://e-hentai.org/uploader/minzewn',\n",
       " 'https://e-hentai.org/uploader/o%25E5%25B0%258F%25E8%2580%25B6o',\n",
       " 'https://e-hentai.org/uploader/yuri2896',\n",
       " 'https://ehwiki.org/',\n",
       " 'https://forums.e-hentai.org/',\n",
       " 'https://forums.e-hentai.org/index.php?act=Reg&CODE=00',\n",
       " 'https://forums.e-hentai.org/index.php?showuser=1293124',\n",
       " 'https://forums.e-hentai.org/index.php?showuser=1306446',\n",
       " 'https://forums.e-hentai.org/index.php?showuser=1602206',\n",
       " 'https://forums.e-hentai.org/index.php?showuser=1684085',\n",
       " 'https://forums.e-hentai.org/index.php?showuser=1819642',\n",
       " 'https://forums.e-hentai.org/index.php?showuser=1889680',\n",
       " 'https://forums.e-hentai.org/index.php?showuser=1954832',\n",
       " 'https://forums.e-hentai.org/index.php?showuser=196386',\n",
       " 'https://forums.e-hentai.org/index.php?showuser=2076995',\n",
       " 'https://forums.e-hentai.org/index.php?showuser=2126165',\n",
       " 'https://forums.e-hentai.org/index.php?showuser=2212139',\n",
       " 'https://forums.e-hentai.org/index.php?showuser=2372198',\n",
       " 'https://forums.e-hentai.org/index.php?showuser=2388166',\n",
       " 'https://forums.e-hentai.org/index.php?showuser=2742612',\n",
       " 'https://forums.e-hentai.org/index.php?showuser=2814535',\n",
       " 'https://forums.e-hentai.org/index.php?showuser=2819597',\n",
       " 'https://forums.e-hentai.org/index.php?showuser=3011883',\n",
       " 'https://forums.e-hentai.org/index.php?showuser=3113602',\n",
       " 'https://forums.e-hentai.org/index.php?showuser=3125840',\n",
       " 'https://forums.e-hentai.org/index.php?showuser=3276514',\n",
       " 'https://forums.e-hentai.org/index.php?showuser=3556619',\n",
       " 'https://forums.e-hentai.org/index.php?showuser=711507',\n",
       " 'https://forums.e-hentai.org/index.php?showuser=903179',\n",
       " 'https://forums.e-hentai.org/index.php?showuser=965567',\n",
       " 'https://hentaiverse.org/',\n",
       " 'https://upload.e-hentai.org/manage.php'}"
      ]
     },
     "execution_count": 21,
     "metadata": {},
     "output_type": "execute_result"
    }
   ],
   "source": [
    "res.html.absolute_links"
   ]
  }
 ],
 "metadata": {
  "kernelspec": {
   "display_name": "Python 3",
   "language": "python",
   "name": "python3"
  },
  "language_info": {
   "codemirror_mode": {
    "name": "ipython",
    "version": 3
   },
   "file_extension": ".py",
   "mimetype": "text/x-python",
   "name": "python",
   "nbconvert_exporter": "python",
   "pygments_lexer": "ipython3",
   "version": "3.6.1"
  }
 },
 "nbformat": 4,
 "nbformat_minor": 2
}
