{
 "cells": [
  {
   "cell_type": "code",
   "execution_count": 1,
   "metadata": {
    "collapsed": true
   },
   "outputs": [],
   "source": [
    "from timeit import Timer"
   ]
  },
  {
   "cell_type": "markdown",
   "metadata": {},
   "source": [
    "## 冒泡排序"
   ]
  },
  {
   "cell_type": "markdown",
   "metadata": {},
   "source": [
    "#### (1)标准冒泡排序"
   ]
  },
  {
   "cell_type": "code",
   "execution_count": 3,
   "metadata": {},
   "outputs": [
    {
     "name": "stdout",
     "output_type": "stream",
     "text": [
      "Wall time: 0 ns\n",
      "[17, 20, 26, 31, 44, 54, 55, 77, 93]\n"
     ]
    }
   ],
   "source": [
    "def bubbleSort(alist):\n",
    "    for passnum in range(len(alist)-1, 0, -1):\n",
    "        for i in range(passnum):\n",
    "            if alist[i] > alist[i+1]:\n",
    "                alist[i], alist[i+1] = alist[i+1], alist[i]\n",
    "\n",
    "alist = [54, 26, 93, 17, 77, 31, 44, 55, 20]\n",
    "%time bubbleSort(alist)\n",
    "print(alist)"
   ]
  },
  {
   "cell_type": "code",
   "execution_count": 38,
   "metadata": {},
   "outputs": [
    {
     "name": "stdout",
     "output_type": "stream",
     "text": [
      "concat  74.00398973469987 milliseconds\n"
     ]
    }
   ],
   "source": [
    "def test():\n",
    "    from random import random\n",
    "    alist = [random() for i in range(1000)]\n",
    "    bubbleSort(alist)\n",
    "t = Timer(\"test()\", \"from __main__ import test\")\n",
    "print(\"concat \", t.timeit(number=1000), \"milliseconds\")"
   ]
  },
  {
   "cell_type": "markdown",
   "metadata": {},
   "source": [
    "#### (2)短冒泡排序 (遍历期间没有交换, 即已排序)"
   ]
  },
  {
   "cell_type": "code",
   "execution_count": 5,
   "metadata": {},
   "outputs": [
    {
     "name": "stdout",
     "output_type": "stream",
     "text": [
      "Wall time: 0 ns\n",
      "[-122, 11, 12, 17, 20, 26, 31, 44, 54, 55, 77, 93, 1999]\n"
     ]
    }
   ],
   "source": [
    "# def shortBubbleSort(alist):\n",
    "#     exchanges = True\n",
    "#     passnum = len(alist) - 1\n",
    "#     while passnum > 0 and exchanges:\n",
    "#         exchanges = False\n",
    "#         for i in range(passnum):\n",
    "#             if alist[i] > alist[i+1]:\n",
    "#                 alist[i], alist[i+1] = alist[i+1], alist[i]\n",
    "#                 exchanges = True\n",
    "#         passnum = passnum - 1\n",
    "\n",
    "def shortBubbleSort(alist):\n",
    "    for passnum in range(len(alist)-1, 0, -1):\n",
    "        exchanges = False\n",
    "        for i in range(passnum):\n",
    "            if alist[i] > alist[i+1]:\n",
    "                alist[i], alist[i+1] = alist[i+1], alist[i]\n",
    "                exchanges = True\n",
    "        if not exchanges:\n",
    "            break\n",
    "\n",
    "alist = [54, 26, 93, 17, 77, 31, 44, 55, 20, 11, 12, 1999, -122]\n",
    "%time shortBubbleSort(alist)\n",
    "print(alist)"
   ]
  },
  {
   "cell_type": "code",
   "execution_count": 37,
   "metadata": {},
   "outputs": [
    {
     "name": "stdout",
     "output_type": "stream",
     "text": [
      "concat  76.1394372573825 milliseconds\n"
     ]
    }
   ],
   "source": [
    "def test():\n",
    "    from random import random\n",
    "    alist = [random() for i in range(1000)]\n",
    "    shortBubbleSort(alist)\n",
    "t = Timer(\"test()\", \"from __main__ import test\")\n",
    "print(\"concat \", t.timeit(number=1000), \"milliseconds\")"
   ]
  },
  {
   "cell_type": "markdown",
   "metadata": {},
   "source": [
    "## 选择排序"
   ]
  },
  {
   "cell_type": "code",
   "execution_count": 7,
   "metadata": {},
   "outputs": [
    {
     "name": "stdout",
     "output_type": "stream",
     "text": [
      "Wall time: 0 ns\n",
      "[17, 20, 26, 31, 44, 54, 55, 77, 93]\n"
     ]
    }
   ],
   "source": [
    "def selectionSort(alist):\n",
    "    for fillslot in range(len(alist)-1, 0, -1):\n",
    "        positionOfMax = 0\n",
    "        for location in range(1, fillslot+1):\n",
    "            if alist[location] > alist[positionOfMax]:\n",
    "                positionOfMax = location\n",
    "        alist[fillslot], alist[positionOfMax] = alist[positionOfMax], alist[fillslot]\n",
    "\n",
    "alist = [54, 26, 93, 17, 77, 31, 44, 55, 20]\n",
    "%time selectionSort(alist)\n",
    "print(alist)"
   ]
  },
  {
   "cell_type": "code",
   "execution_count": 36,
   "metadata": {},
   "outputs": [
    {
     "name": "stdout",
     "output_type": "stream",
     "text": [
      "concat  27.89540684706276 milliseconds\n"
     ]
    }
   ],
   "source": [
    "def test():\n",
    "    from random import random\n",
    "    alist = [random() for i in range(1000)]\n",
    "    selectionSort(alist)\n",
    "t = Timer(\"test()\", \"from __main__ import test\")\n",
    "print(\"concat \", t.timeit(number=1000), \"milliseconds\")"
   ]
  },
  {
   "cell_type": "markdown",
   "metadata": {},
   "source": [
    "## 插入排序"
   ]
  },
  {
   "cell_type": "code",
   "execution_count": 9,
   "metadata": {},
   "outputs": [
    {
     "name": "stdout",
     "output_type": "stream",
     "text": [
      "Wall time: 0 ns\n",
      "[17, 20, 26, 31, 44, 54, 55, 77, 93]\n"
     ]
    }
   ],
   "source": [
    "def insertionSort(alist):\n",
    "    for index in range(1, len(alist)):\n",
    "        currentvalue = alist[index]\n",
    "        position = index\n",
    "        \n",
    "        while position > 0 and alist[position-1] > currentvalue:\n",
    "            alist[position] = alist[position-1]\n",
    "            position -= 1\n",
    "        \n",
    "        alist[position] = currentvalue\n",
    "\n",
    "alist = [54, 26, 93, 17, 77, 31, 44, 55, 20]\n",
    "%time insertionSort(alist)\n",
    "print(alist)"
   ]
  },
  {
   "cell_type": "code",
   "execution_count": 35,
   "metadata": {},
   "outputs": [
    {
     "name": "stdout",
     "output_type": "stream",
     "text": [
      "concat  44.69066973340409 milliseconds\n"
     ]
    }
   ],
   "source": [
    "def test():\n",
    "    from random import random\n",
    "    alist = [random() for i in range(1000)]\n",
    "    insertionSort(alist)\n",
    "t = Timer(\"test()\", \"from __main__ import test\")\n",
    "print(\"concat \", t.timeit(number=1000), \"milliseconds\")"
   ]
  },
  {
   "cell_type": "markdown",
   "metadata": {},
   "source": [
    "##  希尔排序/shell排序/递减递增排序"
   ]
  },
  {
   "cell_type": "code",
   "execution_count": 13,
   "metadata": {},
   "outputs": [
    {
     "name": "stdout",
     "output_type": "stream",
     "text": [
      "[17, 20, 26, 31, 44, 54, 55, 77, 93]\n"
     ]
    }
   ],
   "source": [
    "def shellSort(alist):\n",
    "    sublistcount = len(alist) // 2\n",
    "    while sublistcount > 0:\n",
    "        for startposition in range(sublistcount): # 最后sublistcount==1就是标准插入排序\n",
    "            gapInsertionSort(alist, startposition, sublistcount)\n",
    "        \n",
    "#         print('after increments of size ', sublistcount, ' the list is ', alist)\n",
    "        \n",
    "        sublistcount = sublistcount // 2\n",
    "\n",
    "def gapInsertionSort(alist, start, gap): # 实际是可控gap的插入排序, gap==1就是标准插入排序\n",
    "    for i in range(start+gap, len(alist), gap):\n",
    "        currentvalue = alist[i]\n",
    "        position = i\n",
    "       \n",
    "        while position >= gap and alist[position-gap] > currentvalue:\n",
    "            alist[position] = alist[position-gap]\n",
    "            position = position - gap\n",
    "        \n",
    "        alist[position] = currentvalue\n",
    "\n",
    "alist = [54, 26, 93, 17, 77, 31, 44, 55, 20]\n",
    "shellSort(alist)\n",
    "print(alist)"
   ]
  },
  {
   "cell_type": "code",
   "execution_count": 34,
   "metadata": {},
   "outputs": [
    {
     "name": "stdout",
     "output_type": "stream",
     "text": [
      "concat  3.1278192637144 milliseconds\n"
     ]
    }
   ],
   "source": [
    "def test():\n",
    "    from random import random\n",
    "    alist = [random() for i in range(1000)]\n",
    "    shellSort(alist)\n",
    "t = Timer(\"test()\", \"from __main__ import test\")\n",
    "print(\"concat \", t.timeit(number=1000), \"milliseconds\")"
   ]
  },
  {
   "cell_type": "markdown",
   "metadata": {},
   "source": [
    "## 归并排序"
   ]
  },
  {
   "cell_type": "code",
   "execution_count": 15,
   "metadata": {},
   "outputs": [
    {
     "name": "stdout",
     "output_type": "stream",
     "text": [
      "Wall time: 0 ns\n",
      "[17, 20, 26, 31, 44, 54, 55, 77, 93]\n"
     ]
    }
   ],
   "source": [
    "def mergeSort(alist):\n",
    "    def recursion(alist, first, last):\n",
    "        if last - first > 0:\n",
    "            mid = (first + last) // 2\n",
    "            recursion(alist, first, mid)\n",
    "            recursion(alist, mid+1, last)\n",
    "            \n",
    "            i = first\n",
    "            j = mid + 1\n",
    "            temp = []\n",
    "            while i <= mid and j <= last :\n",
    "                if alist[i] < alist[j]:\n",
    "                    temp.append(alist[i])\n",
    "                    i += 1\n",
    "                else:\n",
    "                    temp.append(alist[j])\n",
    "                    j += 1\n",
    "            \n",
    "            while i <= mid:\n",
    "                temp.append(alist[i])\n",
    "                i += 1\n",
    "            \n",
    "            while j <= last:\n",
    "                temp.append(alist[j])\n",
    "                j += 1\n",
    "                \n",
    "            alist[first: last+1] = temp\n",
    "\n",
    "    recursion(alist, 0, len(alist)-1)\n",
    "\n",
    "alist = [54, 26, 93, 17, 77, 31, 44, 55, 20]\n",
    "%time mergeSort(alist)\n",
    "print(alist)"
   ]
  },
  {
   "cell_type": "code",
   "execution_count": 33,
   "metadata": {},
   "outputs": [
    {
     "name": "stdout",
     "output_type": "stream",
     "text": [
      "concat  2.717797875038741 milliseconds\n"
     ]
    }
   ],
   "source": [
    "def test():\n",
    "    from random import random\n",
    "    alist = [random() for i in range(1000)]\n",
    "    mergeSort(alist)\n",
    "t = Timer(\"test()\", \"from __main__ import test\")\n",
    "print(\"concat \", t.timeit(number=1000), \"milliseconds\")"
   ]
  },
  {
   "cell_type": "markdown",
   "metadata": {},
   "source": [
    "## 快速排序"
   ]
  },
  {
   "cell_type": "code",
   "execution_count": 20,
   "metadata": {},
   "outputs": [
    {
     "name": "stdout",
     "output_type": "stream",
     "text": [
      "Wall time: 0 ns\n",
      "[17, 20, 26, 31, 44, 54, 55, 77, 93]\n"
     ]
    }
   ],
   "source": [
    "def quickSort(alist):\n",
    "    def partition(alist, first, last):\n",
    "        pivotvalue = alist[first]\n",
    "        \n",
    "        leftmark = first + 1\n",
    "        rightmark = last\n",
    "        \n",
    "        done = False\n",
    "        while not done:\n",
    "            while leftmark <= rightmark and alist[leftmark] <= pivotvalue:\n",
    "                leftmark += 1\n",
    "            \n",
    "            while alist[rightmark] >= pivotvalue and rightmark >= leftmark:\n",
    "                rightmark -= 1\n",
    "            \n",
    "            if rightmark < leftmark:\n",
    "                done = True\n",
    "            else:\n",
    "                alist[leftmark], alist[rightmark] = alist[rightmark], alist[leftmark]\n",
    "        \n",
    "        alist[first], alist[rightmark] = alist[rightmark], alist[first]\n",
    "        \n",
    "        return rightmark\n",
    "    \n",
    "    def quickSortHelper(alist, first, last):\n",
    "        if first < last:\n",
    "            splitpoint = partition(alist, first, last)\n",
    "            \n",
    "            quickSortHelper(alist, first, splitpoint-1)\n",
    "            quickSortHelper(alist, splitpoint+1, last)\n",
    "    \n",
    "    quickSortHelper(alist, 0, len(alist)-1)\n",
    "\n",
    "\n",
    "alist = [54, 26, 93, 17, 77, 31, 44, 55, 20]\n",
    "%time quickSort(alist)\n",
    "print(alist)"
   ]
  },
  {
   "cell_type": "code",
   "execution_count": 32,
   "metadata": {},
   "outputs": [
    {
     "name": "stdout",
     "output_type": "stream",
     "text": [
      "concat  1.9078106197500801 milliseconds\n"
     ]
    }
   ],
   "source": [
    "def test():\n",
    "    from random import random\n",
    "    alist = [random() for i in range(1000)]\n",
    "    quickSort(alist)\n",
    "t = Timer(\"test()\", \"from __main__ import test\")\n",
    "print(\"concat \", t.timeit(number=1000), \"milliseconds\")"
   ]
  }
 ],
 "metadata": {
  "kernelspec": {
   "display_name": "Python 3",
   "language": "python",
   "name": "python3"
  },
  "language_info": {
   "codemirror_mode": {
    "name": "ipython",
    "version": 3
   },
   "file_extension": ".py",
   "mimetype": "text/x-python",
   "name": "python",
   "nbconvert_exporter": "python",
   "pygments_lexer": "ipython3",
   "version": "3.6.2"
  }
 },
 "nbformat": 4,
 "nbformat_minor": 2
}
