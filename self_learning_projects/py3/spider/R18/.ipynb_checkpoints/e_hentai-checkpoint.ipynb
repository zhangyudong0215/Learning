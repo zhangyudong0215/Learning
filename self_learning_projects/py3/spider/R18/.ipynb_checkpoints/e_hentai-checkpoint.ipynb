{
 "cells": [
  {
   "cell_type": "code",
   "execution_count": 15,
   "metadata": {},
   "outputs": [],
   "source": [
    "from requests_html import HTMLSession\n",
    "import requests\n",
    "import time\n",
    "import regex as re\n",
    "from functools import partial, reduce\n",
    "import requests"
   ]
  },
  {
   "cell_type": "code",
   "execution_count": 6,
   "metadata": {},
   "outputs": [],
   "source": [
    "proxies = { \n",
    "    \"http\": \"127.0.0.1:1080\", \n",
    "    \"https\": \"https://127.0.0.1:1080\", \n",
    "}   "
   ]
  },
  {
   "cell_type": "code",
   "execution_count": 11,
   "metadata": {},
   "outputs": [],
   "source": [
    "session = HTMLSession()\n",
    "url = 'https://e-hentai.org/g/1213796/de0b7cdc6c/'"
   ]
  },
  {
   "cell_type": "code",
   "execution_count": 28,
   "metadata": {},
   "outputs": [],
   "source": [
    "responses = []"
   ]
  },
  {
   "cell_type": "code",
   "execution_count": 19,
   "metadata": {},
   "outputs": [],
   "source": [
    "get_html = partial(session.get, proxies=proxies)"
   ]
  },
  {
   "cell_type": "code",
   "execution_count": 20,
   "metadata": {},
   "outputs": [],
   "source": [
    "res = get_html(url)"
   ]
  },
  {
   "cell_type": "code",
   "execution_count": 29,
   "metadata": {},
   "outputs": [],
   "source": [
    "responses.append(res)"
   ]
  },
  {
   "cell_type": "code",
   "execution_count": 25,
   "metadata": {},
   "outputs": [
    {
     "name": "stdout",
     "output_type": "stream",
     "text": [
      "https://e-hentai.org/g/1213796/de0b7cdc6c/?p=3\n",
      "https://e-hentai.org/g/1213796/de0b7cdc6c/?p=2\n",
      "https://e-hentai.org/g/1213796/de0b7cdc6c/?p=1\n"
     ]
    }
   ],
   "source": [
    "def get_page_urls(res):\n",
    "    pattern_page = re.compile('\\?p=\\d+$')\n",
    "    return [url for url in res.html.absolute_links if pattern_page.search(url)]"
   ]
  },
  {
   "cell_type": "code",
   "execution_count": 31,
   "metadata": {},
   "outputs": [],
   "source": [
    "page_urls = get_page_urls(res)"
   ]
  },
  {
   "cell_type": "code",
   "execution_count": 32,
   "metadata": {},
   "outputs": [],
   "source": [
    "pattern_imgs = re.compile('-\\d+$')"
   ]
  },
  {
   "cell_type": "code",
   "execution_count": 36,
   "metadata": {},
   "outputs": [],
   "source": [
    "def merge(list1, list2):\n",
    "    list1.extend(list2)\n",
    "    return list1"
   ]
  },
  {
   "cell_type": "code",
   "execution_count": 39,
   "metadata": {},
   "outputs": [],
   "source": [
    "def get_tail(url):\n",
    "    return int(url.split('-')[-1])"
   ]
  },
  {
   "cell_type": "code",
   "execution_count": 50,
   "metadata": {},
   "outputs": [],
   "source": [
    "imgs = []"
   ]
  },
  {
   "cell_type": "code",
   "execution_count": 53,
   "metadata": {},
   "outputs": [],
   "source": [
    "def get_all_html(page_urls, responses):\n",
    "    responses.extend(list(map(get_html, page_urls)))"
   ]
  },
  {
   "cell_type": "code",
   "execution_count": 54,
   "metadata": {},
   "outputs": [],
   "source": [
    "get_all_html(page_urls, responses)"
   ]
  },
  {
   "cell_type": "code",
   "execution_count": 60,
   "metadata": {},
   "outputs": [],
   "source": [
    "def get_page_img_urls(res, imgs_urls):\n",
    "    curPageImgsUrl = [url for url in res.html.absolute_links if pattern_imgs.search(url)]\n",
    "    imgs_urls.extend(curPageImgsUrl)"
   ]
  },
  {
   "cell_type": "code",
   "execution_count": 61,
   "metadata": {},
   "outputs": [],
   "source": [
    "def get_img_urls(responses):\n",
    "    imgs_urls = []\n",
    "    for res in responses:\n",
    "        get_page_img_urls(res, imgs_urls)\n",
    "    imgs_urls.sort(key=get_tail)\n",
    "    return imgs_urls"
   ]
  },
  {
   "cell_type": "code",
   "execution_count": 62,
   "metadata": {},
   "outputs": [],
   "source": [
    "imgs_urls = get_img_urls(responses)"
   ]
  },
  {
   "cell_type": "code",
   "execution_count": 63,
   "metadata": {},
   "outputs": [
    {
     "data": {
      "text/plain": [
       "['https://e-hentai.org/s/aebd1d7f2c/1213796-1',\n",
       " 'https://e-hentai.org/s/29d2f54899/1213796-2',\n",
       " 'https://e-hentai.org/s/f61cb59d07/1213796-3',\n",
       " 'https://e-hentai.org/s/0c2590dd92/1213796-4',\n",
       " 'https://e-hentai.org/s/8ae2c0fec9/1213796-5',\n",
       " 'https://e-hentai.org/s/1af09378ba/1213796-6',\n",
       " 'https://e-hentai.org/s/5e5f8560ca/1213796-7',\n",
       " 'https://e-hentai.org/s/8cdf1987a7/1213796-8',\n",
       " 'https://e-hentai.org/s/78e48bd3fc/1213796-9',\n",
       " 'https://e-hentai.org/s/ff42c18911/1213796-10',\n",
       " 'https://e-hentai.org/s/befcd9c16a/1213796-11',\n",
       " 'https://e-hentai.org/s/7858fe6dea/1213796-12',\n",
       " 'https://e-hentai.org/s/08a86063bd/1213796-13',\n",
       " 'https://e-hentai.org/s/d42d7435df/1213796-14',\n",
       " 'https://e-hentai.org/s/30ab797ede/1213796-15',\n",
       " 'https://e-hentai.org/s/4808651cea/1213796-16',\n",
       " 'https://e-hentai.org/s/fff6a45ed4/1213796-17',\n",
       " 'https://e-hentai.org/s/4a0b80dd9a/1213796-18',\n",
       " 'https://e-hentai.org/s/b6686d6f19/1213796-19',\n",
       " 'https://e-hentai.org/s/d45e10c516/1213796-20',\n",
       " 'https://e-hentai.org/s/5a1e4189d7/1213796-21',\n",
       " 'https://e-hentai.org/s/ad14dc857c/1213796-22',\n",
       " 'https://e-hentai.org/s/9da4969b09/1213796-23',\n",
       " 'https://e-hentai.org/s/4e44593bc6/1213796-24',\n",
       " 'https://e-hentai.org/s/464fa6434b/1213796-25',\n",
       " 'https://e-hentai.org/s/d091263137/1213796-26',\n",
       " 'https://e-hentai.org/s/91916b1fa5/1213796-27',\n",
       " 'https://e-hentai.org/s/e84ffcf1ff/1213796-28',\n",
       " 'https://e-hentai.org/s/459a92d679/1213796-29',\n",
       " 'https://e-hentai.org/s/73e1a65223/1213796-30',\n",
       " 'https://e-hentai.org/s/a43e30cc6a/1213796-31',\n",
       " 'https://e-hentai.org/s/498b8f3e1c/1213796-32',\n",
       " 'https://e-hentai.org/s/8dfeea6ee9/1213796-33',\n",
       " 'https://e-hentai.org/s/202a71b72e/1213796-34',\n",
       " 'https://e-hentai.org/s/996b21214e/1213796-35',\n",
       " 'https://e-hentai.org/s/28d764fb4f/1213796-36',\n",
       " 'https://e-hentai.org/s/ab09369bb8/1213796-37',\n",
       " 'https://e-hentai.org/s/bcf96ab258/1213796-38',\n",
       " 'https://e-hentai.org/s/72539cbfcb/1213796-39',\n",
       " 'https://e-hentai.org/s/79c4f640b6/1213796-40',\n",
       " 'https://e-hentai.org/s/dc2733b968/1213796-41',\n",
       " 'https://e-hentai.org/s/4dfe8cd299/1213796-42',\n",
       " 'https://e-hentai.org/s/5c3af8b9aa/1213796-43',\n",
       " 'https://e-hentai.org/s/cd5dd8da7b/1213796-44',\n",
       " 'https://e-hentai.org/s/3688fc022d/1213796-45',\n",
       " 'https://e-hentai.org/s/883565612a/1213796-46',\n",
       " 'https://e-hentai.org/s/43e2112930/1213796-47',\n",
       " 'https://e-hentai.org/s/eefdbdf2c2/1213796-48',\n",
       " 'https://e-hentai.org/s/2f7ff8fc62/1213796-49',\n",
       " 'https://e-hentai.org/s/2c2f52fb91/1213796-50',\n",
       " 'https://e-hentai.org/s/f31ba03e56/1213796-51',\n",
       " 'https://e-hentai.org/s/4bbea19649/1213796-52',\n",
       " 'https://e-hentai.org/s/09a1a1ec32/1213796-53',\n",
       " 'https://e-hentai.org/s/02c26610b6/1213796-54',\n",
       " 'https://e-hentai.org/s/26f1fc86da/1213796-55',\n",
       " 'https://e-hentai.org/s/89024bba0e/1213796-56',\n",
       " 'https://e-hentai.org/s/405e99cac6/1213796-57',\n",
       " 'https://e-hentai.org/s/f930b6c1bd/1213796-58',\n",
       " 'https://e-hentai.org/s/7c9e4e32d2/1213796-59',\n",
       " 'https://e-hentai.org/s/6622bb854b/1213796-60',\n",
       " 'https://e-hentai.org/s/fbc98a8ea4/1213796-61',\n",
       " 'https://e-hentai.org/s/aa848acf7c/1213796-62',\n",
       " 'https://e-hentai.org/s/1694d30ccd/1213796-63',\n",
       " 'https://e-hentai.org/s/b4ab9e8b82/1213796-64',\n",
       " 'https://e-hentai.org/s/8ebfe4959d/1213796-65',\n",
       " 'https://e-hentai.org/s/7db8a2572f/1213796-66',\n",
       " 'https://e-hentai.org/s/bf2bfde9a6/1213796-67',\n",
       " 'https://e-hentai.org/s/bb91470815/1213796-68',\n",
       " 'https://e-hentai.org/s/e0c5f925bf/1213796-69',\n",
       " 'https://e-hentai.org/s/8845746b9a/1213796-70',\n",
       " 'https://e-hentai.org/s/40846df8e0/1213796-71',\n",
       " 'https://e-hentai.org/s/304b8153e0/1213796-72',\n",
       " 'https://e-hentai.org/s/0d4dd60bb8/1213796-73',\n",
       " 'https://e-hentai.org/s/301bcb5c3a/1213796-74',\n",
       " 'https://e-hentai.org/s/34941a08d3/1213796-75',\n",
       " 'https://e-hentai.org/s/447d975b03/1213796-76',\n",
       " 'https://e-hentai.org/s/bade816ee7/1213796-77',\n",
       " 'https://e-hentai.org/s/f118d17ccd/1213796-78',\n",
       " 'https://e-hentai.org/s/fa8ee854d2/1213796-79',\n",
       " 'https://e-hentai.org/s/396f8d5197/1213796-80',\n",
       " 'https://e-hentai.org/s/fd2e3ef493/1213796-81',\n",
       " 'https://e-hentai.org/s/1787e92126/1213796-82',\n",
       " 'https://e-hentai.org/s/f94915c701/1213796-83',\n",
       " 'https://e-hentai.org/s/7ea302460e/1213796-84',\n",
       " 'https://e-hentai.org/s/4be0759d59/1213796-85',\n",
       " 'https://e-hentai.org/s/40698461c3/1213796-86',\n",
       " 'https://e-hentai.org/s/d755548b91/1213796-87',\n",
       " 'https://e-hentai.org/s/b07d5f18c7/1213796-88',\n",
       " 'https://e-hentai.org/s/3058fc32a7/1213796-89',\n",
       " 'https://e-hentai.org/s/7fb0e004f2/1213796-90',\n",
       " 'https://e-hentai.org/s/7e95c12433/1213796-91',\n",
       " 'https://e-hentai.org/s/7c24ff3aa9/1213796-92',\n",
       " 'https://e-hentai.org/s/4476950764/1213796-93',\n",
       " 'https://e-hentai.org/s/64599e5f5d/1213796-94',\n",
       " 'https://e-hentai.org/s/522b6df7da/1213796-95',\n",
       " 'https://e-hentai.org/s/60b3af04ae/1213796-96',\n",
       " 'https://e-hentai.org/s/eacb5b9c4f/1213796-97',\n",
       " 'https://e-hentai.org/s/c9b17f95a1/1213796-98',\n",
       " 'https://e-hentai.org/s/fd46a6119b/1213796-99',\n",
       " 'https://e-hentai.org/s/17e9b1dfe6/1213796-100',\n",
       " 'https://e-hentai.org/s/97016984c0/1213796-101',\n",
       " 'https://e-hentai.org/s/8e34679a93/1213796-102',\n",
       " 'https://e-hentai.org/s/7419df99c2/1213796-103',\n",
       " 'https://e-hentai.org/s/65d5057c24/1213796-104',\n",
       " 'https://e-hentai.org/s/42ddb7d529/1213796-105',\n",
       " 'https://e-hentai.org/s/2a90468b8d/1213796-106',\n",
       " 'https://e-hentai.org/s/211305b2d4/1213796-107',\n",
       " 'https://e-hentai.org/s/670760f219/1213796-108',\n",
       " 'https://e-hentai.org/s/82fb78927b/1213796-109',\n",
       " 'https://e-hentai.org/s/970fcb1c15/1213796-110',\n",
       " 'https://e-hentai.org/s/3f47ba04b1/1213796-111',\n",
       " 'https://e-hentai.org/s/3cbd3499c7/1213796-112',\n",
       " 'https://e-hentai.org/s/c2f0a6a97f/1213796-113',\n",
       " 'https://e-hentai.org/s/2cc71d92ac/1213796-114',\n",
       " 'https://e-hentai.org/s/f8dd073acf/1213796-115',\n",
       " 'https://e-hentai.org/s/4face90b0b/1213796-116',\n",
       " 'https://e-hentai.org/s/266a1d3199/1213796-117',\n",
       " 'https://e-hentai.org/s/436d8c7b24/1213796-118',\n",
       " 'https://e-hentai.org/s/95052f01d3/1213796-119',\n",
       " 'https://e-hentai.org/s/4459e50412/1213796-120',\n",
       " 'https://e-hentai.org/s/8fceca135f/1213796-121',\n",
       " 'https://e-hentai.org/s/c095d511ce/1213796-122',\n",
       " 'https://e-hentai.org/s/cfeef7bf93/1213796-123',\n",
       " 'https://e-hentai.org/s/e7fa0619db/1213796-124',\n",
       " 'https://e-hentai.org/s/33315486f1/1213796-125',\n",
       " 'https://e-hentai.org/s/a548ad562c/1213796-126',\n",
       " 'https://e-hentai.org/s/f0266c5520/1213796-127',\n",
       " 'https://e-hentai.org/s/5a014253da/1213796-128',\n",
       " 'https://e-hentai.org/s/86207c3959/1213796-129',\n",
       " 'https://e-hentai.org/s/36a71e7606/1213796-130',\n",
       " 'https://e-hentai.org/s/3b53d4b952/1213796-131',\n",
       " 'https://e-hentai.org/s/37b377c700/1213796-132',\n",
       " 'https://e-hentai.org/s/f60f9ff15d/1213796-133',\n",
       " 'https://e-hentai.org/s/54ec2539bb/1213796-134',\n",
       " 'https://e-hentai.org/s/d32cdb558a/1213796-135',\n",
       " 'https://e-hentai.org/s/21425bbdfe/1213796-136',\n",
       " 'https://e-hentai.org/s/e2dfee60fe/1213796-137',\n",
       " 'https://e-hentai.org/s/bf1ac90725/1213796-138',\n",
       " 'https://e-hentai.org/s/7dbe038453/1213796-139',\n",
       " 'https://e-hentai.org/s/387522e465/1213796-140',\n",
       " 'https://e-hentai.org/s/578a8af36f/1213796-141',\n",
       " 'https://e-hentai.org/s/48fd23a95d/1213796-142',\n",
       " 'https://e-hentai.org/s/325486103f/1213796-143',\n",
       " 'https://e-hentai.org/s/8ad1a559b5/1213796-144',\n",
       " 'https://e-hentai.org/s/51173b6927/1213796-145',\n",
       " 'https://e-hentai.org/s/97a1b38154/1213796-146',\n",
       " 'https://e-hentai.org/s/694579ccee/1213796-147',\n",
       " 'https://e-hentai.org/s/6a4258a72c/1213796-148',\n",
       " 'https://e-hentai.org/s/3b46c553d7/1213796-149',\n",
       " 'https://e-hentai.org/s/bdf36c959b/1213796-150',\n",
       " 'https://e-hentai.org/s/b9a1ad2fd9/1213796-151',\n",
       " 'https://e-hentai.org/s/391f89a23f/1213796-152',\n",
       " 'https://e-hentai.org/s/66f67f471a/1213796-153',\n",
       " 'https://e-hentai.org/s/66fdd6db8b/1213796-154',\n",
       " 'https://e-hentai.org/s/ed76250722/1213796-155',\n",
       " 'https://e-hentai.org/s/fa922c330a/1213796-156',\n",
       " 'https://e-hentai.org/s/e987a02ca3/1213796-157',\n",
       " 'https://e-hentai.org/s/c931c62348/1213796-158',\n",
       " 'https://e-hentai.org/s/70378951f2/1213796-159']"
      ]
     },
     "execution_count": 63,
     "metadata": {},
     "output_type": "execute_result"
    }
   ],
   "source": [
    "def save_image(img_url, order):\n",
    "    img_response = requests.get(img_url)\n",
    "    with open('E:/ZYD/spider/177test/%d.jpg' %order, 'ab') as f:\n",
    "        f.write(img_response.content)\n",
    "\n",
    "def download(imgs_urls):\n",
    "    for index, img_url in enumerate(imgs_urls):\n",
    "        save_image(img_url, index+1)"
   ]
  },
  {
   "cell_type": "code",
   "execution_count": 33,
   "metadata": {},
   "outputs": [],
   "source": [
    "temp = [url for url in res.html.absolute_links if pattern_imgs.search(url)]"
   ]
  },
  {
   "cell_type": "code",
   "execution_count": 21,
   "metadata": {},
   "outputs": [
    {
     "data": {
      "text/plain": [
       "{'https://e-hentai.org/',\n",
       " 'https://e-hentai.org/bounty.php',\n",
       " 'https://e-hentai.org/doujinshi',\n",
       " 'https://e-hentai.org/favorites.php',\n",
       " 'https://e-hentai.org/g/1052460/00df243d6e/',\n",
       " 'https://e-hentai.org/g/1099124/2efd8f6d65/',\n",
       " 'https://e-hentai.org/g/1213796/de0b7cdc6c/',\n",
       " 'https://e-hentai.org/g/1213796/de0b7cdc6c/?hc=1#comments',\n",
       " 'https://e-hentai.org/g/1213796/de0b7cdc6c/?p=1',\n",
       " 'https://e-hentai.org/g/1213796/de0b7cdc6c/?p=2',\n",
       " 'https://e-hentai.org/g/1213796/de0b7cdc6c/?p=3',\n",
       " 'https://e-hentai.org/g/1213796/de0b7cdc6c/?report=select',\n",
       " 'https://e-hentai.org/home.php',\n",
       " 'https://e-hentai.org/news.php',\n",
       " 'https://e-hentai.org/s/08a86063bd/1213796-13',\n",
       " 'https://e-hentai.org/s/0c2590dd92/1213796-4',\n",
       " 'https://e-hentai.org/s/1af09378ba/1213796-6',\n",
       " 'https://e-hentai.org/s/202a71b72e/1213796-34',\n",
       " 'https://e-hentai.org/s/28d764fb4f/1213796-36',\n",
       " 'https://e-hentai.org/s/29d2f54899/1213796-2',\n",
       " 'https://e-hentai.org/s/30ab797ede/1213796-15',\n",
       " 'https://e-hentai.org/s/459a92d679/1213796-29',\n",
       " 'https://e-hentai.org/s/464fa6434b/1213796-25',\n",
       " 'https://e-hentai.org/s/4808651cea/1213796-16',\n",
       " 'https://e-hentai.org/s/498b8f3e1c/1213796-32',\n",
       " 'https://e-hentai.org/s/4a0b80dd9a/1213796-18',\n",
       " 'https://e-hentai.org/s/4e44593bc6/1213796-24',\n",
       " 'https://e-hentai.org/s/5a1e4189d7/1213796-21',\n",
       " 'https://e-hentai.org/s/5e5f8560ca/1213796-7',\n",
       " 'https://e-hentai.org/s/72539cbfcb/1213796-39',\n",
       " 'https://e-hentai.org/s/73e1a65223/1213796-30',\n",
       " 'https://e-hentai.org/s/7858fe6dea/1213796-12',\n",
       " 'https://e-hentai.org/s/78e48bd3fc/1213796-9',\n",
       " 'https://e-hentai.org/s/79c4f640b6/1213796-40',\n",
       " 'https://e-hentai.org/s/8ae2c0fec9/1213796-5',\n",
       " 'https://e-hentai.org/s/8cdf1987a7/1213796-8',\n",
       " 'https://e-hentai.org/s/8dfeea6ee9/1213796-33',\n",
       " 'https://e-hentai.org/s/91916b1fa5/1213796-27',\n",
       " 'https://e-hentai.org/s/996b21214e/1213796-35',\n",
       " 'https://e-hentai.org/s/9da4969b09/1213796-23',\n",
       " 'https://e-hentai.org/s/a43e30cc6a/1213796-31',\n",
       " 'https://e-hentai.org/s/ab09369bb8/1213796-37',\n",
       " 'https://e-hentai.org/s/ad14dc857c/1213796-22',\n",
       " 'https://e-hentai.org/s/aebd1d7f2c/1213796-1',\n",
       " 'https://e-hentai.org/s/b6686d6f19/1213796-19',\n",
       " 'https://e-hentai.org/s/bcf96ab258/1213796-38',\n",
       " 'https://e-hentai.org/s/befcd9c16a/1213796-11',\n",
       " 'https://e-hentai.org/s/d091263137/1213796-26',\n",
       " 'https://e-hentai.org/s/d42d7435df/1213796-14',\n",
       " 'https://e-hentai.org/s/d45e10c516/1213796-20',\n",
       " 'https://e-hentai.org/s/e84ffcf1ff/1213796-28',\n",
       " 'https://e-hentai.org/s/f61cb59d07/1213796-3',\n",
       " 'https://e-hentai.org/s/ff42c18911/1213796-10',\n",
       " 'https://e-hentai.org/s/fff6a45ed4/1213796-17',\n",
       " 'https://e-hentai.org/stats.php?gid=1213796&t=de0b7cdc6c',\n",
       " 'https://e-hentai.org/tag/artist%3Ayukiyoshi+mamizu',\n",
       " 'https://e-hentai.org/tag/female%3Ablackmail',\n",
       " 'https://e-hentai.org/tag/female%3Ablowjob',\n",
       " 'https://e-hentai.org/tag/female%3Acheating',\n",
       " 'https://e-hentai.org/tag/female%3Achloroform',\n",
       " 'https://e-hentai.org/tag/female%3Acondom',\n",
       " 'https://e-hentai.org/tag/female%3Adrugs',\n",
       " 'https://e-hentai.org/tag/female%3Adrunk',\n",
       " 'https://e-hentai.org/tag/female%3Afilming',\n",
       " 'https://e-hentai.org/tag/female%3Afingering',\n",
       " 'https://e-hentai.org/tag/female%3Amilf',\n",
       " 'https://e-hentai.org/tag/female%3Amother',\n",
       " 'https://e-hentai.org/tag/female%3Anakadashi',\n",
       " 'https://e-hentai.org/tag/female%3Anetorare',\n",
       " 'https://e-hentai.org/tag/female%3Arape',\n",
       " 'https://e-hentai.org/tag/female%3Aschoolgirl+uniform',\n",
       " 'https://e-hentai.org/tag/female%3Ashimapan',\n",
       " 'https://e-hentai.org/tag/female%3Asleeping',\n",
       " 'https://e-hentai.org/tag/female%3Ax-ray',\n",
       " 'https://e-hentai.org/tag/group%3Ahito+no+fundoshi',\n",
       " 'https://e-hentai.org/tag/language%3Achinese',\n",
       " 'https://e-hentai.org/tag/language%3Atranslated',\n",
       " 'https://e-hentai.org/tag/male%3Abbm',\n",
       " 'https://e-hentai.org/tag/male%3Acheating',\n",
       " 'https://e-hentai.org/tag/male%3Acoach',\n",
       " 'https://e-hentai.org/tag/male%3Adark+skin',\n",
       " 'https://e-hentai.org/tag/male%3Aglasses',\n",
       " 'https://e-hentai.org/tag/male%3Aold+man',\n",
       " 'https://e-hentai.org/tag/male%3Ateacher',\n",
       " 'https://e-hentai.org/tag/mosaic+censorship',\n",
       " 'https://e-hentai.org/tag/multi-work+series',\n",
       " 'https://e-hentai.org/tag/story+arc',\n",
       " 'https://e-hentai.org/toplist.php',\n",
       " 'https://e-hentai.org/torrents.php',\n",
       " 'https://e-hentai.org/tos.php',\n",
       " 'https://e-hentai.org/uploader/%25E4%25B8%2589%25E5%2591%25B3%25E7%25BA%25BF',\n",
       " 'https://e-hentai.org/uploader/%25E5%258D%2583%25E5%25B9%25B4%25E7%259A%2584%25E5%25BF%2583',\n",
       " 'https://e-hentai.org/uploader/%25E5%25B8%258C%25E6%2581%25A9%25E7%2591%259F%25E6%258B%2589',\n",
       " 'https://e-hentai.org/uploader/3000Roger',\n",
       " 'https://e-hentai.org/uploader/Black%2BFlower',\n",
       " 'https://e-hentai.org/uploader/FFZZNN',\n",
       " 'https://e-hentai.org/uploader/KDONGWI',\n",
       " 'https://e-hentai.org/uploader/Loadring',\n",
       " 'https://e-hentai.org/uploader/LostMe-Moon',\n",
       " 'https://e-hentai.org/uploader/Miyth%2BDuChen',\n",
       " 'https://e-hentai.org/uploader/SilverRH',\n",
       " 'https://e-hentai.org/uploader/a68925',\n",
       " 'https://e-hentai.org/uploader/aaa1503702913',\n",
       " 'https://e-hentai.org/uploader/aieeeee',\n",
       " 'https://e-hentai.org/uploader/benzhexol',\n",
       " 'https://e-hentai.org/uploader/coldiceEVO',\n",
       " 'https://e-hentai.org/uploader/dabolu',\n",
       " 'https://e-hentai.org/uploader/game8210',\n",
       " 'https://e-hentai.org/uploader/kyoloo',\n",
       " 'https://e-hentai.org/uploader/laiey',\n",
       " 'https://e-hentai.org/uploader/lilk',\n",
       " 'https://e-hentai.org/uploader/minzewn',\n",
       " 'https://e-hentai.org/uploader/o%25E5%25B0%258F%25E8%2580%25B6o',\n",
       " 'https://e-hentai.org/uploader/yuri2896',\n",
       " 'https://ehwiki.org/',\n",
       " 'https://forums.e-hentai.org/',\n",
       " 'https://forums.e-hentai.org/index.php?act=Reg&CODE=00',\n",
       " 'https://forums.e-hentai.org/index.php?showuser=1293124',\n",
       " 'https://forums.e-hentai.org/index.php?showuser=1306446',\n",
       " 'https://forums.e-hentai.org/index.php?showuser=1602206',\n",
       " 'https://forums.e-hentai.org/index.php?showuser=1684085',\n",
       " 'https://forums.e-hentai.org/index.php?showuser=1819642',\n",
       " 'https://forums.e-hentai.org/index.php?showuser=1889680',\n",
       " 'https://forums.e-hentai.org/index.php?showuser=1954832',\n",
       " 'https://forums.e-hentai.org/index.php?showuser=196386',\n",
       " 'https://forums.e-hentai.org/index.php?showuser=2076995',\n",
       " 'https://forums.e-hentai.org/index.php?showuser=2126165',\n",
       " 'https://forums.e-hentai.org/index.php?showuser=2212139',\n",
       " 'https://forums.e-hentai.org/index.php?showuser=2372198',\n",
       " 'https://forums.e-hentai.org/index.php?showuser=2388166',\n",
       " 'https://forums.e-hentai.org/index.php?showuser=2742612',\n",
       " 'https://forums.e-hentai.org/index.php?showuser=2814535',\n",
       " 'https://forums.e-hentai.org/index.php?showuser=2819597',\n",
       " 'https://forums.e-hentai.org/index.php?showuser=3011883',\n",
       " 'https://forums.e-hentai.org/index.php?showuser=3113602',\n",
       " 'https://forums.e-hentai.org/index.php?showuser=3125840',\n",
       " 'https://forums.e-hentai.org/index.php?showuser=3276514',\n",
       " 'https://forums.e-hentai.org/index.php?showuser=3556619',\n",
       " 'https://forums.e-hentai.org/index.php?showuser=711507',\n",
       " 'https://forums.e-hentai.org/index.php?showuser=903179',\n",
       " 'https://forums.e-hentai.org/index.php?showuser=965567',\n",
       " 'https://hentaiverse.org/',\n",
       " 'https://upload.e-hentai.org/manage.php'}"
      ]
     },
     "execution_count": 21,
     "metadata": {},
     "output_type": "execute_result"
    }
   ],
   "source": [
    "res.html.absolute_links"
   ]
  }
 ],
 "metadata": {
  "kernelspec": {
   "display_name": "Python 3",
   "language": "python",
   "name": "python3"
  },
  "language_info": {
   "codemirror_mode": {
    "name": "ipython",
    "version": 3
   },
   "file_extension": ".py",
   "mimetype": "text/x-python",
   "name": "python",
   "nbconvert_exporter": "python",
   "pygments_lexer": "ipython3",
   "version": "3.6.1"
  }
 },
 "nbformat": 4,
 "nbformat_minor": 2
}
