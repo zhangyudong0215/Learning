{
 "cells": [
  {
   "cell_type": "code",
   "execution_count": 7,
   "metadata": {},
   "outputs": [],
   "source": [
    "from requests_html import HTMLSession\n",
    "import requests\n",
    "import time\n",
    "import regex as re\n",
    "import functools\n",
    "import requests"
   ]
  },
  {
   "cell_type": "code",
   "execution_count": 78,
   "metadata": {},
   "outputs": [],
   "source": [
    "session = HTMLSession()\n",
    "url = 'http://www.177pic.info/html/2020/08/3773166.html'\n",
    "pattern = re.compile(url + '/(\\d+)')\n",
    "responses = []"
   ]
  },
  {
   "cell_type": "markdown",
   "metadata": {},
   "source": [
    "### 以上已抓取到所有需要的网页信息, 储存在responses里面"
   ]
  },
  {
   "cell_type": "code",
   "execution_count": 79,
   "metadata": {},
   "outputs": [],
   "source": [
    "def get_max_page():\n",
    "    responses.append(session.get(url))\n",
    "    pages = []\n",
    "    for item in responses[0].html.absolute_links:\n",
    "        res = pattern.match(item)\n",
    "        if res:\n",
    "            pages.append(res.group(1))\n",
    "    return max(map(int, pages))"
   ]
  },
  {
   "cell_type": "code",
   "execution_count": 80,
   "metadata": {},
   "outputs": [],
   "source": [
    "max_page = get_max_page()"
   ]
  },
  {
   "cell_type": "code",
   "execution_count": 81,
   "metadata": {},
   "outputs": [
    {
     "data": {
      "text/plain": [
       "21"
      ]
     },
     "execution_count": 81,
     "metadata": {},
     "output_type": "execute_result"
    }
   ],
   "source": [
    "max_page"
   ]
  },
  {
   "cell_type": "code",
   "execution_count": 82,
   "metadata": {},
   "outputs": [],
   "source": [
    "for index in range(2, max_page+1):\n",
    "    responses.append(session.get(url+'/'+str(index)))"
   ]
  },
  {
   "cell_type": "markdown",
   "metadata": {},
   "source": [
    "### 获得所有imgs的链接"
   ]
  },
  {
   "cell_type": "code",
   "execution_count": 94,
   "metadata": {},
   "outputs": [],
   "source": [
    "def get_page_imgs(response):\n",
    "    imgs = []\n",
    "    content = response.html.find('div.single-content', first=True)\n",
    "    pics = content.find('p')\n",
    "    for pic in pics:\n",
    "        try:\n",
    "            imgs.append(pic.find('img', first=True).attrs['data-lazy-src'])\n",
    "        except:\n",
    "            pass\n",
    "    return imgs"
   ]
  },
  {
   "cell_type": "code",
   "execution_count": 95,
   "metadata": {},
   "outputs": [],
   "source": [
    "def merge(list1, list2):\n",
    "    list1.extend(list2)\n",
    "    return list1"
   ]
  },
  {
   "cell_type": "code",
   "execution_count": 98,
   "metadata": {},
   "outputs": [],
   "source": [
    "imgs = functools.reduce(merge, map(get_page_imgs, responses))"
   ]
  },
  {
   "cell_type": "markdown",
   "metadata": {},
   "source": [
    "### 抓取图片到本地"
   ]
  },
  {
   "cell_type": "code",
   "execution_count": 100,
   "metadata": {},
   "outputs": [],
   "source": [
    "def save_image(img_url, order):\n",
    "    img_response = requests.get(img_url)\n",
    "    with open('E:/ZYD/spider/177test/%d.jpg' %order, 'ab') as f:\n",
    "        f.write(img_response.content)"
   ]
  },
  {
   "cell_type": "code",
   "execution_count": 101,
   "metadata": {},
   "outputs": [],
   "source": [
    "def download():\n",
    "    for index, img_url in enumerate(imgs):\n",
    "        print(img_url)\n",
    "        save_image(img_url, index+1)"
   ]
  },
  {
   "cell_type": "code",
   "execution_count": null,
   "metadata": {},
   "outputs": [
    {
     "name": "stdout",
     "output_type": "stream",
     "text": [
      "http://img.177pic.info/uploads/2020/07a/a001-298.jpg\n",
      "http://img.177pic.info/uploads/2020/07a/a002-298.jpg\n",
      "http://img.177pic.info/uploads/2020/07a/a003-298.jpg\n",
      "http://img.177pic.info/uploads/2020/07a/a004-298.jpg\n",
      "http://img.177pic.info/uploads/2020/07a/a005-298.jpg\n",
      "http://img.177pic.info/uploads/2020/07a/a006-298.jpg\n",
      "http://img.177pic.info/uploads/2020/07a/a007-298.jpg\n",
      "http://img.177pic.info/uploads/2020/07a/a008-298.jpg\n",
      "http://img.177pic.info/uploads/2020/07a/a009-298.jpg\n",
      "http://img.177pic.info/uploads/2020/07a/a010-298.jpg\n",
      "http://img.177pic.info/uploads/2020/07a/a011-298.jpg\n",
      "http://img.177pic.info/uploads/2020/07a/a012-298.jpg\n",
      "http://img.177pic.info/uploads/2020/07a/a013-298.jpg\n",
      "http://img.177pic.info/uploads/2020/07a/a014-298.jpg\n",
      "http://img.177pic.info/uploads/2020/07a/a015-298.jpg\n",
      "http://img.177pic.info/uploads/2020/07a/a016-298.jpg\n",
      "http://img.177pic.info/uploads/2020/07a/a017-298.jpg\n",
      "http://img.177pic.info/uploads/2020/07a/a018-298.jpg\n",
      "http://img.177pic.info/uploads/2020/07a/a019-298.jpg\n",
      "http://img.177pic.info/uploads/2020/07a/a020-298.jpg\n",
      "http://img.177pic.info/uploads/2020/07a/a021-298.jpg\n",
      "http://img.177pic.info/uploads/2020/07a/a022-298.jpg\n",
      "http://img.177pic.info/uploads/2020/07a/a023-298.jpg\n",
      "http://img.177pic.info/uploads/2020/07a/a024-298.jpg\n",
      "http://img.177pic.info/uploads/2020/07a/a025-298.jpg\n",
      "http://img.177pic.info/uploads/2020/07a/a026-298.jpg\n",
      "http://img.177pic.info/uploads/2020/07a/a027-298.jpg\n",
      "http://img.177pic.info/uploads/2020/07a/a028-298.jpg\n",
      "http://img.177pic.info/uploads/2020/07a/a029-298.jpg\n",
      "http://img.177pic.info/uploads/2020/07a/a030-298.jpg\n",
      "http://img.177pic.info/uploads/2020/07a/a031-298.jpg\n",
      "http://img.177pic.info/uploads/2020/07a/a032-297.jpg\n",
      "http://img.177pic.info/uploads/2020/07a/a033-297.jpg\n",
      "http://img.177pic.info/uploads/2020/07a/a034-297.jpg\n",
      "http://img.177pic.info/uploads/2020/07a/a035-293.jpg\n",
      "http://img.177pic.info/uploads/2020/07a/a036-292.jpg\n",
      "http://img.177pic.info/uploads/2020/07a/a037-292.jpg\n",
      "http://img.177pic.info/uploads/2020/07a/a038-291.jpg\n",
      "http://img.177pic.info/uploads/2020/07a/a039-291.jpg\n",
      "http://img.177pic.info/uploads/2020/07a/a040-291.jpg\n",
      "http://img.177pic.info/uploads/2020/07a/a041-290.jpg\n",
      "http://img.177pic.info/uploads/2020/07a/a042-289.jpg\n",
      "http://img.177pic.info/uploads/2020/07a/a043-289.jpg\n",
      "http://img.177pic.info/uploads/2020/07a/a044-288.jpg\n",
      "http://img.177pic.info/uploads/2020/07a/a045-288.jpg\n",
      "http://img.177pic.info/uploads/2020/07a/a046-287.jpg\n",
      "http://img.177pic.info/uploads/2020/07a/a047-285.jpg\n",
      "http://img.177pic.info/uploads/2020/07a/a048-284.jpg\n",
      "http://img.177pic.info/uploads/2020/07a/a049-284.jpg\n",
      "http://img.177pic.info/uploads/2020/07a/a050-282.jpg\n",
      "http://img.177pic.info/uploads/2020/07a/a051-281.jpg\n",
      "http://img.177pic.info/uploads/2020/07a/a052-280.jpg\n",
      "http://img.177pic.info/uploads/2020/07a/a053-277.jpg\n",
      "http://img.177pic.info/uploads/2020/07a/a054-276.jpg\n",
      "http://img.177pic.info/uploads/2020/07a/a055-275.jpg\n",
      "http://img.177pic.info/uploads/2020/07a/a056-273.jpg\n"
     ]
    }
   ],
   "source": [
    "%time download()"
   ]
  }
 ],
 "metadata": {
  "kernelspec": {
   "display_name": "Python 3",
   "language": "python",
   "name": "python3"
  },
  "language_info": {
   "codemirror_mode": {
    "name": "ipython",
    "version": 3
   },
   "file_extension": ".py",
   "mimetype": "text/x-python",
   "name": "python",
   "nbconvert_exporter": "python",
   "pygments_lexer": "ipython3",
   "version": "3.7.0"
  }
 },
 "nbformat": 4,
 "nbformat_minor": 2
}
