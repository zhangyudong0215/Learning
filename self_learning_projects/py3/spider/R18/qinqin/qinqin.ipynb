{
 "cells": [
  {
   "cell_type": "code",
   "execution_count": 1,
   "metadata": {},
   "outputs": [],
   "source": [
    "from requests_html import HTMLSession\n",
    "import requests\n",
    "import time\n",
    "import regex as re\n",
    "import functools\n",
    "import requests"
   ]
  },
  {
   "cell_type": "code",
   "execution_count": 29,
   "metadata": {},
   "outputs": [],
   "source": [
    "session = HTMLSession()\n",
    "url = 'https://m.duzhez.com/manhua/17884/'\n",
    "pattern = re.compile(url + '(\\d+)')\n",
    "responses = []"
   ]
  },
  {
   "cell_type": "code",
   "execution_count": 24,
   "metadata": {},
   "outputs": [
    {
     "data": {
      "text/plain": [
       "regex.Regex('https://m.duzhez.com/manhua/17884/\\\\d+', flags=regex.V0)"
      ]
     },
     "execution_count": 24,
     "metadata": {},
     "output_type": "execute_result"
    }
   ],
   "source": [
    "pattern"
   ]
  },
  {
   "cell_type": "code",
   "execution_count": 25,
   "metadata": {},
   "outputs": [],
   "source": [
    "res = session.get(url)"
   ]
  },
  {
   "cell_type": "code",
   "execution_count": 32,
   "metadata": {},
   "outputs": [],
   "source": [
    "pages = []\n",
    "for link in res.html.absolute_links:\n",
    "    tmp = pattern.match(link)\n",
    "    if tmp:\n",
    "        pages.append([link, tmp.group(1)])\n",
    "pages.sort(key=lambda x: x[1])"
   ]
  },
  {
   "cell_type": "code",
   "execution_count": 38,
   "metadata": {},
   "outputs": [
    {
     "data": {
      "text/plain": [
       "'https://m.duzhez.com/manhua/17884/667646.html'"
      ]
     },
     "execution_count": 38,
     "metadata": {},
     "output_type": "execute_result"
    }
   ],
   "source": [
    "first_url = pages[0][0]\n",
    "first_url"
   ]
  },
  {
   "cell_type": "code",
   "execution_count": 69,
   "metadata": {},
   "outputs": [],
   "source": [
    "res = session.get('https://m.duzhez.com/manhua/17884/667646.html?p=2')"
   ]
  },
  {
   "cell_type": "code",
   "execution_count": 70,
   "metadata": {},
   "outputs": [],
   "source": [
    "tmp = re.search('http://mhimg\\.9mmc\\.com:.+?\\.jpg', res.html.text)"
   ]
  },
  {
   "cell_type": "code",
   "execution_count": 71,
   "metadata": {},
   "outputs": [
    {
     "data": {
      "text/plain": [
       "'http://mhimg.9mmc.com:44237/images/cover/201901/1548396989a6UdsfK18BqhD2nR.jpg'"
      ]
     },
     "execution_count": 71,
     "metadata": {},
     "output_type": "execute_result"
    }
   ],
   "source": [
    "img_url = tmp.group()\n",
    "img_url"
   ]
  },
  {
   "cell_type": "code",
   "execution_count": 72,
   "metadata": {},
   "outputs": [],
   "source": [
    "def save_image(img_url, order):\n",
    "    img_response = session.get(img_url)\n",
    "    with open('./%d.jpg' %order, 'ab') as f:\n",
    "        f.write(img_response.content)"
   ]
  },
  {
   "cell_type": "code",
   "execution_count": 73,
   "metadata": {},
   "outputs": [],
   "source": [
    "save_image(tmp.group(), 1)"
   ]
  },
  {
   "cell_type": "code",
   "execution_count": 74,
   "metadata": {},
   "outputs": [],
   "source": [
    "tmp = re.search('\\\\n1/\\\\n(\\d+)\\n', res.html.text)"
   ]
  },
  {
   "cell_type": "code",
   "execution_count": 75,
   "metadata": {},
   "outputs": [
    {
     "data": {
      "text/plain": [
       "'42'"
      ]
     },
     "execution_count": 75,
     "metadata": {},
     "output_type": "execute_result"
    }
   ],
   "source": [
    "max_page = tmp.group(1)\n",
    "max_page"
   ]
  },
  {
   "cell_type": "code",
   "execution_count": 87,
   "metadata": {},
   "outputs": [],
   "source": [
    "from time import sleep"
   ]
  },
  {
   "cell_type": "code",
   "execution_count": 90,
   "metadata": {},
   "outputs": [],
   "source": [
    "url = 'https://m.duzhez.com/manhua/17884/667646.html'\n",
    "# def get_one_chapter(url):\n",
    "img_urls = []\n",
    "res = session.get(url)\n",
    "img_urls.append(re.search('http://mhimg\\.9mmc\\.com:.+?\\.jpg', res.html.text).group())\n",
    "max_page = int(re.search('\\\\n1/\\\\n(\\d+)\\n', res.html.text).group(1))"
   ]
  },
  {
   "cell_type": "code",
   "execution_count": 85,
   "metadata": {},
   "outputs": [
    {
     "data": {
      "text/plain": [
       "42"
      ]
     },
     "execution_count": 85,
     "metadata": {},
     "output_type": "execute_result"
    }
   ],
   "source": [
    "for index in range(2, max_page+1):\n",
    "    sleep(0.5)\n",
    "    res = session.get(url+'?p='+str(index))\n",
    "    img_urls.append(re.search('http://mhimg\\.9mmc\\.com:.+?\\.jpg', res.html.text).group())"
   ]
  },
  {
   "cell_type": "code",
   "execution_count": 92,
   "metadata": {},
   "outputs": [
    {
     "data": {
      "text/plain": [
       "b'<!DOCTYPE html>\\n<html lang=\"zh-CN\">\\n<head>\\n    <meta name=\"renderer\" content=\"webkit\">\\n    <meta charset=\"UTF-8\">\\n    <meta name=\"viewport\" content=\"width=device-width, initial-scale=1\">\\n    <meta http-equiv=\"X-UA-Compatible\" content=\"IE=edge,chrome=1\">\\n    <meta name=\"MobileOptimized\" content=\"320\">\\n    <meta name=\"csrf-param\" content=\"_csrf\">\\n    <meta name=\"csrf-token\" content=\"7VFgCbClYWnp3X7kgVM030aCFIovx5onyCMLHJS6NJeAPzc_9OMZUI2wE7bHMAeRBMxs-B6vyQq5R0l-zo8BwA==\">\\n    <title>\\xe9\\x82\\xbb\\xe5\\xae\\xb6\\xe4\\xb8\\x89\\xe5\\xa5\\xb3\\xe5\\x88\\x9d\\xe9\\x95\\xbf\\xe6\\x88\\x90\\xe5\\xba\\x8f\\xe7\\xab\\xa0_\\xe9\\x82\\xbb\\xe5\\xae\\xb6\\xe4\\xb8\\x89\\xe5\\xa5\\xb3\\xe5\\x88\\x9d\\xe9\\x95\\xbf\\xe6\\x88\\x90\\xe6\\xbc\\xab\\xe7\\x94\\xbb        - \\xe4\\xba\\xb2\\xe4\\xba\\xb2\\xe6\\xbc\\xab\\xe7\\x94\\xbb\\xe7\\xbd\\x91</title>\\n    <meta name=\"keyword\" content=\"\\xe9\\x82\\xbb\\xe5\\xae\\xb6\\xe4\\xb8\\x89\\xe5\\xa5\\xb3\\xe5\\x88\\x9d\\xe9\\x95\\xbf\\xe6\\x88\\x90,\\xe9\\x82\\xbb\\xe5\\xae\\xb6\\xe4\\xb8\\x89\\xe5\\xa5\\xb3\\xe5\\x88\\x9d\\xe9\\x95\\xbf\\xe6\\x88\\x90\\xe5\\xba\\x8f\\xe7\\xab\\xa0,\\xe9\\x82\\xbb\\xe5\\xae\\xb6\\xe4\\xb8\\x89\\xe5\\xa5\\xb3\\xe5\\x88\\x9d\\xe9\\x95\\xbf\\xe6\\x88\\x90\\xe6\\xbc\\xab\\xe7\\x94\\xbb\">\\n<meta name=\"description\" content=\"\\xe4\\xba\\xb2\\xe4\\xba\\xb2\\xe6\\xbc\\xab\\xe7\\x94\\xbb\\xe6\\xaf\\x8f\\xe5\\x91\\xa86\\xe6\\x9b\\xb4\\xe6\\x96\\xb0\\xef\\xbc\\x8c\\xe4\\xb8\\x80\\xe8\\xb5\\xb7\\xe7\\x94\\x9f\\xe6\\xb4\\xbb\\xe4\\xba\\x8620\\xe5\\xb9\\xb4\\xe7\\x9a\\x84\\xe9\\x82\\xbb\\xe5\\xae\\xb63\\xe5\\xa7\\x90\\xe5\\xa6\\xb9\\xe4\\xbb\\xac\\xef\\xbc\\x8c\\xe5\\x9b\\xa0\\xe4\\xb8\\xba\\xe4\\xb8\\x80\\xe6\\xac\\xa1\\xe8\\xaf\\xaf\\xe4\\xbc\\x9a\\xe5\\xbc\\x80\\xe5\\xa7\\x8b\\xe4\\xba\\x86\\xe4\\xb8\\x8d\\xe5\\x90\\x8c\\xe7\\x9a\\x84\\xe7\\xa5\\x9e\\xe5\\xb1\\x95\">\\n<link href=\"/assets/6879a3cc/css/font-awesome.min.css\" rel=\"stylesheet\">\\n<link href=\"/assets/fba61267/css/bootstrap.css\" rel=\"stylesheet\">\\n<link href=\"/plugins/toastr/toastr.min.css\" rel=\"stylesheet\">\\n<link href=\"/css/main.css\" rel=\"stylesheet\">\\n<link href=\"/assets/79745f1e/css/common.css\" rel=\"stylesheet\">    <!--\\xe7\\xbb\\x9f\\xe8\\xae\\xa1-->\\r\\n<script>\\r\\nvar _hmt = _hmt || [];\\r\\n(function() {\\r\\n  var hm = document.createElement(\"script\");\\r\\n  hm.src = \"https://hm.baidu.com/hm.js?61fd0b1112a1a37f7c8ee0ed2cd27271\";\\r\\n  var s = document.getElementsByTagName(\"script\")[0]; \\r\\n  s.parentNode.insertBefore(hm, s);\\r\\n})();\\r\\n</script>\\r\\n<script>\\r\\n(function(){\\r\\n    var bp = document.createElement(\\'script\\');\\r\\n    var curProtocol = window.location.protocol.split(\\':\\')[0];\\r\\n    if (curProtocol === \\'https\\') {\\r\\n        bp.src = \\'https://zz.bdstatic.com/linksubmit/push.js\\';\\r\\n    }\\r\\n    else {\\r\\n        bp.src = \\'http://push.zhanzhang.baidu.com/push.js\\';\\r\\n    }\\r\\n    var s = document.getElementsByTagName(\"script\")[0];\\r\\n    s.parentNode.insertBefore(bp, s);\\r\\n})();\\r\\n</script>\\r\\n<meta name=\"shenma-site-verification\" content=\"b07f87a126d4457ca2754610ff2c4359_1482653154\"> \\r\\n<meta name=\"baidu_ssp_verify\" content=\"d5825fb40383536668cc9548875a45c9\">\\r\\n  <script language=\"javascript\">\\r\\n<!--\\r\\nif (top.location !== self.location) {\\r\\ntop.location=self.location;\\r\\n}\\r\\n//-->\\r\\n</script>\\r\\n<script type=\"text/javascript\">\\r\\nif (document.domain != \\'m.duzhez.com\\' && document.domain != \\'duzhez.com\\' && document.domain != \\'www.duzhez.com\\'){\\r\\n window.location.href=\\'https://www.baidu.com\\';\\r\\n}\\r\\n</script></head>\\n<body class=\"clearfix\" style=\"background:#444;\">\\n<script>;var siteName = \"\";var siteUrl = \"http://m.duzhez.com\";;var chapterImages = \"/u3m+iCPEi9YkFMrOwJYshs1S9mSuc+XNITy6O//QduNe4MISzX700epgsEFbcT+z4rbS/LdWaXyMKI8vYE7SHJjBhoRzFcB6A/5qzwRfsKGqhn0oNQmvmzVj8GE44e2i1uzGFj9Qp2dVhRdeEVWIOUWMieisy4cKjG5IB4qizaBZtgxPYL2/geubxnnwcCaF1NDChK6LFy1T725bBUfEfMAKsX+oOQlmURfVrkNgjYACoR3FZVWQqawC5MAHfVunEUkMbEYogO1E/YCPL/m2rK6HunDBghekZeRDeP+hLnYXbXY7b2X70Q4SK8joELEaUu/bUytcUupMNCSLZxriQDzSbrqVbj7J0niljlxbaiXcg5TTv7EwCh4U7ktdH4uAFKGFUePIQkgK3/JOrIQIDW7/0vnfZ9N1oDU8lOSQJ0hg+l69yyLCHAaPYxcfJbn6d68bQrDhfaKw4Wiqf6VqXNFUGqxtAf5ffWRt7ZggXJyv8OlpwkcanuEwUwUfxRJvzMqbQFijBOW85uLWH7ZOlQxzoqwINLJeOUUULKHl8jD08H9+D5MSp0WMg5DTjw1jfLvyxgRORw0cXwyg10oQ+OokrfOCBSbrS+ErEXr/mB8YuO16b1AEqt3+kkIsHgvETGcjAotbs9QvPciru4yG+LxMWSOlS1nChk+17p/Uu0j0GQQJOqNa2kx/zJDgcG8MJospzu3vGIqoLJwgG23g8yqbAC7RW2EYAWZfxNPJKWo/60bdROKD79hgg+TjBhTLS+oq09M14GvSZLGEuQejtdy/B5Jt59qsMDBraeEVXYhqX6EQaTPLeUU0RzoRQ+wTl+0YWa1Kt0LgIEY5zwJFcSmHJT00x8G0ycA/GiqBs/q6I0knc7f2XpuKhWEHNBWylPJOsAleKm9wxbCjRVNBb04P+KKKLMWMfJeDh1oTgOkNKTTlueAgvPYchcu6xwD3MQqvuuMFsSkEf80zYxsiAzv34PUwufpZfToEachDJO9i1xza9egf7tk8i95cgpgpkiolvRoJ6X+xia2TMy72nzx3ACs7IOxDHA/Dwih0o8uk1I1EmMImXR8oBb7pN5YRS4ZKCMkDzoWOWFxiHBxY0eF44YKh1edSIPDmjeZCK2O4Z58ctIz75NGhoxQO+gOwDn8aJoks9oCZVb/bUu6gByNkcR4sYEnFrvaQjEp+h8lWVwwswhVrQIVYZVJR1WDzQHlNz7Gnx5iD2CwBn651Irf/Ry1ge17f/6U8iyHfRRsieJzFNijOkkpDd6LE/WFDtcurMhCimLM0q66V05zs5Ppxr1sIDWm/aiHxbYZy2jt0cXX1vD5PvWzKLMttHpOoglsH6qvy8wSVqz6tw5yFmwFIQZ/vi+bQ3vhHUEDwAONXYkLkU3q2ot+KPUmomvw2h3VyEOoD2bG/plYzBmTK60V7yz8A7jI9LsKkj0eZdhyKU+y6xh4FB8OhVtdPYr9NVwdvBDBSVNp2/qBm9bYWCOdvVPnn8Ao6tPfVSbh+gujl2mJzlmwQv+nR2cZb3dIUy0GcA6wCrZa9ceY4yiXnFrLZS309MXQgPD3RvrUaldfNq4bYViDImiBBxJ0BXhvk8RHVFakoLu9R3KZYzhx+Tx1AMdd0NabwkUxc3GjyaQye7EgKiWb6MLbr0OEJdtJeSngUfGdiL7gaxBpDRUkeqtKeL1Pl6q9Y1zkt6G/6RQmltMkjsBIoIQruMP7wt7iAia2ffGZpsrHNUOY/HrpqE1buPRnqdnEjmkoGUbgtrT523gzKtYj3nQ/Nj/byLbc924xwJI8jEHmDmpg1XQl5cFmKmTXYiwePJpUI7kCnWtFY21PtIjejlJW7g2wqPEt\";var chapterPath = \"images/comic/334/667646/\";var pageTitle = \"\\xe9\\x82\\xbb\\xe5\\xae\\xb6\\xe4\\xb8\\x89\\xe5\\xa5\\xb3\\xe5\\x88\\x9d\\xe9\\x95\\xbf\\xe6\\x88\\x90\\xe5\\xba\\x8f\\xe7\\xab\\xa0_\\xe9\\x82\\xbb\\xe5\\xae\\xb6\\xe4\\xb8\\x89\\xe5\\xa5\\xb3\\xe5\\x88\\x9d\\xe9\\x95\\xbf\\xe6\\x88\\x90\\xe6\\xbc\\xab\\xe7\\x94\\xbb\";var comicUrl = \"http://m.duzhez.com/manhua/17884/\";var pageUrl = \"http://m.duzhez.com/manhua/17884/\";var pageImage = \"http://mhimg.9mmc.com:44237/images/cover/201901/1548396989a6UdsfK18BqhD2nR.jpg\";var pageDomain = \"http://m.duzhez.com\";var pageId = \"comic.17884\";var prevChapterData = {\"id\":null,\"comic_id\":null,\"comic_name\":null,\"status\":null,\"vip\":null,\"is_end\":null,\"name\":null,\"type\":null,\"rtl\":null,\"image_mode\":null,\"category\":null,\"link\":null,\"link_name\":null,\"image_type\":null,\"count\":null,\"sort\":null,\"price\":null,\"created_at\":null,\"updated_at\":null};var nextChapterData = {\"id\":667647,\"comic_id\":17884,\"comic_name\":\"\\xe9\\x82\\xbb\\xe5\\xae\\xb6\\xe4\\xb8\\x89\\xe5\\xa5\\xb3\\xe5\\x88\\x9d\\xe9\\x95\\xbf\\xe6\\x88\\x90\",\"status\":1,\"vip\":0,\"is_end\":0,\"name\":\"\\xe7\\xac\\xac1\\xe8\\xaf\\x9d\",\"type\":0,\"rtl\":0,\"image_mode\":0,\"category\":1,\"link\":\"\",\"link_name\":\"\",\"image_type\":0,\"count\":90,\"sort\":999,\"price\":0,\"created_at\":1548397155,\"updated_at\":1548412262};</script><div class=\"UnderPage chapter-view\" id=\"chapter-view\">\\n    <!--\\xe5\\x88\\x86\\xe4\\xba\\xab\\xe5\\xbc\\xb9\\xe5\\xb1\\x82-->\\n    <div class=\"sharWin\" id=\"share-panel\">\\n        <div class=\"sharClose\" id=\"share-close\"></div>\\n        <p class=\"sharBar\">\\xe5\\x88\\x86\\xe4\\xba\\xab\\xe5\\x88\\xb0\\xef\\xbc\\x9a</p>\\n        <div class=\"sharBox\">\\n            <div class=\"bdsharebuttonbox\"><a class=\"bds_more\" href=\"#\" data-cmd=\"more\"></a><a title=\"\\xe5\\x88\\x86\\xe4\\xba\\xab\\xe5\\x88\\xb0QQ\\xe7\\xa9\\xba\\xe9\\x97\\xb4\" class=\"bds_qzone\" href=\"#\" data-cmd=\"qzone\"></a><a title=\"\\xe5\\x88\\x86\\xe4\\xba\\xab\\xe5\\x88\\xb0\\xe6\\x96\\xb0\\xe6\\xb5\\xaa\\xe5\\xbe\\xae\\xe5\\x8d\\x9a\" class=\"bds_tsina\" href=\"#\" data-cmd=\"tsina\"></a><a title=\"\\xe5\\x88\\x86\\xe4\\xba\\xab\\xe5\\x88\\xb0\\xe5\\xbe\\xae\\xe4\\xbf\\xa1\" class=\"bds_weixin\" href=\"#\" data-cmd=\"weixin\"></a><a title=\"\\xe5\\x88\\x86\\xe4\\xba\\xab\\xe5\\x88\\xb0QQ\\xe5\\xa5\\xbd\\xe5\\x8f\\x8b\" class=\"bds_sqq\" href=\"#\" data-cmd=\"sqq\"></a><a title=\"\\xe5\\x88\\x86\\xe4\\xba\\xab\\xe5\\x88\\xb0\\xe7\\x99\\xbe\\xe5\\xba\\xa6\\xe8\\xb4\\xb4\\xe5\\x90\\xa7\" class=\"bds_tieba\" href=\"#\" data-cmd=\"tieba\"></a></div>\\r\\n<script>window._bd_share_config={\"common\":{\"bdSnsKey\":{},\"bdText\":\"\",\"bdMini\":\"1\",\"bdMiniList\":false,\"bdPic\":\"\",\"bdStyle\":\"0\",\"bdSize\":\"24\"},\"share\":{},\"image\":{\"viewList\":[\"qzone\",\"tsina\",\"weixin\",\"sqq\",\"tieba\"],\"viewText\":\"\\xe5\\xae\\x89\\xe5\\x88\\xa9\\xe5\\x88\\xb0\\xef\\xbc\\x9a\",\"viewSize\":\"16\"}};with(document)0[(getElementsByTagName(\\'head\\')[0]||body).appendChild(createElement(\\'script\\')).src=\\'/static/api/js/share.js?v=89860593.js?cdnversion=\\'+~(-new Date()/36e5)];</script>        </div>\\n    </div>\\n    <!--\\xe5\\x88\\x86\\xe4\\xba\\xab\\xe5\\xbc\\xb9\\xe5\\xb1\\x82 end-->\\n    <div class=\"subHeader\" style=\"display: none;\" id=\"panel-title\">\\n        <a href=\"javascript:SinMH.goBack();\" class=\"iconRet\"></a>\\n        <a href=\"javascript:void(0);\" class=\"BarTit\">\\xe5\\xba\\x8f\\xe7\\xab\\xa0<span id=\"page-info\"></span>\\n</a>\\n\\t\\t<a href=\"/\" class=\"iconHome\"></a>\\n        <a href=\"javascript:void(0);\" class=\"iconShar\" id=\"shareIcon\"></a>\\n    </div>   \\n        <div id=\"images\"></div>\\n        <div class=\"loading\" id=\"loading\"><span>\\xe5\\xb0\\x91\\xe5\\xa5\\xb3\\xe8\\xaf\\xbb\\xe5\\x8f\\x96\\xe4\\xb8\\xad...</span></div>\\n\\n    <div class=\"control_bottom\" style=\"display: none\" id=\"m_r_bottom\">\\n        <div id=\"action\" class=\"action-list\">\\n            <ul>\\n                <li><a href=\"javascript:SinTheme.prevChapter();\">\\xe4\\xb8\\x8a\\xe4\\xb8\\x80\\xe7\\xab\\xa0</a></li>\\n                <li><a href=\"javascript:SinTheme.prevPage();\">\\xe4\\xb8\\x8a\\xe4\\xb8\\x80\\xe9\\xa1\\xb5</a></li>\\n                <li><a href=\"javascript:SinTheme.nextPage();\">\\xe4\\xb8\\x8b\\xe4\\xb8\\x80\\xe9\\xa1\\xb5</a></li>\\n                <li><a href=\"javascript:SinTheme.nextChapter();\">\\xe4\\xb8\\x8b\\xe4\\xb8\\x80\\xe7\\xab\\xa0</a></li>\\n            </ul>\\n        </div>\\n    </div>\\n    <div style=\"padding:2EM;background:#FFF;margin-bottom:14em;\" class=\"autoHeight\">\\n      <script>\\n      document.writeln(\"<p class=\\\\\\'txtDesc autoHeight\\\\\\' style=\\\\\\'background:#FFF;color:#CCC;text-align:center;font-size:20px;\\\\\\'>\\xe7\\x82\\xb9\\xe5\\x87\\xbb\\xe5\\x9b\\xbe\\xe7\\x89\\x87\\xe8\\xbf\\x9b\\xe5\\x85\\xa5\\xe4\\xb8\\x8b\\xe4\\xb8\\x80\\xe9\\xa1\\xb5</p>\");\\n      </script>\\n    </div>\\n    <div class=\"control_bottom\" style=\"display: none;\" id=\"panel-body\">\\n        <div class=\"BtnBox\">\\n            <!--\\xe4\\xb8\\x8b\\xe4\\xb8\\x80\\xe7\\xab\\xa0-->\\n            <div class=\"load_box next\" id=\"loadNextChapter\" onclick=\"SinTheme.nextChapter();\"></div>\\n            <!--\\xe4\\xb8\\x8a\\xe4\\xb8\\x80\\xe7\\xab\\xa0-->\\n            <div class=\"load_box prev\" id=\"loadPrevChapter\" onclick=\"SinTheme.prevChapter();\"></div>\\n            <div class=\"page_left\" id=\"m_r_nums\"><span id=\"current-page\">1</span>/\\n                <any id=\"total-page\">42</any>\\n            </div>\\n        </div>\\n        <div class=\"control_scroll\">\\n            <div class=\"scroll_left_Box\">\\n                <div class=\"scroll_box\" id=\"m_r_slider\">\\n                    <div class=\"scroll_barX\" style=\"width: 25px;\"></div>\\n                    <div class=\"scroll_bar\" id=\"m_r_slider_ball\" ontouchmove=\"SinTheme.touchMoveAction(event)\"\\n                         ontouchend=\"SinTheme.touchEndAction(event)\" style=\"left: 0px;\"></div>\\n                </div>\\n            </div>\\n        </div>\\n    </div>\\n    <!--\\xe6\\x8e\\xa7\\xe5\\x88\\xb6\\xe9\\x9d\\xa2\\xe6\\x9d\\xbfend -->\\n    <div class=\"control_panel alpha\" style=\"display:table\" id=\"control-panel\" prompt=\"true\">\\n        <div class=\"mark\" id=\"panel-mark\"></div>\\n    </div>\\n</div>\\n<script id=\"res-template\" type=\"text/html\">\\n    <span>\\xe7\\xba\\xbf\\xe8\\xb7\\xaf\\xe9\\x80\\x89\\xe6\\x8b\\xa9\\xe2\\x86\\x92 &nbsp;</span>\\n    <%if(list&&list.length>0){\\n    var resHostIndex = SinMH.getResHostIndex();\\n    for(var i = 0; i\\n    <list.length;i++){\\n    var item = list[i];\\n    var active = i == resHostIndex?\\'active\\':\\'\\';\\n    %>\\n    <a href=\"javascript:SinMH.setResHost(<%=i%>)\" class=\"<%=active %>\"><%=item.name%></a>\\n    <%}\\n    }else{%>\\n    \\xe6\\x97\\xa0\\xe6\\x9c\\x8d\\xe5\\x8a\\xa1\\xe5\\x99\\xa8\\xe5\\x8f\\xaf\\xe9\\x80\\x89\\n    <%}%>\\n</script>\\n<script src=\"//m.duzhez.com/2essgt/kpc.js\"></script>\\n  <script src=\"/assets/5500cf4f/jquery.js\"></script>\\n<script src=\"/assets/34693edf/yii.js\"></script>\\n<script src=\"/assets/fba61267/js/bootstrap.js\"></script>\\n<script src=\"/plugins/toastr/toastr.min.js\"></script>\\n<script src=\"/plugins/baiduTemplate.js\"></script>\\n<script src=\"/plugins/jquery/jquery.cookie.js\"></script>\\n<script src=\"/plugins/jquery/jquery.image.js\"></script>\\n<script src=\"/plugins/jquery/jquery.lazyload.min.js\"></script>\\n<script src=\"/plugins/jquery/jquery.hotkeys.js\"></script>\\n<script src=\"/plugins/bootstrap/bootstrap.hover.dropdown.js\"></script>\\n<script src=\"/plugins/bootstrap/bootstrap.hover.tab.js\"></script>\\n<script src=\"/js/config.js\"></script>\\n<script src=\"/js/common.js\"></script>\\n<script src=\"/assets/79745f1e/js/theme.js\"></script>\\n<script src=\"/js/crypto.js\"></script>\\n<script src=\"/js/cops201921.js\"></script>\\n<script>jQuery(function ($) {\\n;cops201921(667646,\"\\xe5\\xba\\x8f\\xe7\\xab\\xa0\",17884,\"\\xe9\\x82\\xbb\\xe5\\xae\\xb6\\xe4\\xb8\\x89\\xe5\\xa5\\xb3\\xe5\\x88\\x9d\\xe9\\x95\\xbf\\xe6\\x88\\x90\");\\n$(\\'#page-info\\').text(\\'(\\'+SinTheme.getPage()+\\'/\\'+SinMH.getChapterImageCount()+\\')\\');\\n});</script><div style=\"display:none;\"><div style=\"display:none\"><script type=\"text/javascript\">var cnzz_protocol = ((\"https:\" == document.location.protocol) ? \" https://\" : \" http://\");document.write(unescape(\"%3Cspan id=\\'cnzz_stat_icon_1261043153\\'%3E%3C/span%3E%3Cscript src=\\'\" + cnzz_protocol + \"s95.cnzz.com/stat.php%3Fid%3D1261043153\\' type=\\'text/javascript\\'%3E%3C/script%3E\"));</script></div></div>\\n</body>\\n</html>\\n'"
      ]
     },
     "execution_count": 92,
     "metadata": {},
     "output_type": "execute_result"
    }
   ],
   "source": [
    "res.content"
   ]
  }
 ],
 "metadata": {
  "kernelspec": {
   "display_name": "Python 3",
   "language": "python",
   "name": "python3"
  },
  "language_info": {
   "codemirror_mode": {
    "name": "ipython",
    "version": 3
   },
   "file_extension": ".py",
   "mimetype": "text/x-python",
   "name": "python",
   "nbconvert_exporter": "python",
   "pygments_lexer": "ipython3",
   "version": "3.6.5"
  }
 },
 "nbformat": 4,
 "nbformat_minor": 2
}
