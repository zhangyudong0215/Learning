{
 "cells": [
  {
   "cell_type": "code",
   "execution_count": 1,
   "metadata": {},
   "outputs": [],
   "source": [
    "from requests_html import HTMLSession\n",
    "import requests\n",
    "import time\n",
    "import regex as re\n",
    "import functools\n",
    "import requests"
   ]
  },
  {
   "cell_type": "code",
   "execution_count": 14,
   "metadata": {},
   "outputs": [],
   "source": [
    "session = HTMLSession()\n",
    "url = 'https://www.diyibanzhu7.co/7/7614'\n",
    "domain = 'https://www.diyibanzhu7.co'\n",
    "pattern = re.compile(url + '_(\\d+)')\n",
    "responses = []"
   ]
  },
  {
   "cell_type": "markdown",
   "metadata": {},
   "source": [
    "### 以上已抓取到所有需要的网页信息, 储存在responses里面"
   ]
  },
  {
   "cell_type": "code",
   "execution_count": 15,
   "metadata": {},
   "outputs": [],
   "source": [
    "def get_max_page():\n",
    "    responses.append(session.get(url+'/'))\n",
    "    pages = []\n",
    "    for item in responses[0].html.absolute_links:\n",
    "        tmp = pattern.match(item)\n",
    "        if tmp:\n",
    "            pages.append(tmp.group(1))\n",
    "    return max(map(int, pages))"
   ]
  },
  {
   "cell_type": "code",
   "execution_count": 16,
   "metadata": {},
   "outputs": [],
   "source": [
    "max_page = get_max_page()"
   ]
  },
  {
   "cell_type": "code",
   "execution_count": 17,
   "metadata": {},
   "outputs": [],
   "source": [
    "for index in range(2, max_page+1):\n",
    "    time.sleep(20)\n",
    "    responses.append(session.get(url+'_'+str(index)))"
   ]
  },
  {
   "cell_type": "markdown",
   "metadata": {},
   "source": [
    "### test"
   ]
  },
  {
   "cell_type": "code",
   "execution_count": 20,
   "metadata": {},
   "outputs": [
    {
     "name": "stdout",
     "output_type": "stream",
     "text": [
      "b'<!DOCTYPE html PUBLIC \"-//WAPFORUM//DTD XHTML Mobile 1.0//EN\" \"http://www.wapforum.org/DTD/xhtml-mobile10.dtd\">\\n<html xmlns=\"http://www.w3.org/1999/xhtml\">\\n<head>\\n<meta http-equiv=\"Content-Type\" content=\"application/xhtml+xml; charset=gbk\" />\\n<title>\\xc7\\xed\\xc3\\xf7\\xc9\\xf1\\xc5\\xae\\xc2\\xbc\\xd7\\xee\\xd0\\xc2\\xd5\\xc2\\xbd\\xda_\\xb5\\xb9\\xd0\\xfc\\xc9\\xbd\\xbd\\xa3\\xc6\\xf8\\xb3\\xa4\\xb4\\xe6\\xd0\\xc2\\xca\\xe9\\xd7\\xf7\\xc6\\xb7_\\xb0\\xe6\\xd6\\xf7\\xd0\\xa1\\xcb\\xb5\\xcd\\xf8_\\xc0\\xf0\\xd3\\xe3\\xcf\\xe7_\\xcc\\xc9\\xd7\\xc5\\xbf\\xb4\\xd0\\xa1\\xcb\\xb5_\\xb0\\xd4\\xc6\\xf8\\xca\\xe9\\xce\\xdd_\\xb0\\xe6\\xd6\\xf7\\xb2\\xd8\\xbe\\xad\\xb8\\xf3_\\xc4\\xbf\\xc2\\xbc\\xc5\\xc5\\xd0\\xd0\\xb0\\xf1</title>\\n<meta name=\"keywords\" content=\"\\xc7\\xed\\xc3\\xf7\\xc9\\xf1\\xc5\\xae\\xc2\\xbc,\\xc7\\xed\\xc3\\xf7\\xc9\\xf1\\xc5\\xae\\xc2\\xbc\\xd4\\xda\\xcf\\xdf\\xd4\\xc4\\xb6\\xc1,\\xc7\\xed\\xc3\\xf7\\xc9\\xf1\\xc5\\xae\\xc2\\xbc\\xd7\\xee\\xd0\\xc2\\xd5\\xc2\\xbd\\xda,\\xc7\\xed\\xc3\\xf7\\xc9\\xf1\\xc5\\xae\\xc2\\xbc5200,\\xc7\\xed\\xc3\\xf7\\xc9\\xf1\\xc5\\xae\\xc2\\xbctxt\\xcf\\xc2\\xd4\\xd8,\\xb0\\xe6\\xd6\\xf7\\xd0\\xa1\\xcb\\xb5\\xcd\\xf8_\\xc0\\xf0\\xd3\\xe3\\xcf\\xe7_\\xcc\\xc9\\xd7\\xc5\\xbf\\xb4\\xd0\\xa1\\xcb\\xb5_\\xb0\\xd4\\xc6\\xf8\\xca\\xe9\\xce\\xdd_\\xb0\\xe6\\xd6\\xf7\\xb2\\xd8\\xbe\\xad\\xb8\\xf3_\\xc4\\xbf\\xc2\\xbc\\xc5\\xc5\\xd0\\xd0\\xb0\\xf1\" />\\n<meta name=\"description\" content=\"\\xb0\\xe6\\xd6\\xf7\\xd0\\xa1\\xcb\\xb5\\xcd\\xf8_\\xc0\\xf0\\xd3\\xe3\\xcf\\xe7_\\xcc\\xc9\\xd7\\xc5\\xbf\\xb4\\xd0\\xa1\\xcb\\xb5_\\xb0\\xd4\\xc6\\xf8\\xca\\xe9\\xce\\xdd_\\xb0\\xe6\\xd6\\xf7\\xb2\\xd8\\xbe\\xad\\xb8\\xf3_\\xc4\\xbf\\xc2\\xbc\\xc5\\xc5\\xd0\\xd0\\xb0\\xf1\\xcc\\xe1\\xb9\\xa9\\xb5\\xb9\\xd0\\xfc\\xc9\\xbd\\xbd\\xa3\\xc6\\xf8\\xb3\\xa4\\xb4\\xe6\\xd0\\xc2\\xca\\xe9\\xd7\\xf7\\xc6\\xb7_\\xc7\\xed\\xc3\\xf7\\xc9\\xf1\\xc5\\xae\\xc2\\xbc\\xd7\\xee\\xd0\\xc2\\xd5\\xc2\\xbd\\xda\\xc8\\xab\\xce\\xc4\\xc3\\xe2\\xb7\\xd1\\xd4\\xda\\xcf\\xdf\\xd4\\xc4\\xb6\\xc1\\xa3\\xac\\xc7\\xed\\xc3\\xf7\\xc9\\xf1\\xc5\\xae\\xc2\\xbctxt\\xb5\\xe7\\xd7\\xd3\\xca\\xe9\\xc3\\xe2\\xb7\\xd1\\xcf\\xc2\\xd4\\xd8\\xa1\\xa3\\xd7\\xee\\xbf\\xec\\xb8\\xfc\\xd0\\xc2\\xc7\\xed\\xc3\\xf7\\xc9\\xf1\\xc5\\xae\\xc2\\xbc\\xa3\\xac\\xc0\\xb4\\xd7\\xd4\\xc7\\xed\\xc3\\xf7\\xc9\\xf1\\xc5\\xae\\xc2\\xbc\" />\\n<meta http-equiv=\"Cache-Control\" content=\"no-cache\" />\\n<meta http-equiv=\"Pragma\" content=\"no-cache\" />\\n<meta http-equiv=\"Expires\" content=\"-1\" />\\n<meta name=\"viewport\" content=\"width=device-width, minimum-scale=1.0, initial-scale=1.0, maximum-scale=1.0, user-scalable=1\" />\\n<meta name=\"format-detection\" content=\"telephone=no\" />\\n<link rel=\"shortcut icon\" href=\"/favicon.ico\" type=\"image/x-icon\" />\\n<link rel=\"stylesheet\" type=\"text/css\" href=\"/css/h_wap.css\" media=\"all\" />\\n<script src=\"/js/jquery-1.9.1.min.js\"></script>\\n<script src=\"/js/wap.js\"></script>\\n<style>\\r\\n.column-list img{height:135px;}\\r\\n</style>\\n</head>\\n<body class=\"cover\">\\n<meta name=\"applicable-device\" content=\"pc,mobile\">\\n<meta http-equiv=\"X-UA-Compatible\" content=\"chrome=1\">\\n<meta http-equiv=\\xa1\\xb1Cache-Control\\xa1\\xb1 content=\\xa1\\xb1no-transform\\xa1\\xb1 />\\n<meta http-equiv=\\xa1\\xb1Cache-Control\\xa1\\xb1 content=\\xa1\\xb1no-siteapp\\xa1\\xb1 />\\n<script>if((/(Android)/i.test(navigator.userAgent))&&(/(baidu)/i.test(navigator.userAgent))){document.title = \\' \\';}</script>\\n<div class=\"header\">\\n<a href=\"/\" class=\"logo\"><img src=\"/images/wap_logo.png\" height=\"40\" alt=\"\" /></a>\\n<div class=\"bottom\">\\n<div class=\"nav\">\\n<a href=\"/\">\\xca\\xd7\\xd2\\xb3</a>\\n<a href=\"/shuku/\">\\xd0\\xa1\\xcb\\xb5\\xca\\xe9\\xbf\\xe2</a>\\n<a href=\"/shuku/0-lastupdate-2-1.html\">\\xcd\\xea\\xb1\\xbe\\xd0\\xa1\\xcb\\xb5</a>\\n<a href=\"/jilu.php\">\\xd4\\xc4\\xb6\\xc1\\xbc\\xc7\\xc2\\xbc</a>\\n</div>\\n</div>\\n</div>\\n<div class=\"channel\">\\n<a href=\"/fenlei/1_1.html\" class=\"\">\\xd0\\xfe\\xbb\\xc3&middot;\\xc6\\xe6\\xbb\\xc3</a>\\n<a href=\"/fenlei/2_1.html\" class=\"xuanyi \">\\xcf\\xc9\\xcf\\xc0&middot;\\xce\\xe4\\xcf\\xc0</a>\\n<a href=\"/fenlei/3_1.html\" class=\"\">\\xb6\\xbc\\xca\\xd0&middot;\\xd1\\xd4\\xc7\\xe9</a>\\n<a href=\"/fenlei/4_1.html\" class=\"\">\\xb4\\xa9\\xd4\\xbd&middot;\\xc0\\xfa\\xca\\xb7</a>\\n<a href=\"/fenlei/5_1.html\" class=\"xuanyi \">\\xbf\\xc6\\xbb\\xc3&middot;\\xc1\\xe9\\xd2\\xec</a>\\n<a href=\"/fenlei/6_1.html\" class=\"\">\\xb2\\xd8\\xbe\\xad\\xb8\\xf3</a>\\n<a href=\"/fenlei/7_1.html\" class=\"active\">\\xc6\\xe4\\xcb\\xfb&middot;\\xc0\\xe0\\xb1\\xf0</a>\\n<a href=\"/authors/\" class=\"xuanyi \">\\xd7\\xf7\\xd5\\xdf\\xb4\\xf3\\xc8\\xab</a>\\n<a href=\"/01bz.html\" target=\"_blank\" class=\"\"><font color=\"#FF0000\"><strong>\\xb1\\xbe\\xd5\\xbe\\xb1\\xd8\\xb6\\xc1</strong></font></a>\\n</div>\\n<form name=\"From\" method=\"post\" action=\"/s.php\" class=\"search-form\">\\n<input type=\"hidden\" name=\"objectType\" value=\"2\" />\\n<table>\\n<tr>\\n<td>\\n<select name=type style=\"display:none\"><option value=\"articlename\"></option><option value=\"author\"></option></select>\\n<input type=\"text\" name=\"s\" class=\"text-border vm\" value=\"\" /></td>\\n<td width=\"8\"></td>\\n<td width=\"70\"><input type=\"submit\" class=\"btn btn-auto btn-blue vm\" value=\"\\xcb\\xd1\\xcb\\xf7\" /></td>\\n</tr>\\n</table>\\n</form>\\n<div class=\"container\">\\n<div class=\"mod mod-back breadcrumb\">\\n<div class=\"bd\">\\n<a href=\"/\" class=\"home\"></a>\\n<span class=\"divide\"></span>\\n<a href=\"/fenlei/7_1.html\">\\xc6\\xe4\\xcb\\xfb\\xc0\\xe0\\xb1\\xf0\\xd0\\xa1\\xcb\\xb5</a>\\n<span class=\"divide\"></span>\\n<a href=\"/7/7614/\">\\xc7\\xed\\xc3\\xf7\\xc9\\xf1\\xc5\\xae\\xc2\\xbc\\xd5\\xc2\\xbd\\xda\\xc4\\xbf\\xc2\\xbc</a>\\n</div>\\n</div>\\n<div class=\"mod detail\">\\n<div class=\"bd column-2\">\\n<div class=\"left\">\\n</div>\\n<div class=\"right\">\\n<h1>\\xc7\\xed\\xc3\\xf7\\xc9\\xf1\\xc5\\xae\\xc2\\xbc</h1>\\n<p class=\"info\">\\n\\xd7\\xf7\\xd5\\xdf\\xa3\\xba\\xb5\\xb9\\xd0\\xfc\\xc9\\xbd\\xbd\\xa3\\xc6\\xf8\\xb3\\xa4\\xb4\\xe6<br />\\n\\xc0\\xe0\\xd0\\xcd\\xa3\\xba\\xc6\\xe4\\xcb\\xfb\\xc0\\xe0\\xb1\\xf0<br />\\n\\xd7\\xd6\\xca\\xfd\\xa3\\xba2003199<br />\\n\\xc8\\xcb\\xc6\\xf8\\xa3\\xba447523 </p>\\n<span class=\"status is-serialize\">\\xd2\\xd1\\xcd\\xea\\xbd\\xe1</span>\\n</div>\\n</div>\\n<div class=\"ft\">\\n<table>\\n<tr>\\n<td width=\"50%\">\\n<a class=\"read start\" href=\"129884.html\">\\xb4\\xd3\\xcd\\xb7\\xbf\\xaa\\xca\\xbc\\xd4\\xc4\\xb6\\xc1</a>\\n</td>\\n<td width=\"5\">&nbsp;</td>\\n<td width=\"50%\">\\n<a class=\"collect\" href=\"/\">Prohibit downloads</a>\\n</td>\\n</tr>\\n</table>\\n</div>\\n</div>\\n<div class=\"mod book-intro\">\\n<div class=\"bd\"> \\xd2\\xb6\\xc1\\xd9\\xd4\\xa8\\xd4\\xda\\xd2\\xbb\\xb8\\xf6\\xd3\\xc4\\xbe\\xb2\\xb5\\xc4\\xb0\\xb5\\xca\\xd2\\xd6\\xd0\\xd0\\xd1\\xc0\\xb4\\xa3\\xac\\xc9\\xed\\xb1\\xdf\\xb7\\xc5\\xd7\\xc5\\xd2\\xbb\\xb1\\xfa\\xc9\\xfa\\xd0\\xe2\\xb5\\xc4\\xbd\\xa3\\xa1\\xa3 \\xca\\xaf\\xb1\\xda\\xd6\\xae\\xc9\\xcf\\xcf\\xe2\\xc7\\xb6\\xd7\\xc5\\xc7\\xe0\\xcd\\xad\\xb9\\xc5\\xb5\\xc6\\xa3\\xac\\xb1\\xda\\xc9\\xcf\\xbb\\xe6\\xbb\\xad\\xb7\\xb1\\xb8\\xb4\\xa3\\xac\\xb2\\xca\\xbb\\xe6\\xb5\\xc4\\xb1\\xca\\xbb\\xad\\xb1\\xa3\\xb4\\xe6\\xcd\\xea\\xba\\xc3\\xa3\\xac\\xe8\\xf2\\xe8\\xf2\\xc8\\xe7\\xc9\\xfa\\xa3\\xac\\xc3\\xbb\\xd3\\xd0\\xcb\\xbf\\xba\\xc1\\xb5\\xc4\\xb0\\xfe\\xc2\\xe4\\xa1\\xa3 \\xd2\\xbb\\xcf\\xae\\xb0\\xd7\\xd2\\xc2\\xb9\\xc5\\xbe\\xb2\\xc8\\xe7\\xcb\\xd8\\xa3\\xac\\xc4\\xc7\\xd5\\xc5\\xc4\\xea\\xc7\\xe1\\xb5\\xc4\\xc9\\xd9\\xc4\\xea\\xc1\\xb3\\xc5\\xd3\\xd4\\xda\\xbb\\xe8\\xb0\\xb5\\xb5\\xc4\\xca\\xaf\\xca\\xd2\\xbc\\xe4\\xc7\\xe5\\xd0\\xe3\\xc8\\xe7\\xcd\\xac\\xc9\\xd9\\xc5\\xae\\xa1\\xa3 \\xcb\\xfb\\xbf\\xb4\\xd7\\xc5\\xc4\\xc7\\xb1\\xfa\\xd0\\xe2\\xbc\\xa3\\xb0\\xdf\\xb0\\xdf\\xa3\\xac\\xba\\xc1\\xce\\xde\\xc1\\xe9\\xc6\\xf8\\xb5\\xc4\\xb9\\xc5\\xc6\\xd3\\xb3\\xa4\\xbd\\xa3\\xa3\\xac\\xc4\\xac\\xc8\\xbb\\xd0\\xed\\xbe\\xc3\\xa3\\xac\\xcb\\xfb\\xd6\\xd5\\xd3\\xda\\xd3\\xc4\\xd3\\xc4\\xcc\\xbe\\xc1\\xcb\\xd2\\xbb\\xbf\\xda\\xc6\\xf8\\xa3\\xba\\xa1\\xb0\\xc1\\xd9\\xd4\\xa8\\xcf\\xdb\\xd3\\xe3\\xa3\\xac\\xd6\\xd5\\xd3\\xda\\xb1\\xbb\\xc9\\xee\\xd4\\xa8\\xcd\\xcc\\xca\\xc9\\xc1\\xcb\\xa1\\xa3\\xa1\\xb1 \\xcb\\xfb\\xcd\\xc6\\xbf\\xaa\\xca\\xaf\\xc3\\xc5\\xa3\\xac\\xd7\\xdf\\xbd\\xf8\\xc1\\xcb\\xb9\\xe2\\xc0\\xef\\xa1\\xa3 \\xd5\\xe2\\xd2\\xbb\\xc8\\xd5\\xa3\\xac\\xd5\\xe2\\xb8\\xf6\\xb3\\xbe\\xb7\\xe2\\xc1\\xcb\\xce\\xe5\\xb0\\xd9\\xc4\\xea\\xb5\\xc4\\xb8\\xae\\xdb\\xa1\\xd6\\xd5\\xd3\\xda\\xb6\\xb4\\xbf\\xaa\\xa1\\xa3\\xce\\xa2\\xb7\\xe7\\xc6\\xcb\\xc3\\xe6\\xa3\\xac\\xd3\\xd0\\xd0\\xa9\\xc9\\xac\\xa3\\xac\\xd3\\xd0\\xd0\\xa9\\xc0\\xe4\\xa1\\xa3 \\xcd\\xf2\\xcb\\xae\\xd2\\xc0\\xc9\\xbd\\xbd\\xa5\\xc8\\xeb\\xd0\\xc4\\xbb\\xb3\\xa3\\xac\\xce\\xe5\\xb0\\xd9\\xc4\\xea\\xd2\\xbb\\xb3\\xa1\\xb4\\xf3\\xc3\\xce\\xa3\\xac\\xcb\\xfb\\xbb\\xd0\\xc8\\xbb\\xb3\\xf5\\xd0\\xd1\\xa3\\xac\\xc4\\xac\\xc4\\xac\\xc1\\xec\\xbb\\xe1\\xd7\\xc5\\xd5\\xe2\\xce\\xe5\\xb0\\xd9\\xc4\\xea\\xb1\\xd5\\xb9\\xd8\\xb5\\xc4\\xb8\\xd0\\xce\\xf2\\xa1\\xa3 \\xc9\\xbd\\xb7\\xe5\\xba\\xdc\\xb8\\xdf\\xa3\\xac\\xb8\\xdf\\xcb\\xca\\xc8\\xeb\\xd4\\xc6\\xa3\\xac\\xb6\\xfa\\xc5\\xcf\\xbf\\xc9\\xce\\xc5\\xc4\\xf1\\xd3\\xef\\xa3\\xac\\xd2\\xb2\\xbf\\xc9\\xd2\\xd4\\xcc\\xfd\\xb5\\xbd\\xb7\\xc9\\xc6\\xd9\\xcf\\xaa\\xc1\\xf7\\xca\\xfe\\xd1\\xa9\\xcb\\xe9\\xd3\\xf1\\xb0\\xe3\\xb4\\xa9\\xb9\\xfd\\xd4\\xc6\\xce\\xed\\xb5\\xc4\\xc9\\xf9\\xd2\\xf4\\xa1\\xa3 \\xc9\\xd9\\xc4\\xea\\xbf\\xb4\\xd7\\xc5\\xca\\xaf\\xb1\\xda\\xbc\\xe4\\xb7\\xc9\\xd0\\xb9\\xb6\\xf8\\xb3\\xf6\\xb5\\xc4\\xcf\\xaa\\xcb\\xae\\xa3\\xac\\xbf\\xb4\\xd7\\xc5\\xb0\\xd7\\xd4\\xc6\\xc9\\xee\\xc9\\xee\\xa3\\xac\\xb2\\xbb\\xd6\\xaa\\xba\\xce\\xb4\\xa6\\xa1\\xa3\\xc8\\xf4\\xd3\\xd0\\xcb\\xf9\\xcb\\xbc\\xa1\\xa3\\n</div>\\n</div>\\n<div class=\"slide-baidu\"><script src=\"/js/htmlklist.js\"></script></div>\\n<div class=\"mod block update chapter-list\">\\n<div class=\"hd\">\\n<h4>\\xc7\\xed\\xc3\\xf7\\xc9\\xf1\\xc5\\xae\\xc2\\xbc\\xd7\\xee\\xd0\\xc2\\xd5\\xc2\\xbd\\xda</h4>\\n</div>\\n<div class=\"bd\">\\n<ul class=\"list\">\\n<li><a href=\"/7/7614/232436.html\">\\xa1\\xbe\\xc7\\xed\\xc3\\xf7\\xc9\\xf1\\xc5\\xae\\xc2\\xbc\\xa1\\xbf\\xa3\\xa894\\xa3\\xa9\\xcd\\xea</a></li>\\n<li><a href=\"/7/7614/230634.html\">\\xa1\\xbe\\xc7\\xed\\xc3\\xf7\\xc9\\xf1\\xc5\\xae\\xc2\\xbc\\xa1\\xbf\\xa3\\xa893\\xa3\\xa9</a></li>\\n<li><a href=\"/7/7614/228439.html\">\\xa1\\xbe\\xc7\\xed\\xc3\\xf7\\xc9\\xf1\\xc5\\xae\\xc2\\xbc\\xa1\\xbf\\xa3\\xa892\\xa3\\xa9</a></li>\\n</ul>\\n</div>\\n</div> <div class=\"slide-baidu\"><script src=\"/js/htmlklist.js\"></script></div>\\n<div class=\"mod block update chapter-list\">\\n<div class=\"hd\">\\n<h4>\\xc7\\xed\\xc3\\xf7\\xc9\\xf1\\xc5\\xae\\xc2\\xbc\\xd5\\xc2\\xbd\\xda\\xc1\\xd0\\xb1\\xed</h4>\\n</div>\\n<div class=\"bd\">\\n<ul class=\"list\"><li><a href=\"/7/7614/129884.html\">\\xa1\\xbe\\xc7\\xed\\xc3\\xf7\\xc9\\xf1\\xc5\\xae\\xc2\\xbc\\xa1\\xbf\\xa3\\xa81-3\\xa3\\xa9</a></li>\\n<li><a href=\"/7/7614/130288.html\">\\xa1\\xbe\\xc7\\xed\\xc3\\xf7\\xc9\\xf1\\xc5\\xae\\xc2\\xbc\\xa1\\xbf\\xa3\\xa84\\xa3\\xa9</a></li>\\n<li><a href=\"/7/7614/130780.html\">\\xa1\\xbe\\xc7\\xed\\xc3\\xf7\\xc9\\xf1\\xc5\\xae\\xc2\\xbc\\xa1\\xbf\\xa3\\xa85\\xa3\\xa9</a></li>\\n<li><a href=\"/7/7614/130880.html\">\\xa1\\xbe\\xc7\\xed\\xc3\\xf7\\xc9\\xf1\\xc5\\xae\\xc2\\xbc\\xa1\\xbf\\xa3\\xa86\\xa3\\xa9</a></li>\\n<li><a href=\"/7/7614/131095.html\">\\xa1\\xbe\\xc7\\xed\\xc3\\xf7\\xc9\\xf1\\xc5\\xae\\xc2\\xbc\\xa1\\xbf\\xa3\\xa87\\xa3\\xa9</a></li>\\n<li><a href=\"/7/7614/131486.html\">\\xa1\\xbe\\xc7\\xed\\xc3\\xf7\\xc9\\xf1\\xc5\\xae\\xc2\\xbc\\xa1\\xbf\\xa3\\xa88\\xa3\\xa9</a></li>\\n<li><a href=\"/7/7614/131542.html\">\\xa1\\xbe\\xc7\\xed\\xc3\\xf7\\xc9\\xf1\\xc5\\xae\\xc2\\xbc\\xa1\\xbf\\xa3\\xa89\\xa3\\xa9</a></li>\\n<li><a href=\"/7/7614/131703.html\">\\xa1\\xbe\\xc7\\xed\\xc3\\xf7\\xc9\\xf1\\xc5\\xae\\xc2\\xbc\\xa1\\xbf\\xa3\\xa810\\xa3\\xa9</a></li>\\n<li><a href=\"/7/7614/131833.html\">\\xa1\\xbe\\xc7\\xed\\xc3\\xf7\\xc9\\xf1\\xc5\\xae\\xc2\\xbc\\xa1\\xbf\\xa3\\xa811\\xa3\\xa9</a></li>\\n<li><a href=\"/7/7614/132017.html\">\\xa1\\xbe\\xc7\\xed\\xc3\\xf7\\xc9\\xf1\\xc5\\xae\\xc2\\xbc\\xa1\\xbf\\xa3\\xa812\\xa3\\xa9</a></li>\\n<li><a href=\"/7/7614/132532.html\">\\xa1\\xbe\\xc7\\xed\\xc3\\xf7\\xc9\\xf1\\xc5\\xae\\xc2\\xbc\\xa1\\xbf\\xa3\\xa813\\xa3\\xa9</a></li>\\n<li><a href=\"/7/7614/132820.html\">\\xa1\\xbe\\xc7\\xed\\xc3\\xf7\\xc9\\xf1\\xc5\\xae\\xc2\\xbc\\xa1\\xbf\\xa3\\xa814\\xa3\\xa9</a></li>\\n<li><a href=\"/7/7614/133090.html\">\\xa1\\xbe\\xc7\\xed\\xc3\\xf7\\xc9\\xf1\\xc5\\xae\\xc2\\xbc\\xa1\\xbf\\xa3\\xa815\\xa3\\xa9</a></li>\\n<li><a href=\"/7/7614/134680.html\">\\xa1\\xbe\\xc7\\xed\\xc3\\xf7\\xc9\\xf1\\xc5\\xae\\xc2\\xbc\\xa1\\xbf\\xa3\\xa816\\xa3\\xa9</a></li>\\n<li><a href=\"/7/7614/134997.html\">\\xa1\\xbe\\xc7\\xed\\xc3\\xf7\\xc9\\xf1\\xc5\\xae\\xc2\\xbc\\xa1\\xbf\\xa3\\xa817\\xa3\\xa9</a></li>\\n<li><a href=\"/7/7614/135118.html\">\\xa1\\xbe\\xc7\\xed\\xc3\\xf7\\xc9\\xf1\\xc5\\xae\\xc2\\xbc\\xa1\\xbf\\xa3\\xa8\\xcc\\xd8\\xb1\\xf0\\xc6\\xaa\\xa3\\xa9\\xc7\\xb3\\xd5\\xe5\\xb5\\xcd\\xb3\\xaa \\xc8\\xfd\\xcd\\xf2\\xc4\\xea\\xb4\\xf3\\xc3\\xce</a></li>\\n<li><a href=\"/7/7614/135387.html\">\\xa1\\xbe\\xc7\\xed\\xc3\\xf7\\xc9\\xf1\\xc5\\xae\\xc2\\xbc\\xa1\\xbf\\xa3\\xa819\\xa3\\xa9</a></li>\\n<li><a href=\"/7/7614/135515.html\">\\xa1\\xbe\\xc7\\xed\\xc3\\xf7\\xc9\\xf1\\xc5\\xae\\xc2\\xbc\\xa1\\xbf\\xa3\\xa820\\xa3\\xa9</a></li>\\n<li><a href=\"/7/7614/135591.html\">\\xa1\\xbe\\xc7\\xed\\xc3\\xf7\\xc9\\xf1\\xc5\\xae\\xc2\\xbc\\xa1\\xbf\\xcd\\xac\\xc8\\xcb\\xa3\\xa8\\xc2\\xbd\\xbc\\xce\\xbe\\xb2\\xc6\\xaa\\xa3\\xa9</a></li>\\n<li><a href=\"/7/7614/135592.html\">\\xa1\\xbe\\xc7\\xed\\xc3\\xf7\\xc9\\xf1\\xc5\\xae\\xc2\\xbc\\xa1\\xbf\\xa3\\xa821\\xa3\\xa9</a></li>\\n</ul>\\n</div>\\n</div>\\n<div class=\"slide-baidu\"><script src=\"/js/htmlk.js\"></script></div>\\n<div class=\"mod page\">\\n<div class=\"pagelistbox\">\\n<div class=\"page\"><a class=\"indexPage\" href=\"/7/7614_1/\">\\xca\\xd7\\xd2\\xb3</a><a class=\"prePage\" href=\"/7/7614_1/\">\\xc9\\xcf\\xd2\\xb3</a><a class=\"nextPage\" href=\"/7/7614_2/\">\\xcf\\xc2\\xd2\\xb3</a><a class=\"endPage\" href=\"/7/7614_5/\">\\xce\\xb2\\xd2\\xb3</a>(\\xb5\\xda1/5\\xd2\\xb3)\\xb5\\xb1\\xc7\\xb020\\xcc\\xf5/\\xd2\\xb3 \\xca\\xe4\\xc8\\xeb<input id=\"pageinput\" size=\"4\" /><input type=\"button\" value=\"\\xcc\\xf8\\xd7\\xaa\" onclick=\"page()\" /></div></div>\\n</div>\\n<div class=\"slide-baidu\"><script src=\"/js/htmlk.js\"></script></div>\\n<div class=\"mod block column-list\">\\n<div class=\"hd\" boxid=\"heiyanMobileChapterJingpin\">\\n<h4>\\xc0\\xe0\\xcb\\xc6\\xc7\\xed\\xc3\\xf7\\xc9\\xf1\\xc5\\xae\\xc2\\xbc\\xb5\\xc4\\xd0\\xa1\\xcb\\xb5\\xcd\\xc6\\xbc\\xf6</h4>\\n</div>\\n<div class=\"bd\">\\n<ul class=\"list\">\\n<li><a href=\\'/0/3/\\'><img src=\\'/images/jipin-default.jpg\\' alt=\"\\xc6\\xdf\\xb2\\xca\\xc3\\xb5\\xb9\\xe5\" onerror=\"this.src=\\'/images/jipin-default.jpg\\'\" /></a><div class=\"name\"><a href=\\'/0/3/\\'>\\xc6\\xdf\\xb2\\xca\\xc3\\xb5\\xb9\\xe5</a></div></li><li><a href=\\'/0/4/\\'><img src=\\'/images/jipin-default.jpg\\' alt=\"\\xc8\\xcb\\xc6\\xde\\xd5\\xd4\\xcc\\xec\\xd4\\xc6\\xd0\\xde\\xb3\\xb5\\xc8\\xba\\xc8\\xe8\\xbc\\xc7\" onerror=\"this.src=\\'/images/jipin-default.jpg\\'\" /></a><div class=\"name\"><a href=\\'/0/4/\\'>\\xc8\\xcb\\xc6\\xde\\xd5\\xd4\\xcc\\xec\\xd4\\xc6\\xd0\\xde\\xb3\\xb5\\xc8\\xba\\xc8\\xe8\\xbc\\xc7</a></div></li><li><a href=\\'/0/5/\\'><img src=\\'/images/jipin-default.jpg\\' alt=\"\\xcc\\xec\\xb6\\xec\\xc0\\xe1\" onerror=\"this.src=\\'/images/jipin-default.jpg\\'\" /></a><div class=\"name\"><a href=\\'/0/5/\\'>\\xcc\\xec\\xb6\\xec\\xc0\\xe1</a></div></li><li><a href=\\'/0/6/\\'><img src=\\'/images/jipin-default.jpg\\' alt=\"\\xce\\xd2\\xd4\\xdaAV\\xb5\\xc4\\xc8\\xd5\\xd7\\xd3\" onerror=\"this.src=\\'/images/jipin-default.jpg\\'\" /></a><div class=\"name\"><a href=\\'/0/6/\\'>\\xce\\xd2\\xd4\\xdaAV\\xb5\\xc4\\xc8\\xd5\\xd7\\xd3</a></div></li><li><a href=\\'/0/8/\\'><img src=\\'/images/jipin-default.jpg\\' alt=\"\\xc0\\xad\\xc4\\xb7\\xbc\\xcd-\\xb5\\xda\\xb6\\xfe\\xbe\\xed\" onerror=\"this.src=\\'/images/jipin-default.jpg\\'\" /></a><div class=\"name\"><a href=\\'/0/8/\\'>\\xc0\\xad\\xc4\\xb7\\xbc\\xcd-\\xb5\\xda\\xb6\\xfe\\xbe\\xed</a></div></li><li><a href=\\'/0/11/\\'><img src=\\'/images/jipin-default.jpg\\' alt=\"\\xb3\\xcc\\xd7\\xaf\\xd4\\xd3\\xbd\\xbb\\xca\\xb5\\xc2\\xbc\" onerror=\"this.src=\\'/images/jipin-default.jpg\\'\" /></a><div class=\"name\"><a href=\\'/0/11/\\'>\\xb3\\xcc\\xd7\\xaf\\xd4\\xd3\\xbd\\xbb\\xca\\xb5\\xc2\\xbc</a></div></li><li><a href=\\'/0/13/\\'><img src=\\'/images/jipin-default.jpg\\' alt=\"\\xd4\\xd9\\xbc\\xfb\\xa3\\xac\\xbd\\xf0\\xd0\\xa1\\xbd\\xe3(\\xc8\\xcb\\xc9\\xfa\\xc8\\xe7\\xc3\\xce)\" onerror=\"this.src=\\'/images/jipin-default.jpg\\'\" /></a><div class=\"name\"><a href=\\'/0/13/\\'>\\xd4\\xd9\\xbc\\xfb\\xa3\\xac\\xbd\\xf0\\xd0\\xa1\\xbd\\xe3(\\xc8\\xcb\\xc9\\xfa\\xc8\\xe7\\xc3\\xce)</a></div></li><li><a href=\\'/0/15/\\'><img src=\\'/images/jipin-default.jpg\\' alt=\"\\xd0\\xd4\\xb8\\xd0\\xb5\\xc4\\xc3\\xc0\\xcd\\xc8\\xc5\\xae\\xc9\\xf1(\\xba\\xcf\\xbc\\xaf)\" onerror=\"this.src=\\'/images/jipin-default.jpg\\'\" /></a><div class=\"name\"><a href=\\'/0/15/\\'>\\xd0\\xd4\\xb8\\xd0\\xb5\\xc4\\xc3\\xc0\\xcd\\xc8\\xc5\\xae\\xc9\\xf1(\\xba\\xcf\\xbc\\xaf)</a></div></li>\\n</ul>\\n</div>\\n</div>\\n<div class=\"mod mod-back\">\\n<div class=\"bd\">\\n<a href=\"/\" class=\"home\"></a>\\n<span class=\"divide\"></span>\\n<a href=\"/fenlei/7_1.html\">\\xc6\\xe4\\xcb\\xfb\\xc0\\xe0\\xb1\\xf0\\xd0\\xa1\\xcb\\xb5</a>\\n<span class=\"divide\"></span>\\n<a href=\"/7/7614/\">\\xc7\\xed\\xc3\\xf7\\xc9\\xf1\\xc5\\xae\\xc2\\xbc\\xd7\\xee\\xd0\\xc2\\xd5\\xc2\\xbd\\xda</a>\\n</div>\\n</div>\\n</div>\\n<script>xia();tongji();xuanfu();</script>\\n<div class=\"footer\">\\n<div class=\"section nav\">\\n<p>\\n<a href=\"/\">\\xca\\xd7\\xd2\\xb3</a>\\n<a href=\"/shuku/0-allvisit-2-1.html\">\\xc5\\xc5\\xd0\\xd0</a>\\n<a href=\"/shuku/\">\\xca\\xe9\\xbf\\xe2</a>\\n<a href=\"/shuku/0-lastupdate-2-1.html\">\\xc8\\xab\\xb1\\xbe</a>\\n<a href=\"/jilu.php\">\\xd4\\xc4\\xb6\\xc1\\xbc\\xc7\\xc2\\xbc</a>\\n</p>\\n</div>\\n<div class=\"section copyright\">\\n<p><span class=\"time\">\\xb0\\xe6\\xc8\\xa8\\xc9\\xf9\\xc3\\xf7\\xa3\\xba\\xb1\\xbe\\xd5\\xbe\\xd0\\xa1\\xcb\\xb5\\xce\\xaa\\xd7\\xaa\\xd4\\xd8\\xd7\\xf7\\xc6\\xb7\\xa3\\xac\\xcb\\xf9\\xd3\\xd0\\xd5\\xc2\\xbd\\xda\\xbe\\xf9\\xd3\\xc9\\xcd\\xf8\\xd3\\xd1\\xc9\\xcf\\xb4\\xab\\xa3\\xac\\xd7\\xaa\\xd4\\xd8\\xd6\\xc1\\xb1\\xbe\\xd5\\xbe\\xd6\\xbb\\xca\\xc7\\xce\\xaa\\xc1\\xcb\\xd0\\xfb\\xb4\\xab\\xb1\\xbe\\xca\\xe9\\xc8\\xc3\\xb8\\xfc\\xb6\\xe0\\xb6\\xc1\\xd5\\xdf\\xd0\\xc0\\xc9\\xcd\\xa1\\xa3</span></p>\\n</div>\\n<script type=\"text/javascript\" src=\"https://s9.cnzz.com/z_stat.php?id=1279235432&web_id=1279235432\"></script>\\n<script src=\"/js/qiguo.js\"></script>\\n</div>\\n<div class=\"slide-baidu\"></div><!--[if IE]>\\r\\n<link href=\"\" rel=\"stylesheet\" type=\"text/css\" />\\r\\n<![endif]-->\\n<script>\\r\\nfunction page(){\\r\\n\\tvar p = document.getElementById(\"pageinput\").value;\\r\\n\\tif(isPositiveNum(p)){window.open(\"/7/7614_\"+p+\"/\",\"_self\");}\\tfunction isPositiveNum(s){ \\r\\n    var re = /^[0-9]*[1-9][0-9]*$/ ;  \\r\\n\\t    return re.test(s)  \\r\\n\\t}\\r\\n}\\r\\n</script>\\n</body>\\n</html>'\n",
      "b'<!DOCTYPE HTML PUBLIC \"-//W3C//DTD HTML 4.01 Transitional//EN\" \"http://www.w3c.org/TR/1999/REC-html401-19991224/loose.dtd\">\\n<html xmlns=\"http://www.w3.org/1999/xhtml\">\\n<head>\\n<title>404</title>\\n<meta http-equiv=\"Content-Type\" content=\"text/html; charset=utf-8\" />\\n<meta name=\"keywords\" content=\"\" />\\n<meta name=\"description\" content=\"\" />\\n</head>\\n<body>\\n<div class=\"error_page\">\\n<h1><font color=\"#FF0000\">I\\'m very sorry \\xef\\xbc\\x81</font></h1>\\n<h1>\\xe5\\xbe\\x88\\xe6\\x8a\\xb1\\xe6\\xad\\x89\\xef\\xbc\\x8c\\xe6\\xb2\\xa1\\xe6\\x9c\\x89\\xe6\\x89\\xbe\\xe5\\x88\\xb0\\xe8\\xaf\\xa5\\xe9\\xa1\\xb5\\xe9\\x9d\\xa2\\xe2\\x80\\xa6\\xe2\\x80\\xa6</h1>\\n<h1>\\xe5\\x8d\\xb3\\xe5\\xb0\\x86\\xe5\\x9c\\xa8<b id=\"tt\">5</b>\\xe7\\xa7\\x92\\xe5\\x90\\x8e\\xe4\\xb8\\xba\\xe6\\x82\\xa8\\xe8\\xb7\\xb3\\xe8\\xbd\\xac\\xe5\\x88\\xb0 <font color=\"#FF0000\">\\xe9\\xa6\\x96\\xe9\\xa1\\xb5</font></h1>\\n<h1>\\xe6\\x84\\x9f\\xe8\\xb0\\xa2\\xe6\\x82\\xa8\\xe6\\x94\\xaf\\xe6\\x8c\\x81\\xe6\\x9c\\xac\\xe7\\xab\\x99\\xef\\xbc\\x81</h1>\\n<h1>\\xe4\\xb9\\xa6\\xe4\\xb8\\xad\\xe8\\x87\\xaa\\xe6\\x9c\\x89\\xe9\\xa2\\x9c\\xe5\\xa6\\x82\\xe7\\x8e\\x89\\xef\\xbc\\x81</h1>\\n<p></p>\\n</div>\\n<div class=\"copyright\">\\n</div>\\n<script type=\"text/javascript\">\\r\\ntt=5;\\r\\nwindow.setInterval(\"timego()\",1000);\\r\\nfunction timego(){\\r\\n\\ttt--;\\r\\n\\tdocument.getElementById(\"tt\").innerHTML = tt;\\r\\n\\tif(tt==0) window.location.href=\\'/\\';\\r\\n}\\r\\n</script>\\n<meta name=\"viewport\" content=\"target-densitydpi=device-dpi, width=device-width \" />\\n</body>\\n</html>'\n",
      "b'<!DOCTYPE HTML PUBLIC \"-//W3C//DTD HTML 4.01 Transitional//EN\" \"http://www.w3c.org/TR/1999/REC-html401-19991224/loose.dtd\">\\n<html xmlns=\"http://www.w3.org/1999/xhtml\">\\n<head>\\n<title>404</title>\\n<meta http-equiv=\"Content-Type\" content=\"text/html; charset=utf-8\" />\\n<meta name=\"keywords\" content=\"\" />\\n<meta name=\"description\" content=\"\" />\\n</head>\\n<body>\\n<div class=\"error_page\">\\n<h1><font color=\"#FF0000\">I\\'m very sorry \\xef\\xbc\\x81</font></h1>\\n<h1>\\xe5\\xbe\\x88\\xe6\\x8a\\xb1\\xe6\\xad\\x89\\xef\\xbc\\x8c\\xe6\\xb2\\xa1\\xe6\\x9c\\x89\\xe6\\x89\\xbe\\xe5\\x88\\xb0\\xe8\\xaf\\xa5\\xe9\\xa1\\xb5\\xe9\\x9d\\xa2\\xe2\\x80\\xa6\\xe2\\x80\\xa6</h1>\\n<h1>\\xe5\\x8d\\xb3\\xe5\\xb0\\x86\\xe5\\x9c\\xa8<b id=\"tt\">5</b>\\xe7\\xa7\\x92\\xe5\\x90\\x8e\\xe4\\xb8\\xba\\xe6\\x82\\xa8\\xe8\\xb7\\xb3\\xe8\\xbd\\xac\\xe5\\x88\\xb0 <font color=\"#FF0000\">\\xe9\\xa6\\x96\\xe9\\xa1\\xb5</font></h1>\\n<h1>\\xe6\\x84\\x9f\\xe8\\xb0\\xa2\\xe6\\x82\\xa8\\xe6\\x94\\xaf\\xe6\\x8c\\x81\\xe6\\x9c\\xac\\xe7\\xab\\x99\\xef\\xbc\\x81</h1>\\n<h1>\\xe4\\xb9\\xa6\\xe4\\xb8\\xad\\xe8\\x87\\xaa\\xe6\\x9c\\x89\\xe9\\xa2\\x9c\\xe5\\xa6\\x82\\xe7\\x8e\\x89\\xef\\xbc\\x81</h1>\\n<p></p>\\n</div>\\n<div class=\"copyright\">\\n</div>\\n<script type=\"text/javascript\">\\r\\ntt=5;\\r\\nwindow.setInterval(\"timego()\",1000);\\r\\nfunction timego(){\\r\\n\\ttt--;\\r\\n\\tdocument.getElementById(\"tt\").innerHTML = tt;\\r\\n\\tif(tt==0) window.location.href=\\'/\\';\\r\\n}\\r\\n</script>\\n<meta name=\"viewport\" content=\"target-densitydpi=device-dpi, width=device-width \" />\\n</body>\\n</html>'\n",
      "b'<!DOCTYPE HTML PUBLIC \"-//W3C//DTD HTML 4.01 Transitional//EN\" \"http://www.w3c.org/TR/1999/REC-html401-19991224/loose.dtd\">\\n<html xmlns=\"http://www.w3.org/1999/xhtml\">\\n<head>\\n<title>404</title>\\n<meta http-equiv=\"Content-Type\" content=\"text/html; charset=utf-8\" />\\n<meta name=\"keywords\" content=\"\" />\\n<meta name=\"description\" content=\"\" />\\n</head>\\n<body>\\n<div class=\"error_page\">\\n<h1><font color=\"#FF0000\">I\\'m very sorry \\xef\\xbc\\x81</font></h1>\\n<h1>\\xe5\\xbe\\x88\\xe6\\x8a\\xb1\\xe6\\xad\\x89\\xef\\xbc\\x8c\\xe6\\xb2\\xa1\\xe6\\x9c\\x89\\xe6\\x89\\xbe\\xe5\\x88\\xb0\\xe8\\xaf\\xa5\\xe9\\xa1\\xb5\\xe9\\x9d\\xa2\\xe2\\x80\\xa6\\xe2\\x80\\xa6</h1>\\n<h1>\\xe5\\x8d\\xb3\\xe5\\xb0\\x86\\xe5\\x9c\\xa8<b id=\"tt\">5</b>\\xe7\\xa7\\x92\\xe5\\x90\\x8e\\xe4\\xb8\\xba\\xe6\\x82\\xa8\\xe8\\xb7\\xb3\\xe8\\xbd\\xac\\xe5\\x88\\xb0 <font color=\"#FF0000\">\\xe9\\xa6\\x96\\xe9\\xa1\\xb5</font></h1>\\n<h1>\\xe6\\x84\\x9f\\xe8\\xb0\\xa2\\xe6\\x82\\xa8\\xe6\\x94\\xaf\\xe6\\x8c\\x81\\xe6\\x9c\\xac\\xe7\\xab\\x99\\xef\\xbc\\x81</h1>\\n<h1>\\xe4\\xb9\\xa6\\xe4\\xb8\\xad\\xe8\\x87\\xaa\\xe6\\x9c\\x89\\xe9\\xa2\\x9c\\xe5\\xa6\\x82\\xe7\\x8e\\x89\\xef\\xbc\\x81</h1>\\n<p></p>\\n</div>\\n<div class=\"copyright\">\\n</div>\\n<script type=\"text/javascript\">\\r\\ntt=5;\\r\\nwindow.setInterval(\"timego()\",1000);\\r\\nfunction timego(){\\r\\n\\ttt--;\\r\\n\\tdocument.getElementById(\"tt\").innerHTML = tt;\\r\\n\\tif(tt==0) window.location.href=\\'/\\';\\r\\n}\\r\\n</script>\\n<meta name=\"viewport\" content=\"target-densitydpi=device-dpi, width=device-width \" />\\n</body>\\n</html>'\n",
      "b'<!DOCTYPE HTML PUBLIC \"-//W3C//DTD HTML 4.01 Transitional//EN\" \"http://www.w3c.org/TR/1999/REC-html401-19991224/loose.dtd\">\\n<html xmlns=\"http://www.w3.org/1999/xhtml\">\\n<head>\\n<title>404</title>\\n<meta http-equiv=\"Content-Type\" content=\"text/html; charset=utf-8\" />\\n<meta name=\"keywords\" content=\"\" />\\n<meta name=\"description\" content=\"\" />\\n</head>\\n<body>\\n<div class=\"error_page\">\\n<h1><font color=\"#FF0000\">I\\'m very sorry \\xef\\xbc\\x81</font></h1>\\n<h1>\\xe5\\xbe\\x88\\xe6\\x8a\\xb1\\xe6\\xad\\x89\\xef\\xbc\\x8c\\xe6\\xb2\\xa1\\xe6\\x9c\\x89\\xe6\\x89\\xbe\\xe5\\x88\\xb0\\xe8\\xaf\\xa5\\xe9\\xa1\\xb5\\xe9\\x9d\\xa2\\xe2\\x80\\xa6\\xe2\\x80\\xa6</h1>\\n<h1>\\xe5\\x8d\\xb3\\xe5\\xb0\\x86\\xe5\\x9c\\xa8<b id=\"tt\">5</b>\\xe7\\xa7\\x92\\xe5\\x90\\x8e\\xe4\\xb8\\xba\\xe6\\x82\\xa8\\xe8\\xb7\\xb3\\xe8\\xbd\\xac\\xe5\\x88\\xb0 <font color=\"#FF0000\">\\xe9\\xa6\\x96\\xe9\\xa1\\xb5</font></h1>\\n<h1>\\xe6\\x84\\x9f\\xe8\\xb0\\xa2\\xe6\\x82\\xa8\\xe6\\x94\\xaf\\xe6\\x8c\\x81\\xe6\\x9c\\xac\\xe7\\xab\\x99\\xef\\xbc\\x81</h1>\\n<h1>\\xe4\\xb9\\xa6\\xe4\\xb8\\xad\\xe8\\x87\\xaa\\xe6\\x9c\\x89\\xe9\\xa2\\x9c\\xe5\\xa6\\x82\\xe7\\x8e\\x89\\xef\\xbc\\x81</h1>\\n<p></p>\\n</div>\\n<div class=\"copyright\">\\n</div>\\n<script type=\"text/javascript\">\\r\\ntt=5;\\r\\nwindow.setInterval(\"timego()\",1000);\\r\\nfunction timego(){\\r\\n\\ttt--;\\r\\n\\tdocument.getElementById(\"tt\").innerHTML = tt;\\r\\n\\tif(tt==0) window.location.href=\\'/\\';\\r\\n}\\r\\n</script>\\n<meta name=\"viewport\" content=\"target-densitydpi=device-dpi, width=device-width \" />\\n</body>\\n</html>'\n"
     ]
    }
   ],
   "source": [
    "for res in responses:\n",
    "    print(res.content)"
   ]
  },
  {
   "cell_type": "code",
   "execution_count": 19,
   "metadata": {},
   "outputs": [
    {
     "data": {
      "text/plain": [
       "b'<!DOCTYPE HTML PUBLIC \"-//W3C//DTD HTML 4.01 Transitional//EN\" \"http://www.w3c.org/TR/1999/REC-html401-19991224/loose.dtd\">\\n<html xmlns=\"http://www.w3.org/1999/xhtml\">\\n<head>\\n<title>404</title>\\n<meta http-equiv=\"Content-Type\" content=\"text/html; charset=utf-8\" />\\n<meta name=\"keywords\" content=\"\" />\\n<meta name=\"description\" content=\"\" />\\n</head>\\n<body>\\n<div class=\"error_page\">\\n<h1><font color=\"#FF0000\">I\\'m very sorry \\xef\\xbc\\x81</font></h1>\\n<h1>\\xe5\\xbe\\x88\\xe6\\x8a\\xb1\\xe6\\xad\\x89\\xef\\xbc\\x8c\\xe6\\xb2\\xa1\\xe6\\x9c\\x89\\xe6\\x89\\xbe\\xe5\\x88\\xb0\\xe8\\xaf\\xa5\\xe9\\xa1\\xb5\\xe9\\x9d\\xa2\\xe2\\x80\\xa6\\xe2\\x80\\xa6</h1>\\n<h1>\\xe5\\x8d\\xb3\\xe5\\xb0\\x86\\xe5\\x9c\\xa8<b id=\"tt\">5</b>\\xe7\\xa7\\x92\\xe5\\x90\\x8e\\xe4\\xb8\\xba\\xe6\\x82\\xa8\\xe8\\xb7\\xb3\\xe8\\xbd\\xac\\xe5\\x88\\xb0 <font color=\"#FF0000\">\\xe9\\xa6\\x96\\xe9\\xa1\\xb5</font></h1>\\n<h1>\\xe6\\x84\\x9f\\xe8\\xb0\\xa2\\xe6\\x82\\xa8\\xe6\\x94\\xaf\\xe6\\x8c\\x81\\xe6\\x9c\\xac\\xe7\\xab\\x99\\xef\\xbc\\x81</h1>\\n<h1>\\xe4\\xb9\\xa6\\xe4\\xb8\\xad\\xe8\\x87\\xaa\\xe6\\x9c\\x89\\xe9\\xa2\\x9c\\xe5\\xa6\\x82\\xe7\\x8e\\x89\\xef\\xbc\\x81</h1>\\n<p></p>\\n</div>\\n<div class=\"copyright\">\\n</div>\\n<script type=\"text/javascript\">\\r\\ntt=5;\\r\\nwindow.setInterval(\"timego()\",1000);\\r\\nfunction timego(){\\r\\n\\ttt--;\\r\\n\\tdocument.getElementById(\"tt\").innerHTML = tt;\\r\\n\\tif(tt==0) window.location.href=\\'/\\';\\r\\n}\\r\\n</script>\\n<meta name=\"viewport\" content=\"target-densitydpi=device-dpi, width=device-width \" />\\n</body>\\n</html>'"
      ]
     },
     "execution_count": 19,
     "metadata": {},
     "output_type": "execute_result"
    }
   ],
   "source": [
    "res.content"
   ]
  },
  {
   "cell_type": "code",
   "execution_count": 10,
   "metadata": {},
   "outputs": [
    {
     "ename": "IndexError",
     "evalue": "list index out of range",
     "output_type": "error",
     "traceback": [
      "\u001b[1;31m---------------------------------------------------------------------------\u001b[0m",
      "\u001b[1;31mIndexError\u001b[0m                                Traceback (most recent call last)",
      "\u001b[1;32m<ipython-input-10-977ad71f6ec5>\u001b[0m in \u001b[0;36m<module>\u001b[1;34m\u001b[0m\n\u001b[1;32m----> 1\u001b[1;33m \u001b[0mtmp\u001b[0m \u001b[1;33m=\u001b[0m \u001b[0mres\u001b[0m\u001b[1;33m.\u001b[0m\u001b[0mhtml\u001b[0m\u001b[1;33m.\u001b[0m\u001b[0mfind\u001b[0m\u001b[1;33m(\u001b[0m\u001b[1;34m'ul.list'\u001b[0m\u001b[1;33m,\u001b[0m \u001b[0mfirst\u001b[0m\u001b[1;33m=\u001b[0m\u001b[1;32mFalse\u001b[0m\u001b[1;33m)\u001b[0m\u001b[1;33m[\u001b[0m\u001b[1;36m1\u001b[0m\u001b[1;33m]\u001b[0m \u001b[1;31m# main part\u001b[0m\u001b[1;33m\u001b[0m\u001b[1;33m\u001b[0m\u001b[0m\n\u001b[0m",
      "\u001b[1;31mIndexError\u001b[0m: list index out of range"
     ]
    }
   ],
   "source": [
    "tmp = res.html.find('ul.list', first=False)[1] # main part"
   ]
  },
  {
   "cell_type": "code",
   "execution_count": 11,
   "metadata": {},
   "outputs": [],
   "source": [
    "chapters = tmp.find('li')"
   ]
  },
  {
   "cell_type": "code",
   "execution_count": 12,
   "metadata": {},
   "outputs": [
    {
     "name": "stdout",
     "output_type": "stream",
     "text": [
      "/7/7614/129884.html\n",
      "/7/7614/130288.html\n",
      "/7/7614/130780.html\n",
      "/7/7614/130880.html\n",
      "/7/7614/131095.html\n",
      "/7/7614/131486.html\n",
      "/7/7614/131542.html\n",
      "/7/7614/131703.html\n",
      "/7/7614/131833.html\n",
      "/7/7614/132017.html\n",
      "/7/7614/132532.html\n",
      "/7/7614/132820.html\n",
      "/7/7614/133090.html\n",
      "/7/7614/134680.html\n",
      "/7/7614/134997.html\n",
      "/7/7614/135118.html\n",
      "/7/7614/135387.html\n",
      "/7/7614/135515.html\n",
      "/7/7614/135591.html\n",
      "/7/7614/135592.html\n"
     ]
    }
   ],
   "source": [
    "for chapter in chapters:\n",
    "    print(chapter.find('a', first=True).attrs['href'])"
   ]
  },
  {
   "cell_type": "code",
   "execution_count": 14,
   "metadata": {},
   "outputs": [
    {
     "data": {
      "text/plain": [
       "'【琼明神女录】（94）完\\n【琼明神女录】（93）\\n【琼明神女录】（92）'"
      ]
     },
     "execution_count": 14,
     "metadata": {},
     "output_type": "execute_result"
    }
   ],
   "source": [
    "tmp.text"
   ]
  },
  {
   "cell_type": "markdown",
   "metadata": {},
   "source": [
    "### 获得所有imgs的链接"
   ]
  },
  {
   "cell_type": "code",
   "execution_count": 6,
   "metadata": {},
   "outputs": [],
   "source": [
    "def get_pages(response):\n",
    "    links = []\n",
    "    content = response.html.find('ul.list', first=False)[1] # main part\n",
    "    res = content.find('li')\n",
    "    for item in res:\n",
    "        try:\n",
    "            links.append(item.find('a', first=True).attrs['href'])\n",
    "        except:\n",
    "            pass\n",
    "    return links"
   ]
  },
  {
   "cell_type": "code",
   "execution_count": 7,
   "metadata": {},
   "outputs": [],
   "source": [
    "def merge(list1, list2):\n",
    "    list1.extend(list2)\n",
    "    return list1"
   ]
  },
  {
   "cell_type": "code",
   "execution_count": null,
   "metadata": {},
   "outputs": [],
   "source": [
    "for i "
   ]
  },
  {
   "cell_type": "code",
   "execution_count": 13,
   "metadata": {},
   "outputs": [
    {
     "ename": "IndexError",
     "evalue": "list index out of range",
     "output_type": "error",
     "traceback": [
      "\u001b[1;31m---------------------------------------------------------------------------\u001b[0m",
      "\u001b[1;31mIndexError\u001b[0m                                Traceback (most recent call last)",
      "\u001b[1;32m<ipython-input-13-e4df15aa8100>\u001b[0m in \u001b[0;36m<module>\u001b[1;34m\u001b[0m\n\u001b[1;32m----> 1\u001b[1;33m \u001b[0mlinks\u001b[0m \u001b[1;33m=\u001b[0m \u001b[0mfunctools\u001b[0m\u001b[1;33m.\u001b[0m\u001b[0mreduce\u001b[0m\u001b[1;33m(\u001b[0m\u001b[0mmerge\u001b[0m\u001b[1;33m,\u001b[0m \u001b[0mmap\u001b[0m\u001b[1;33m(\u001b[0m\u001b[0mget_pages\u001b[0m\u001b[1;33m,\u001b[0m \u001b[0mresponses\u001b[0m\u001b[1;33m)\u001b[0m\u001b[1;33m)\u001b[0m\u001b[1;33m\u001b[0m\u001b[1;33m\u001b[0m\u001b[0m\n\u001b[0m",
      "\u001b[1;32m<ipython-input-6-c30ba9d6ef5d>\u001b[0m in \u001b[0;36mget_pages\u001b[1;34m(response)\u001b[0m\n\u001b[0;32m      1\u001b[0m \u001b[1;32mdef\u001b[0m \u001b[0mget_pages\u001b[0m\u001b[1;33m(\u001b[0m\u001b[0mresponse\u001b[0m\u001b[1;33m)\u001b[0m\u001b[1;33m:\u001b[0m\u001b[1;33m\u001b[0m\u001b[1;33m\u001b[0m\u001b[0m\n\u001b[0;32m      2\u001b[0m     \u001b[0mlinks\u001b[0m \u001b[1;33m=\u001b[0m \u001b[1;33m[\u001b[0m\u001b[1;33m]\u001b[0m\u001b[1;33m\u001b[0m\u001b[1;33m\u001b[0m\u001b[0m\n\u001b[1;32m----> 3\u001b[1;33m     \u001b[0mcontent\u001b[0m \u001b[1;33m=\u001b[0m \u001b[0mresponse\u001b[0m\u001b[1;33m.\u001b[0m\u001b[0mhtml\u001b[0m\u001b[1;33m.\u001b[0m\u001b[0mfind\u001b[0m\u001b[1;33m(\u001b[0m\u001b[1;34m'ul.list'\u001b[0m\u001b[1;33m,\u001b[0m \u001b[0mfirst\u001b[0m\u001b[1;33m=\u001b[0m\u001b[1;32mFalse\u001b[0m\u001b[1;33m)\u001b[0m\u001b[1;33m[\u001b[0m\u001b[1;36m1\u001b[0m\u001b[1;33m]\u001b[0m \u001b[1;31m# main part\u001b[0m\u001b[1;33m\u001b[0m\u001b[1;33m\u001b[0m\u001b[0m\n\u001b[0m\u001b[0;32m      4\u001b[0m     \u001b[0mres\u001b[0m \u001b[1;33m=\u001b[0m \u001b[0mcontent\u001b[0m\u001b[1;33m.\u001b[0m\u001b[0mfind\u001b[0m\u001b[1;33m(\u001b[0m\u001b[1;34m'li'\u001b[0m\u001b[1;33m)\u001b[0m\u001b[1;33m\u001b[0m\u001b[1;33m\u001b[0m\u001b[0m\n\u001b[0;32m      5\u001b[0m     \u001b[1;32mfor\u001b[0m \u001b[0mitem\u001b[0m \u001b[1;32min\u001b[0m \u001b[0mres\u001b[0m\u001b[1;33m:\u001b[0m\u001b[1;33m\u001b[0m\u001b[1;33m\u001b[0m\u001b[0m\n",
      "\u001b[1;31mIndexError\u001b[0m: list index out of range"
     ]
    }
   ],
   "source": [
    "links = functools.reduce(merge, map(get_pages, responses))"
   ]
  },
  {
   "cell_type": "markdown",
   "metadata": {},
   "source": [
    "### 抓取图片到本地"
   ]
  },
  {
   "cell_type": "code",
   "execution_count": 100,
   "metadata": {},
   "outputs": [],
   "source": [
    "def save_image(img_url, order):\n",
    "    img_response = requests.get(img_url)\n",
    "    with open('E:/ZYD/spider/177test/%d.jpg' %order, 'ab') as f:\n",
    "        f.write(img_response.content)"
   ]
  },
  {
   "cell_type": "code",
   "execution_count": 101,
   "metadata": {},
   "outputs": [],
   "source": [
    "def download():\n",
    "    for index, img_url in enumerate(imgs):\n",
    "        print(img_url)\n",
    "        save_image(img_url, index+1)"
   ]
  },
  {
   "cell_type": "code",
   "execution_count": 102,
   "metadata": {},
   "outputs": [
    {
     "name": "stdout",
     "output_type": "stream",
     "text": [
      "http://img.177pic.info/uploads/2020/07a/a001-298.jpg\n",
      "http://img.177pic.info/uploads/2020/07a/a002-298.jpg\n",
      "http://img.177pic.info/uploads/2020/07a/a003-298.jpg\n",
      "http://img.177pic.info/uploads/2020/07a/a004-298.jpg\n",
      "http://img.177pic.info/uploads/2020/07a/a005-298.jpg\n",
      "http://img.177pic.info/uploads/2020/07a/a006-298.jpg\n",
      "http://img.177pic.info/uploads/2020/07a/a007-298.jpg\n",
      "http://img.177pic.info/uploads/2020/07a/a008-298.jpg\n",
      "http://img.177pic.info/uploads/2020/07a/a009-298.jpg\n",
      "http://img.177pic.info/uploads/2020/07a/a010-298.jpg\n",
      "http://img.177pic.info/uploads/2020/07a/a011-298.jpg\n",
      "http://img.177pic.info/uploads/2020/07a/a012-298.jpg\n",
      "http://img.177pic.info/uploads/2020/07a/a013-298.jpg\n",
      "http://img.177pic.info/uploads/2020/07a/a014-298.jpg\n",
      "http://img.177pic.info/uploads/2020/07a/a015-298.jpg\n",
      "http://img.177pic.info/uploads/2020/07a/a016-298.jpg\n",
      "http://img.177pic.info/uploads/2020/07a/a017-298.jpg\n",
      "http://img.177pic.info/uploads/2020/07a/a018-298.jpg\n",
      "http://img.177pic.info/uploads/2020/07a/a019-298.jpg\n",
      "http://img.177pic.info/uploads/2020/07a/a020-298.jpg\n",
      "http://img.177pic.info/uploads/2020/07a/a021-298.jpg\n",
      "http://img.177pic.info/uploads/2020/07a/a022-298.jpg\n",
      "http://img.177pic.info/uploads/2020/07a/a023-298.jpg\n",
      "http://img.177pic.info/uploads/2020/07a/a024-298.jpg\n",
      "http://img.177pic.info/uploads/2020/07a/a025-298.jpg\n",
      "http://img.177pic.info/uploads/2020/07a/a026-298.jpg\n",
      "http://img.177pic.info/uploads/2020/07a/a027-298.jpg\n",
      "http://img.177pic.info/uploads/2020/07a/a028-298.jpg\n",
      "http://img.177pic.info/uploads/2020/07a/a029-298.jpg\n",
      "http://img.177pic.info/uploads/2020/07a/a030-298.jpg\n",
      "http://img.177pic.info/uploads/2020/07a/a031-298.jpg\n",
      "http://img.177pic.info/uploads/2020/07a/a032-297.jpg\n",
      "http://img.177pic.info/uploads/2020/07a/a033-297.jpg\n",
      "http://img.177pic.info/uploads/2020/07a/a034-297.jpg\n",
      "http://img.177pic.info/uploads/2020/07a/a035-293.jpg\n",
      "http://img.177pic.info/uploads/2020/07a/a036-292.jpg\n",
      "http://img.177pic.info/uploads/2020/07a/a037-292.jpg\n",
      "http://img.177pic.info/uploads/2020/07a/a038-291.jpg\n",
      "http://img.177pic.info/uploads/2020/07a/a039-291.jpg\n",
      "http://img.177pic.info/uploads/2020/07a/a040-291.jpg\n",
      "http://img.177pic.info/uploads/2020/07a/a041-290.jpg\n",
      "http://img.177pic.info/uploads/2020/07a/a042-289.jpg\n",
      "http://img.177pic.info/uploads/2020/07a/a043-289.jpg\n",
      "http://img.177pic.info/uploads/2020/07a/a044-288.jpg\n",
      "http://img.177pic.info/uploads/2020/07a/a045-288.jpg\n",
      "http://img.177pic.info/uploads/2020/07a/a046-287.jpg\n",
      "http://img.177pic.info/uploads/2020/07a/a047-285.jpg\n",
      "http://img.177pic.info/uploads/2020/07a/a048-284.jpg\n",
      "http://img.177pic.info/uploads/2020/07a/a049-284.jpg\n",
      "http://img.177pic.info/uploads/2020/07a/a050-282.jpg\n",
      "http://img.177pic.info/uploads/2020/07a/a051-281.jpg\n",
      "http://img.177pic.info/uploads/2020/07a/a052-280.jpg\n",
      "http://img.177pic.info/uploads/2020/07a/a053-277.jpg\n",
      "http://img.177pic.info/uploads/2020/07a/a054-276.jpg\n",
      "http://img.177pic.info/uploads/2020/07a/a055-275.jpg\n",
      "http://img.177pic.info/uploads/2020/07a/a056-273.jpg\n",
      "http://img.177pic.info/uploads/2020/07a/a057-272.jpg\n",
      "http://img.177pic.info/uploads/2020/07a/a058-271.jpg\n",
      "http://img.177pic.info/uploads/2020/07a/a059-267.jpg\n",
      "http://img.177pic.info/uploads/2020/07a/a060-267.jpg\n",
      "http://img.177pic.info/uploads/2020/07a/a061-267.jpg\n",
      "http://img.177pic.info/uploads/2020/07a/a062-266.jpg\n",
      "http://img.177pic.info/uploads/2020/07a/a063-266.jpg\n",
      "http://img.177pic.info/uploads/2020/07a/a064-265.jpg\n",
      "http://img.177pic.info/uploads/2020/07a/a065-263.jpg\n",
      "http://img.177pic.info/uploads/2020/07a/a066-259.jpg\n",
      "http://img.177pic.info/uploads/2020/07a/a067-259.jpg\n",
      "http://img.177pic.info/uploads/2020/07a/a068-259.jpg\n",
      "http://img.177pic.info/uploads/2020/07a/a069-257.jpg\n",
      "http://img.177pic.info/uploads/2020/07a/a070-256.jpg\n",
      "http://img.177pic.info/uploads/2020/07a/a071-255.jpg\n",
      "http://img.177pic.info/uploads/2020/07a/a072-253.jpg\n",
      "http://img.177pic.info/uploads/2020/07a/a073-253.jpg\n",
      "http://img.177pic.info/uploads/2020/07a/a074-252.jpg\n",
      "http://img.177pic.info/uploads/2020/07a/a075-250.jpg\n",
      "http://img.177pic.info/uploads/2020/07a/a076-250.jpg\n",
      "http://img.177pic.info/uploads/2020/07a/a077-249.jpg\n",
      "http://img.177pic.info/uploads/2020/07a/a078-248.jpg\n",
      "http://img.177pic.info/uploads/2020/07a/a079-248.jpg\n",
      "http://img.177pic.info/uploads/2020/07a/a080-247.jpg\n",
      "http://img.177pic.info/uploads/2020/07a/a081-246.jpg\n",
      "http://img.177pic.info/uploads/2020/07a/a082-245.jpg\n",
      "http://img.177pic.info/uploads/2020/07a/a083-243.jpg\n",
      "http://img.177pic.info/uploads/2020/07a/a084-241.jpg\n",
      "http://img.177pic.info/uploads/2020/07a/a085-241.jpg\n",
      "http://img.177pic.info/uploads/2020/07a/a086-239.jpg\n",
      "http://img.177pic.info/uploads/2020/07a/a087-236.jpg\n",
      "http://img.177pic.info/uploads/2020/07a/a088-236.jpg\n",
      "http://img.177pic.info/uploads/2020/07a/a089-235.jpg\n",
      "http://img.177pic.info/uploads/2020/07a/a090-232.jpg\n",
      "http://img.177pic.info/uploads/2020/07a/a091-228.jpg\n",
      "http://img.177pic.info/uploads/2020/07a/a092-226.jpg\n",
      "http://img.177pic.info/uploads/2020/07a/a093-225.jpg\n",
      "http://img.177pic.info/uploads/2020/07a/a094-225.jpg\n",
      "http://img.177pic.info/uploads/2020/07a/a095-224.jpg\n",
      "http://img.177pic.info/uploads/2020/07a/a096-223.jpg\n",
      "http://img.177pic.info/uploads/2020/07a/a097-223.jpg\n",
      "http://img.177pic.info/uploads/2020/07a/a098-222.jpg\n",
      "http://img.177pic.info/uploads/2020/07a/a099-221.jpg\n",
      "http://img.177pic.info/uploads/2020/07a/a100-220.jpg\n",
      "http://img.177pic.info/uploads/2020/07a/a101-219.jpg\n",
      "http://img.177pic.info/uploads/2020/07a/a102-219.jpg\n",
      "http://img.177pic.info/uploads/2020/07a/a103-218.jpg\n",
      "http://img.177pic.info/uploads/2020/07a/a104-217.jpg\n",
      "http://img.177pic.info/uploads/2020/07a/a105-216.jpg\n",
      "http://img.177pic.info/uploads/2020/07a/a106-215.jpg\n",
      "http://img.177pic.info/uploads/2020/07a/a107-215.jpg\n",
      "http://img.177pic.info/uploads/2020/07a/a108-211.jpg\n",
      "http://img.177pic.info/uploads/2020/07a/a109-211.jpg\n",
      "http://img.177pic.info/uploads/2020/07a/a110-209.jpg\n",
      "http://img.177pic.info/uploads/2020/07a/a111-209.jpg\n",
      "http://img.177pic.info/uploads/2020/07a/a112-208.jpg\n",
      "http://img.177pic.info/uploads/2020/07a/a113-207.jpg\n",
      "http://img.177pic.info/uploads/2020/07a/a114-203.jpg\n",
      "http://img.177pic.info/uploads/2020/07a/a115-203.jpg\n",
      "http://img.177pic.info/uploads/2020/07a/a116-201.jpg\n",
      "http://img.177pic.info/uploads/2020/07a/a117-201.jpg\n",
      "http://img.177pic.info/uploads/2020/07a/a118-200.jpg\n",
      "http://img.177pic.info/uploads/2020/07a/a119-199.jpg\n",
      "http://img.177pic.info/uploads/2020/07a/a120-199.jpg\n",
      "http://img.177pic.info/uploads/2020/07a/a121-199.jpg\n",
      "http://img.177pic.info/uploads/2020/07a/a122-198.jpg\n",
      "http://img.177pic.info/uploads/2020/07a/a123-198.jpg\n",
      "http://img.177pic.info/uploads/2020/07a/a124-198.jpg\n",
      "http://img.177pic.info/uploads/2020/07a/a125-197.jpg\n",
      "http://img.177pic.info/uploads/2020/07a/a126-196.jpg\n",
      "http://img.177pic.info/uploads/2020/07a/a127-196.jpg\n",
      "http://img.177pic.info/uploads/2020/07a/a128-196.jpg\n",
      "http://img.177pic.info/uploads/2020/07a/a129-196.jpg\n",
      "http://img.177pic.info/uploads/2020/07a/a130-195.jpg\n",
      "http://img.177pic.info/uploads/2020/07a/a131-193.jpg\n",
      "http://img.177pic.info/uploads/2020/07a/a132-193.jpg\n",
      "http://img.177pic.info/uploads/2020/07a/a133-192.jpg\n",
      "http://img.177pic.info/uploads/2020/07a/a134-191.jpg\n",
      "http://img.177pic.info/uploads/2020/07a/a135-191.jpg\n",
      "http://img.177pic.info/uploads/2020/07a/a136-190.jpg\n",
      "http://img.177pic.info/uploads/2020/07a/a137-190.jpg\n",
      "http://img.177pic.info/uploads/2020/07a/a138-190.jpg\n",
      "http://img.177pic.info/uploads/2020/07a/a139-188.jpg\n",
      "http://img.177pic.info/uploads/2020/07a/a140-187.jpg\n",
      "http://img.177pic.info/uploads/2020/07a/a141-186.jpg\n",
      "http://img.177pic.info/uploads/2020/07a/a142-186.jpg\n",
      "http://img.177pic.info/uploads/2020/07a/a143-186.jpg\n",
      "http://img.177pic.info/uploads/2020/07a/a144-185.jpg\n",
      "http://img.177pic.info/uploads/2020/07a/a145-185.jpg\n",
      "http://img.177pic.info/uploads/2020/07a/a146-185.jpg\n",
      "http://img.177pic.info/uploads/2020/07a/a147-184.jpg\n",
      "http://img.177pic.info/uploads/2020/07a/a148-184.jpg\n",
      "http://img.177pic.info/uploads/2020/07a/a149-184.jpg\n",
      "http://img.177pic.info/uploads/2020/07a/a150-183.jpg\n",
      "http://img.177pic.info/uploads/2020/07a/a151-182.jpg\n",
      "http://img.177pic.info/uploads/2020/07a/a152-181.jpg\n",
      "http://img.177pic.info/uploads/2020/07a/a153-180.jpg\n",
      "http://img.177pic.info/uploads/2020/07a/a154-180.jpg\n",
      "http://img.177pic.info/uploads/2020/07a/a155-179.jpg\n",
      "http://img.177pic.info/uploads/2020/07a/a156-179.jpg\n",
      "http://img.177pic.info/uploads/2020/07a/a157-178.jpg\n",
      "http://img.177pic.info/uploads/2020/07a/a158-175.jpg\n",
      "http://img.177pic.info/uploads/2020/07a/a159-174.jpg\n",
      "http://img.177pic.info/uploads/2020/07a/a160-174.jpg\n",
      "http://img.177pic.info/uploads/2020/07a/a161-174.jpg\n",
      "http://img.177pic.info/uploads/2020/07a/a162-174.jpg\n",
      "http://img.177pic.info/uploads/2020/07a/a163-174.jpg\n",
      "http://img.177pic.info/uploads/2020/07a/a164-173.jpg\n",
      "http://img.177pic.info/uploads/2020/07a/a165-173.jpg\n",
      "http://img.177pic.info/uploads/2020/07a/a166-173.jpg\n",
      "http://img.177pic.info/uploads/2020/07a/a167-173.jpg\n",
      "http://img.177pic.info/uploads/2020/07a/a168-173.jpg\n",
      "http://img.177pic.info/uploads/2020/07a/a169-171.jpg\n",
      "http://img.177pic.info/uploads/2020/07a/a170-171.jpg\n",
      "http://img.177pic.info/uploads/2020/07a/a171-170.jpg\n",
      "http://img.177pic.info/uploads/2020/07a/a172-168.jpg\n",
      "http://img.177pic.info/uploads/2020/07a/a173-167.jpg\n",
      "http://img.177pic.info/uploads/2020/07a/a174-165.jpg\n",
      "http://img.177pic.info/uploads/2020/07a/a175-164.jpg\n",
      "http://img.177pic.info/uploads/2020/07a/a176-164.jpg\n",
      "http://img.177pic.info/uploads/2020/07a/a177-164.jpg\n",
      "http://img.177pic.info/uploads/2020/07a/a178-163.jpg\n",
      "http://img.177pic.info/uploads/2020/07a/a179-163.jpg\n",
      "http://img.177pic.info/uploads/2020/07a/a180-162.jpg\n",
      "http://img.177pic.info/uploads/2020/07a/a181-162.jpg\n",
      "http://img.177pic.info/uploads/2020/07a/a182-161.jpg\n",
      "http://img.177pic.info/uploads/2020/07a/a183-161.jpg\n",
      "http://img.177pic.info/uploads/2020/07a/a184-160.jpg\n",
      "http://img.177pic.info/uploads/2020/07a/a185-160.jpg\n",
      "http://img.177pic.info/uploads/2020/07a/a186-159.jpg\n",
      "http://img.177pic.info/uploads/2020/07a/a187-157.jpg\n",
      "http://img.177pic.info/uploads/2020/07a/a188-155.jpg\n",
      "http://img.177pic.info/uploads/2020/07a/a189-154.jpg\n",
      "http://img.177pic.info/uploads/2020/07a/a190-154.jpg\n",
      "http://img.177pic.info/uploads/2020/07a/a191-152.jpg\n",
      "http://img.177pic.info/uploads/2020/07a/a192-150.jpg\n",
      "http://img.177pic.info/uploads/2020/07a/a193-150.jpg\n",
      "http://img.177pic.info/uploads/2020/07a/a194-148.jpg\n",
      "http://img.177pic.info/uploads/2020/07a/a195-146.jpg\n",
      "http://img.177pic.info/uploads/2020/07a/a196-145.jpg\n",
      "http://img.177pic.info/uploads/2020/07a/a197-141.jpg\n",
      "http://img.177pic.info/uploads/2020/07a/a198-139.jpg\n",
      "http://img.177pic.info/uploads/2020/07a/a199-138.jpg\n",
      "http://img.177pic.info/uploads/2020/07a/a200-136.jpg\n",
      "http://img.177pic.info/uploads/2020/07a/a201-133.jpg\n",
      "http://img.177pic.info/uploads/2020/07a/a202-131.jpg\n",
      "http://img.177pic.info/uploads/2020/07a/a203-130.jpg\n",
      "http://img.177pic.info/uploads/2020/07a/a204-129.jpg\n",
      "http://img.177pic.info/uploads/2020/07a/a205-128.jpg\n",
      "http://img.177pic.info/uploads/2020/07a/a206-126.jpg\n",
      "Wall time: 6min 29s\n"
     ]
    }
   ],
   "source": [
    "%time download()"
   ]
  }
 ],
 "metadata": {
  "kernelspec": {
   "display_name": "Python 3",
   "language": "python",
   "name": "python3"
  },
  "language_info": {
   "codemirror_mode": {
    "name": "ipython",
    "version": 3
   },
   "file_extension": ".py",
   "mimetype": "text/x-python",
   "name": "python",
   "nbconvert_exporter": "python",
   "pygments_lexer": "ipython3",
   "version": "3.7.6"
  }
 },
 "nbformat": 4,
 "nbformat_minor": 4
}
