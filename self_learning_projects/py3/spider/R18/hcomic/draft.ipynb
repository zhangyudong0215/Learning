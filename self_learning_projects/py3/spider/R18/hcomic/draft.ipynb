{
 "cells": [
  {
   "cell_type": "code",
   "execution_count": 76,
   "metadata": {},
   "outputs": [],
   "source": [
    "from requests_html import HTMLSession\n",
    "from tqdm import tqdm"
   ]
  },
  {
   "cell_type": "code",
   "execution_count": 58,
   "metadata": {},
   "outputs": [],
   "source": [
    "session = HTMLSession()\n",
    "\n",
    "headers = {\n",
    "    'user-agent':\n",
    "    'Mozilla/5.0 (X11; Ubuntu; Linux x86_64; rv:54.0) Gecko/20100101 Firefox/54.0',\n",
    "    'accept':\n",
    "    'text/html, application/xhtml+xml, application/xml; q=0.9, image/webp, */*; q=0.8',\n",
    "    'referer':\n",
    "    'http://www.mzitu.com'\n",
    "}"
   ]
  },
  {
   "cell_type": "code",
   "execution_count": 59,
   "metadata": {},
   "outputs": [],
   "source": [
    "comic_id = 295382\n",
    "content_id = 1460430"
   ]
  },
  {
   "cell_type": "code",
   "execution_count": 60,
   "metadata": {},
   "outputs": [
    {
     "data": {
      "text/plain": [
       "'https://hcomic1.com/cn/s/295382/'"
      ]
     },
     "execution_count": 60,
     "metadata": {},
     "output_type": "execute_result"
    }
   ],
   "source": [
    "frontpage = 'https://hcomic1.com/cn/s/%d/' %(comic_id)\n",
    "frontpage"
   ]
  },
  {
   "cell_type": "code",
   "execution_count": 61,
   "metadata": {},
   "outputs": [
    {
     "data": {
      "text/plain": [
       "'https://hcomic1.com/cn/g4/295382/'"
      ]
     },
     "execution_count": 61,
     "metadata": {},
     "output_type": "execute_result"
    }
   ],
   "source": [
    "contentpage = 'https://hcomic1.com/cn/g4/%d/' %(comic_id)\n",
    "contentpage"
   ]
  },
  {
   "cell_type": "code",
   "execution_count": 62,
   "metadata": {},
   "outputs": [],
   "source": [
    "res_frontpage = session.get(frontpage, headers=headers)"
   ]
  },
  {
   "cell_type": "code",
   "execution_count": 63,
   "metadata": {},
   "outputs": [
    {
     "data": {
      "text/plain": [
       "'[世徒ゆうき] 千歳 -chitose- 〈第1話〉(COMIC 夢幻転生 2019年7月号) [DL版] [中国翻訳]-[Seto Yuuki] Chitose Ch. 1 (COMIC Mugen Tensei 2019-07) [Chinese] [最愛大屁屁x漢化組漢化組] [Digital]'"
      ]
     },
     "execution_count": 63,
     "metadata": {},
     "output_type": "execute_result"
    }
   ],
   "source": [
    "title = res_frontpage.html.find('h1[class=tit]')[0].text\n",
    "box_info = res_frontpage.html.find('table[class=date]')[0].find('td')\n",
    "tag_info = res_frontpage.html.find('table[class=tag]')[0]\n",
    "title"
   ]
  },
  {
   "cell_type": "code",
   "execution_count": 64,
   "metadata": {},
   "outputs": [
    {
     "data": {
      "text/plain": [
       "'2019-08-09 06:02:42'"
      ]
     },
     "execution_count": 64,
     "metadata": {},
     "output_type": "execute_result"
    }
   ],
   "source": [
    "update_time = box_info[0].text.replace(' UP', '')\n",
    "update_time"
   ]
  },
  {
   "cell_type": "code",
   "execution_count": 65,
   "metadata": {},
   "outputs": [
    {
     "data": {
      "text/plain": [
       "50"
      ]
     },
     "execution_count": 65,
     "metadata": {},
     "output_type": "execute_result"
    }
   ],
   "source": [
    "cnt_page = int(box_info[1].text)\n",
    "cnt_page"
   ]
  },
  {
   "cell_type": "code",
   "execution_count": 66,
   "metadata": {},
   "outputs": [
    {
     "data": {
      "text/plain": [
       "'stockings#schoolgirluniform#blowjob#fullcensorship#netorare#schoolboyuniform#condom#nopenetration'"
      ]
     },
     "execution_count": 66,
     "metadata": {},
     "output_type": "execute_result"
    }
   ],
   "source": [
    "tags = '#'.join([item.text for item in tag_info.find('a')])\n",
    "tags"
   ]
  },
  {
   "cell_type": "code",
   "execution_count": 67,
   "metadata": {},
   "outputs": [
    {
     "data": {
      "text/plain": [
       "'img.comicstatic.icu/img/cn/1460430/1.jpg'"
      ]
     },
     "execution_count": 67,
     "metadata": {},
     "output_type": "execute_result"
    }
   ],
   "source": [
    "img_pattern = 'img.comicstatic.icu/img/cn/%d/%d.jpg' %(1460430, 1)\n",
    "img_pattern"
   ]
  },
  {
   "cell_type": "code",
   "execution_count": 68,
   "metadata": {},
   "outputs": [],
   "source": [
    "from image_download import save_image\n",
    "import os"
   ]
  },
  {
   "cell_type": "code",
   "execution_count": 69,
   "metadata": {},
   "outputs": [],
   "source": [
    "def get_img_link(content_id, page_index):\n",
    "    return 'https://img.comicstatic.icu/img/cn/%d/%d.jpg' %(content_id, page_index)"
   ]
  },
  {
   "cell_type": "code",
   "execution_count": 70,
   "metadata": {},
   "outputs": [],
   "source": [
    "def main_spider(title, tags, update_time, comic_id, content_id, page_count, save_path='/home/ydzhang/spider_download', infos={}):\n",
    "    if os.path.isdir(save_path):\n",
    "        title = '_'.join([update_time, str(comic_id), str(content_id), str(page_count), title])\n",
    "        save_path = os.path.join(save_path, title)\n",
    "        if not os.path.exists(save_path):\n",
    "            os.mkdir(save_path)\n",
    "            download(content_id, page_count, save_path)"
   ]
  },
  {
   "cell_type": "code",
   "execution_count": 71,
   "metadata": {},
   "outputs": [],
   "source": [
    "def download(content_id, page_count, save_path):\n",
    "    for order in tqdm(range(1, page_count+1)):\n",
    "        link = get_img_link(content_id, order)\n",
    "        save_image(link, order, save_path)"
   ]
  },
  {
   "cell_type": "code",
   "execution_count": null,
   "metadata": {},
   "outputs": [
    {
     "name": "stderr",
     "output_type": "stream",
     "text": [
      " 16%|█▌        | 8/50 [03:07<22:37, 32.32s/it]"
     ]
    }
   ],
   "source": [
    "main_spider(title, tags, update_time, comic_id, content_id, cnt_page)"
   ]
  },
  {
   "cell_type": "code",
   "execution_count": null,
   "metadata": {},
   "outputs": [],
   "source": [
    "main_spider()"
   ]
  }
 ],
 "metadata": {
  "kernelspec": {
   "display_name": "Python 3",
   "language": "python",
   "name": "python3"
  },
  "language_info": {
   "codemirror_mode": {
    "name": "ipython",
    "version": 3
   },
   "file_extension": ".py",
   "mimetype": "text/x-python",
   "name": "python",
   "nbconvert_exporter": "python",
   "pygments_lexer": "ipython3",
   "version": "3.7.0"
  }
 },
 "nbformat": 4,
 "nbformat_minor": 2
}
