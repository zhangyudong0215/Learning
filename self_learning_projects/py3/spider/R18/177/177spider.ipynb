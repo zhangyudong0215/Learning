{
 "cells": [
  {
   "cell_type": "code",
   "execution_count": 15,
   "metadata": {},
   "outputs": [],
   "source": [
    "from requests_html import HTMLSession\n",
    "import requests\n",
    "import time\n",
    "import regex as re\n",
    "import functools\n",
    "import requests"
   ]
  },
  {
   "cell_type": "code",
   "execution_count": 2,
   "metadata": {},
   "outputs": [],
   "source": [
    "session = HTMLSession()\n",
    "url = 'http://www.177piczz.info/html/2015/06/60390.html'\n",
    "pattern = re.compile(url + '/(\\d+)')\n",
    "responses = []"
   ]
  },
  {
   "cell_type": "markdown",
   "metadata": {},
   "source": [
    "### 以上已抓取到所有需要的网页信息, 储存在responses里面"
   ]
  },
  {
   "cell_type": "code",
   "execution_count": 3,
   "metadata": {},
   "outputs": [],
   "source": [
    "def get_max_page():\n",
    "    responses.append(session.get(url))\n",
    "    pages = []\n",
    "    for item in responses[0].html.absolute_links:\n",
    "        res = pattern.match(item)\n",
    "        if res:\n",
    "            pages.append(res.group(1))\n",
    "    return max(map(int, pages))"
   ]
  },
  {
   "cell_type": "code",
   "execution_count": 4,
   "metadata": {},
   "outputs": [],
   "source": [
    "max_page = get_max_page()"
   ]
  },
  {
   "cell_type": "code",
   "execution_count": 5,
   "metadata": {},
   "outputs": [],
   "source": [
    "for index in range(2, max_page+1):\n",
    "    responses.append(session.get(url+'/'+str(index)))"
   ]
  },
  {
   "cell_type": "markdown",
   "metadata": {},
   "source": [
    "### 获得所有imgs的链接"
   ]
  },
  {
   "cell_type": "code",
   "execution_count": 6,
   "metadata": {},
   "outputs": [],
   "source": [
    "def get_page_imgs(response):\n",
    "    imgs = []\n",
    "    content = response.html.find('div.entry-content', first=True)\n",
    "    pics = content.find('p')\n",
    "    for pic in pics:\n",
    "        try:\n",
    "            imgs.append(pic.find('img', first=True).attrs['src'])\n",
    "        except:\n",
    "            pass\n",
    "    return imgs"
   ]
  },
  {
   "cell_type": "code",
   "execution_count": 12,
   "metadata": {},
   "outputs": [],
   "source": [
    "def merge(list1, list2):\n",
    "    list1.extend(list2)\n",
    "    return list1"
   ]
  },
  {
   "cell_type": "code",
   "execution_count": 18,
   "metadata": {},
   "outputs": [],
   "source": [
    "imgs = functools.reduce(merge, map(get_page_imgs, responses))"
   ]
  },
  {
   "cell_type": "markdown",
   "metadata": {},
   "source": [
    "### 抓取图片到本地"
   ]
  },
  {
   "cell_type": "code",
   "execution_count": 16,
   "metadata": {},
   "outputs": [],
   "source": [
    "def save_image(img_url, order):\n",
    "    img_response = requests.get(img_url)\n",
    "    with open('E:/ZYD/spider/177test/%d.jpg' %order, 'ab') as f:\n",
    "        f.write(img_response.content)"
   ]
  },
  {
   "cell_type": "code",
   "execution_count": 21,
   "metadata": {},
   "outputs": [],
   "source": [
    "def download():\n",
    "    for index, img_url in enumerate(imgs):\n",
    "        save_image(img_url, index+1)"
   ]
  },
  {
   "cell_type": "code",
   "execution_count": 22,
   "metadata": {},
   "outputs": [
    {
     "name": "stdout",
     "output_type": "stream",
     "text": [
      "Wall time: 33min 49s\n"
     ]
    }
   ],
   "source": [
    "%time download()"
   ]
  }
 ],
 "metadata": {
  "kernelspec": {
   "display_name": "Python 3",
   "language": "python",
   "name": "python3"
  },
  "language_info": {
   "codemirror_mode": {
    "name": "ipython",
    "version": 3
   },
   "file_extension": ".py",
   "mimetype": "text/x-python",
   "name": "python",
   "nbconvert_exporter": "python",
   "pygments_lexer": "ipython3",
   "version": "3.6.1"
  }
 },
 "nbformat": 4,
 "nbformat_minor": 2
}
