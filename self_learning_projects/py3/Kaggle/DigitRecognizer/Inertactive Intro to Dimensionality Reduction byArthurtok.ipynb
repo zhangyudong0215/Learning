{
 "cells": [
  {
   "cell_type": "code",
   "execution_count": 1,
   "metadata": {},
   "outputs": [
    {
     "data": {
      "text/html": [
       "<script>requirejs.config({paths: { 'plotly': ['https://cdn.plot.ly/plotly-latest.min']},});if(!window.Plotly) {{require(['plotly'],function(plotly) {window.Plotly=plotly;});}}</script>"
      ],
      "text/vnd.plotly.v1+html": [
       "<script>requirejs.config({paths: { 'plotly': ['https://cdn.plot.ly/plotly-latest.min']},});if(!window.Plotly) {{require(['plotly'],function(plotly) {window.Plotly=plotly;});}}</script>"
      ]
     },
     "metadata": {},
     "output_type": "display_data"
    }
   ],
   "source": [
    "import numpy as np\n",
    "import pandas as pd\n",
    "import plotly.offline as py\n",
    "py.init_notebook_mode(connected=True)\n",
    "import plotly.graph_objs as go\n",
    "import plotly.tools as tls\n",
    "import seaborn as sns\n",
    "import matplotlib.image as mpimg\n",
    "import matplotlib.pyplot as plt\n",
    "import matplotlib\n",
    "%matplotlib inline\n",
    "# import eht 3 dimensionality reduction methods\n",
    "from sklearn.manifold import TSNE\n",
    "from sklearn.decomposition import PCA\n",
    "from sklearn.discriminant_analysis import LinearDiscriminantAnalysis as LDA"
   ]
  },
  {
   "cell_type": "code",
   "execution_count": 21,
   "metadata": {
    "collapsed": true
   },
   "outputs": [],
   "source": [
    "train = pd.read_csv('/home/zhangyd/Data/Kaggle/DigitRecognizer/train.csv')"
   ]
  },
  {
   "cell_type": "code",
   "execution_count": 56,
   "metadata": {},
   "outputs": [],
   "source": [
    "train.head()"
   ]
  },
  {
   "cell_type": "code",
   "execution_count": 5,
   "metadata": {},
   "outputs": [
    {
     "name": "stdout",
     "output_type": "stream",
     "text": [
      "(42000, 785)\n"
     ]
    }
   ],
   "source": [
    "print(train.shape)"
   ]
  },
  {
   "cell_type": "code",
   "execution_count": 22,
   "metadata": {
    "collapsed": true
   },
   "outputs": [],
   "source": [
    "# save the labels to a Pandas series target\n",
    "target = train['label']\n",
    "# Drop the label feature\n",
    "train = train.drop('label', axis=1)"
   ]
  },
  {
   "cell_type": "code",
   "execution_count": 23,
   "metadata": {},
   "outputs": [
    {
     "name": "stderr",
     "output_type": "stream",
     "text": [
      "/home/zhangyd/anaconda3/lib/python3.6/site-packages/sklearn/utils/validation.py:429: DataConversionWarning:\n",
      "\n",
      "Data with input dtype int64 was converted to float64 by StandardScaler.\n",
      "\n"
     ]
    }
   ],
   "source": [
    "# standardize the data\n",
    "from sklearn.preprocessing import StandardScaler\n",
    "X = train.values\n",
    "X_std = StandardScaler().fit_transform(X)"
   ]
  },
  {
   "cell_type": "code",
   "execution_count": 5,
   "metadata": {
    "collapsed": true
   },
   "outputs": [],
   "source": [
    "# Calculating Eigenvectors and eigenvalues of Cov matrix\n",
    "mean_vec = np.mean(X_std, axis=0)\n",
    "cov_mat = np.cov(X_std.T)\n",
    "eig_vals, eig_vecs = np.linalg.eig(cov_mat)"
   ]
  },
  {
   "cell_type": "code",
   "execution_count": 6,
   "metadata": {
    "collapsed": true
   },
   "outputs": [],
   "source": [
    "# Create a list of (eigenvalue, eigenvector) tuples\n",
    "eig_pairs = [(np.abs(eig_vals[i]), eig_vecs[:, i]) for i in range(len(eig_vals))]"
   ]
  },
  {
   "cell_type": "code",
   "execution_count": 7,
   "metadata": {
    "collapsed": true
   },
   "outputs": [],
   "source": [
    "# Sort the eigenvalue, eigenvector pair from high to low\n",
    "eig_pairs.sort(key=lambda x: x[0], reverse=True)"
   ]
  },
  {
   "cell_type": "code",
   "execution_count": 8,
   "metadata": {
    "collapsed": true
   },
   "outputs": [],
   "source": [
    "# Calculation of Explained Variance from the eigenvalues\n",
    "tot = sum(eig_vals)\n",
    "var_exp = [(i/tot)*100 for i in sorted(eig_vals, reverse=True)] # individual explained variance\n",
    "cum_var_exp = np.cumsum(var_exp) # cumulative explained variance"
   ]
  },
  {
   "cell_type": "code",
   "execution_count": 55,
   "metadata": {},
   "outputs": [],
   "source": [
    "trace1 = go.Scatter(\n",
    "    x = list(range(784)), \n",
    "    y = cum_var_exp, \n",
    "    mode = 'lines+markers', \n",
    "    name = 'Cumulative Explained Variance', \n",
    "    hoverinfo = cum_var_exp, \n",
    "    line = dict(\n",
    "        shape = 'spline', \n",
    "        color = 'goldenrod'\n",
    "    )\n",
    ")\n",
    "trace2 = go.Scatter(\n",
    "    x = list(range(784)), \n",
    "    y = var_exp, \n",
    "    mode = 'lines+markers', \n",
    "    name = 'individual Explained Variance', \n",
    "    hoverinfo = var_exp, \n",
    "    line = dict(\n",
    "        shape = 'liner', \n",
    "        color = 'black'\n",
    "    )\n",
    ")\n",
    "fig = tls.make_subplots(insets=[{'cell': (1, 1), 'l': 0.7, 'b': 0.5}], print_grid=True)\n",
    "fig.append_trace(trace1, 1, 1)\n",
    "fig.append_trace(trace2, 1, 1)\n",
    "fig.layout.title = 'Explained Variace plots - Full and Zoomed-in'\n",
    "fig.layout.xaxis = dict(range=[0, 80], title = 'Feature columns')\n",
    "fig.layout.yaxis = dict(range=[0, 60], title = 'Explained Variance')\n",
    "fig['data'] += [go.Scatter(x=list(range(784)), y=cum_var_exp, xaxis='x2', yaxis='y2', name='Cumulative Explained Variance')]\n",
    "fig['data'] += [go.Scatter(x=list(range(784)), y=var_exp, xaxis='x2', yaxis='y2', name='Individual Explained Variance')]\n",
    "py.iplot(fig, filename='inset example')"
   ]
  },
  {
   "cell_type": "code",
   "execution_count": 9,
   "metadata": {
    "collapsed": true
   },
   "outputs": [],
   "source": [
    "# Invoke SKlearn's PCA method\n",
    "n_components = 30\n",
    "pca = PCA(n_components=n_components).fit(train.values)\n",
    "eigenvalues = pca.components_ # 这里估计应该是特征向量，个人理解"
   ]
  },
  {
   "cell_type": "code",
   "execution_count": 47,
   "metadata": {},
   "outputs": [],
   "source": [
    "n_row = 4\n",
    "n_col = 7\n",
    "# plot the first 8 eignenvalues\n",
    "plt.figure(figsize=(13, 12))\n",
    "for i in list(range(n_row * n_col)):\n",
    "    offset = 0\n",
    "    plt.subplot(n_row, n_col, i + 1)\n",
    "    plt.imshow(eigenvalues[i].reshape(28, 28), cmap='jet')\n",
    "    title_text = 'Eigenvalue' + str(i+1)\n",
    "    plt.title(title_text, size=6.5)\n",
    "    plt.xticks(())\n",
    "    plt.yticks(())\n",
    "plt.show()"
   ]
  },
  {
   "cell_type": "code",
   "execution_count": 12,
   "metadata": {},
   "outputs": [],
   "source": [
    "# plot some of the numbers\n",
    "plt.figure(figsize=(14, 12))\n",
    "for digit_num in range(0, 70):\n",
    "    plt.subplot(7, 10, digit_num+1)\n",
    "    grid_data = train.iloc[digit_num].as_matrix().reshape(28, 28) # reshape from 1d to 2d pixel array\n",
    "    plt.imshow(grid_data, interpolation = 'none', cmap = 'afmhot')\n",
    "    plt.xticks([])\n",
    "    plt.yticks([])\n",
    "plt.tight_layout()"
   ]
  },
  {
   "cell_type": "code",
   "execution_count": 24,
   "metadata": {},
   "outputs": [
    {
     "name": "stderr",
     "output_type": "stream",
     "text": [
      "/home/zhangyd/anaconda3/lib/python3.6/site-packages/sklearn/utils/validation.py:429: DataConversionWarning:\n",
      "\n",
      "Data with input dtype int64 was converted to float64 by StandardScaler.\n",
      "\n"
     ]
    }
   ],
   "source": [
    "# Delete our earlier created X object\n",
    "del X\n",
    "# Taking only the first N rows to speed things up\n",
    "X = train[:6000].values\n",
    "del train\n",
    "# Standardising the values\n",
    "X_std = StandardScaler().fit_transform(X)\n",
    "\n",
    "# Call the PCA method with 5 components\n",
    "pca = PCA(n_components=5)\n",
    "pca.fit(X_std)\n",
    "X_5d = pca.transform(X_std) # 将数据降维\n",
    "\n",
    "# For cluster coloring in our Plotly plots, remember to also restrict the target values\n",
    "Target = target[:6000]"
   ]
  },
  {
   "cell_type": "code",
   "execution_count": 37,
   "metadata": {},
   "outputs": [],
   "source": [
    "trace0 = go.Scatter(\n",
    "    x = X_5d[:, 0], \n",
    "    y = X_5d[:, 1], \n",
    "    name = Target, \n",
    "    hoveron = Target, \n",
    "    mode = 'markers', \n",
    "    text = Target, \n",
    "    showlegend = False, \n",
    "    marker = dict(\n",
    "        size = 8, \n",
    "        color = Target, \n",
    "        colorscale = 'Jet', \n",
    "        showscale = False, \n",
    "        line = dict(\n",
    "            width = 2, \n",
    "            color = 'rgb(255, 255, 255)'\n",
    "        ),\n",
    "        opacity = 0.8\n",
    "    )\n",
    ")\n",
    "data = [trace0]\n",
    "\n",
    "layout = go.Layout(\n",
    "    title = 'Principal Component Analysis (PCA)', \n",
    "    hovermode = 'closest', \n",
    "    xaxis = dict(\n",
    "        title = 'First Principal Component', \n",
    "        ticklen = 5, \n",
    "        zeroline = False, \n",
    "        gridwidth = 2, \n",
    "    ),\n",
    "    yaxis = dict(\n",
    "        title = 'Second Principal Component', \n",
    "        ticklen = 5, \n",
    "        gridwidth = 2\n",
    "    ), \n",
    "    showlegend = True\n",
    ")\n",
    "\n",
    "fig = dict(data=data, layout=layout)\n",
    "py.iplot(fig, filename='styled-scatter')"
   ]
  },
  {
   "cell_type": "code",
   "execution_count": 39,
   "metadata": {},
   "outputs": [],
   "source": [
    "from sklearn.cluster import KMeans\n",
    "kmeans = KMeans(n_clusters=9)\n",
    "X_clustered = kmeans.fit_predict(X_5d)\n",
    "\n",
    "trace_Kmeans = go.Scatter(x=X_5d[:, 0], y=X_5d[:, 1], mode='markers', \n",
    "                         showlegend = False, \n",
    "                         marker = dict(\n",
    "                             size = 8, \n",
    "                             color = X_clustered, \n",
    "                             colorscale = 'Portland', \n",
    "                             showscale = False, \n",
    "                             line = dict(\n",
    "                                 width = 2, \n",
    "                                 color = 'rgb(255, 255, 255)'\n",
    "                             )\n",
    "                         ))\n",
    "layout = go.Layout(\n",
    "    title = 'KMeans Clustering', \n",
    "    hovermode = 'closest', \n",
    "    xaxis = dict(\n",
    "        title = 'First Principal Component', \n",
    "        ticklen = 5, \n",
    "        zeroline = False, \n",
    "        gridwidth = 2\n",
    "    ), \n",
    "    yaxis = dict(\n",
    "        title = 'Second Principal Component', \n",
    "        ticklen = 5, \n",
    "        gridwidth = 2\n",
    "    ), \n",
    "    showlegend = True\n",
    ")\n",
    "\n",
    "data = [trace_Kmeans]\n",
    "fig1 = dict(data=data, layout=layout)\n",
    "py.iplot(fig1, filename='svm')"
   ]
  },
  {
   "cell_type": "markdown",
   "metadata": {},
   "source": [
    "# Linear Discriminant Analysis (LDA) "
   ]
  },
  {
   "cell_type": "code",
   "execution_count": 40,
   "metadata": {
    "collapsed": true
   },
   "outputs": [],
   "source": [
    "from IPython.display import display, Math, Latex"
   ]
  },
  {
   "cell_type": "code",
   "execution_count": 42,
   "metadata": {},
   "outputs": [
    {
     "name": "stderr",
     "output_type": "stream",
     "text": [
      "/home/zhangyd/anaconda3/lib/python3.6/site-packages/sklearn/discriminant_analysis.py:387: UserWarning:\n",
      "\n",
      "Variables are collinear.\n",
      "\n"
     ]
    }
   ],
   "source": [
    "lda = LDA(n_components=5)\n",
    "# Taking in as second argument the Target as labels\n",
    "X_LDA_2D = lda.fit_transform(X_std, Target.values)"
   ]
  },
  {
   "cell_type": "code",
   "execution_count": 46,
   "metadata": {},
   "outputs": [],
   "source": [
    "traceLDA = go.Scatter(\n",
    "    x = X_LDA_2D[:, 0], \n",
    "    y = X_LDA_2D[:, 1], \n",
    "    name = Target, \n",
    "    mode = 'markers', \n",
    "    text = Target, \n",
    "    showlegend = True, \n",
    "    marker = dict(\n",
    "        size = 8, \n",
    "        color = Target, \n",
    "        colorscale = 'Jet', \n",
    "        showscale = False, \n",
    "        line = dict(\n",
    "            width = 2, \n",
    "            color = 'rgb(255, 255, 255)'\n",
    "        ), \n",
    "        opacity = 0.8\n",
    "    )\n",
    ")\n",
    "data = [traceLDA]\n",
    "\n",
    "layout = go.Layout(\n",
    "    title = 'Linear Discriminant Analysis (LDA)', \n",
    "    hovermode = 'closest', \n",
    "    xaxis = dict(\n",
    "        title = 'First Linear Discriminant', \n",
    "        ticklen = 5, \n",
    "        zeroline = False, \n",
    "        gridwidth = 2\n",
    "    ),\n",
    "    yaxis = dict(\n",
    "        title = 'Second Linear Discriminant', \n",
    "        ticklen = 5, \n",
    "        gridwidth = 2\n",
    "    ), \n",
    "    showlegend = False\n",
    ")\n",
    "\n",
    "fig = dict(data=data, layout=layout)\n",
    "py.iplot(fig, filename='styled-scatter')"
   ]
  },
  {
   "cell_type": "markdown",
   "metadata": {},
   "source": [
    "# T-SNE (t-Distributed Stochastic Neighbour Embedding) "
   ]
  },
  {
   "cell_type": "code",
   "execution_count": 52,
   "metadata": {},
   "outputs": [],
   "source": [
    "# Invoking the t-SNE method\n",
    "tsne = TSNE(n_components=2)\n",
    "tsne_results = tsne.fit_transform(X_std)"
   ]
  },
  {
   "cell_type": "code",
   "execution_count": 54,
   "metadata": {},
   "outputs": [],
   "source": [
    "traceTSNE = go.Scatter(\n",
    "    x = tsne_results[:, 0], \n",
    "    y = tsne_results[:, 1], \n",
    "    name = Target, \n",
    "    hoveron = Target, \n",
    "    mode = 'markers', \n",
    "    text = Target, \n",
    "    showlegend = True, \n",
    "    marker = dict(\n",
    "        size = 8, \n",
    "        color = Target, \n",
    "        colorscale = 'Jet', \n",
    "        showscale = False, \n",
    "        line = dict(\n",
    "            width = 2, \n",
    "            color = 'rgb(255, 255, 255)'\n",
    "        ), \n",
    "        opacity = 0.8\n",
    "    )\n",
    ")\n",
    "data = [traceTSNE]\n",
    "\n",
    "layout = dict(\n",
    "    title = 'TSNE (t-Distributed Stochastic Neighbour Embedding)', \n",
    "    hovermode = 'closest', \n",
    "    yaxis = dict(zeroline=False), \n",
    "    xaxis = dict(zeroline=False), \n",
    "    showlegend = False\n",
    ")\n",
    "\n",
    "fig = dict(data=data, layout=layout)\n",
    "py.iplot(fig, filename='styled-scatter')"
   ]
  }
 ],
 "metadata": {
  "kernelspec": {
   "display_name": "Python 3",
   "language": "python",
   "name": "python3"
  },
  "language_info": {
   "codemirror_mode": {
    "name": "ipython",
    "version": 3
   },
   "file_extension": ".py",
   "mimetype": "text/x-python",
   "name": "python",
   "nbconvert_exporter": "python",
   "pygments_lexer": "ipython3",
   "version": "3.6.3"
  }
 },
 "nbformat": 4,
 "nbformat_minor": 2
}
