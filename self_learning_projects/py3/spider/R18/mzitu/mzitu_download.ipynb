{
 "cells": [
  {
   "cell_type": "code",
   "execution_count": 2,
   "metadata": {},
   "outputs": [],
   "source": [
    "from requests_html import HTMLSession\n",
    "from time import sleep\n",
    "import os"
   ]
  },
  {
   "cell_type": "code",
   "execution_count": 3,
   "metadata": {},
   "outputs": [],
   "source": [
    "headers = {\n",
    "    'user-agent': 'Mozilla/5.0 (X11; Ubuntu; Linux x86_64; rv:54.0) Gecko/20100101 Firefox/54.0',\n",
    "    'accept': 'text/html, application/xhtml+xml, application/xml; q=0.9, image/webp, */*; q=0.8', \n",
    "    'referer': 'http://www.mzitu.com'\n",
    "}\n",
    "\n",
    "session = HTMLSession()"
   ]
  },
  {
   "cell_type": "code",
   "execution_count": 39,
   "metadata": {},
   "outputs": [],
   "source": [
    "def save_image(img_url, order, save_path):\n",
    "    img_response = session.get(img_url, headers=headers)\n",
    "    with open(os.path.join(save_path, '%d.jpg' %order), 'ab') as f:\n",
    "        f.write(img_response.content)\n",
    "    sleep(1)\n",
    "\n",
    "def download(pic_id, page_count, save_path):\n",
    "    print('开始抓取图集 %s' %pic_id)\n",
    "    base_url = 'http://www.mzitu.com/' + str(pic_id) + '/'\n",
    "    res = session.get(base_url)\n",
    "    first_img_url = res.html.xpath('/html/body/div[2]/div[1]/div[3]/p/a/img/@src')[0] # 秀一波xpath\n",
    "    for index in range(1, page_count+1):\n",
    "        if index < 10:\n",
    "            img_url = first_img_url.replace('1.jpg', '%d.jpg' %index)\n",
    "        else:\n",
    "            img_url = first_img_url.replace('01.jpg', '%d.jpg' %index)\n",
    "        save_image(img_url, index, save_path)\n",
    "        print('完成: %s/%s' %(index, page_count))\n",
    "    print('图集 %s 抓取完成' %pic_id)\n",
    "\n",
    "def main_spider(title, pic_id, page_count, save_path):\n",
    "#     save_path = kwargs['save_path']\n",
    "    if os.path.isdir(save_path):\n",
    "        title = str(pic_id) + '_' + title\n",
    "        save_path = os.path.join(save_path, title)\n",
    "        if not os.path.exists(save_path):\n",
    "            os.mkdir(save_path)\n",
    "            download(pic_id, page_count, save_path)"
   ]
  },
  {
   "cell_type": "markdown",
   "metadata": {},
   "source": [
    "### 从mysql中导入数据"
   ]
  },
  {
   "cell_type": "code",
   "execution_count": 5,
   "metadata": {},
   "outputs": [],
   "source": [
    "import MySQLdb\n",
    "import pandas as pd"
   ]
  },
  {
   "cell_type": "code",
   "execution_count": 6,
   "metadata": {},
   "outputs": [],
   "source": [
    "conn = MySQLdb.connect(\n",
    "    host='127.0.0.1', \n",
    "    port=3306, \n",
    "    user='root', \n",
    "    password='00genius00', \n",
    "    database='mzitu', \n",
    "    charset='utf8', \n",
    ")\n",
    "cursor = conn.cursor()"
   ]
  },
  {
   "cell_type": "code",
   "execution_count": 7,
   "metadata": {},
   "outputs": [],
   "source": [
    "query = \"SELECT * FROM photo_album\"\n",
    "data = pd.read_sql_query(query, conn)\n",
    "data = pd.DataFrame(data)"
   ]
  },
  {
   "cell_type": "code",
   "execution_count": 31,
   "metadata": {},
   "outputs": [
    {
     "data": {
      "text/html": [
       "<div>\n",
       "<style scoped>\n",
       "    .dataframe tbody tr th:only-of-type {\n",
       "        vertical-align: middle;\n",
       "    }\n",
       "\n",
       "    .dataframe tbody tr th {\n",
       "        vertical-align: top;\n",
       "    }\n",
       "\n",
       "    .dataframe thead th {\n",
       "        text-align: right;\n",
       "    }\n",
       "</style>\n",
       "<table border=\"1\" class=\"dataframe\">\n",
       "  <thead>\n",
       "    <tr style=\"text-align: right;\">\n",
       "      <th></th>\n",
       "      <th>pic_id</th>\n",
       "      <th>title</th>\n",
       "      <th>category_tag</th>\n",
       "      <th>upload_time</th>\n",
       "      <th>clicks</th>\n",
       "      <th>labels</th>\n",
       "      <th>page_count</th>\n",
       "    </tr>\n",
       "  </thead>\n",
       "  <tbody>\n",
       "    <tr>\n",
       "      <th>0</th>\n",
       "      <td>1</td>\n",
       "      <td>千夜未来萌兔私房照首发</td>\n",
       "      <td>清纯妹子</td>\n",
       "      <td>2013-06-08 05:25:00</td>\n",
       "      <td>135231</td>\n",
       "      <td>制服诱惑,小清新,蕾丝</td>\n",
       "      <td>14</td>\n",
       "    </tr>\n",
       "    <tr>\n",
       "      <th>1</th>\n",
       "      <td>38</td>\n",
       "      <td>樱井莉亚</td>\n",
       "      <td>日本妹子</td>\n",
       "      <td>2013-06-08 16:13:00</td>\n",
       "      <td>258737</td>\n",
       "      <td>性感美女</td>\n",
       "      <td>16</td>\n",
       "    </tr>\n",
       "    <tr>\n",
       "      <th>2</th>\n",
       "      <td>56</td>\n",
       "      <td>星名美津纪 学生制服</td>\n",
       "      <td>日本妹子</td>\n",
       "      <td>2013-06-08 16:18:00</td>\n",
       "      <td>297519</td>\n",
       "      <td>制服诱惑,小清新,校花</td>\n",
       "      <td>10</td>\n",
       "    </tr>\n",
       "    <tr>\n",
       "      <th>3</th>\n",
       "      <td>68</td>\n",
       "      <td>深V美女床上惹火诱惑</td>\n",
       "      <td>性感妹子</td>\n",
       "      <td>2013-06-08 16:21:00</td>\n",
       "      <td>413772</td>\n",
       "      <td>性感美女,爆乳(胸器),蕾丝,诱惑</td>\n",
       "      <td>11</td>\n",
       "    </tr>\n",
       "    <tr>\n",
       "      <th>4</th>\n",
       "      <td>82</td>\n",
       "      <td>林筱诺alin写真</td>\n",
       "      <td>性感妹子</td>\n",
       "      <td>2013-06-08 16:25:00</td>\n",
       "      <td>208019</td>\n",
       "      <td>性感美女,林筱诺,比基尼,美腿,齐B小短裙</td>\n",
       "      <td>30</td>\n",
       "    </tr>\n",
       "  </tbody>\n",
       "</table>\n",
       "</div>"
      ],
      "text/plain": [
       "   pic_id        title category_tag         upload_time  clicks  \\\n",
       "0       1  千夜未来萌兔私房照首发         清纯妹子 2013-06-08 05:25:00  135231   \n",
       "1      38         樱井莉亚         日本妹子 2013-06-08 16:13:00  258737   \n",
       "2      56   星名美津纪 学生制服         日本妹子 2013-06-08 16:18:00  297519   \n",
       "3      68   深V美女床上惹火诱惑         性感妹子 2013-06-08 16:21:00  413772   \n",
       "4      82    林筱诺alin写真         性感妹子 2013-06-08 16:25:00  208019   \n",
       "\n",
       "                  labels  page_count  \n",
       "0            制服诱惑,小清新,蕾丝          14  \n",
       "1                   性感美女          16  \n",
       "2            制服诱惑,小清新,校花          10  \n",
       "3      性感美女,爆乳(胸器),蕾丝,诱惑          11  \n",
       "4  性感美女,林筱诺,比基尼,美腿,齐B小短裙          30  "
      ]
     },
     "execution_count": 31,
     "metadata": {},
     "output_type": "execute_result"
    }
   ],
   "source": [
    "data.head()"
   ]
  },
  {
   "cell_type": "code",
   "execution_count": 40,
   "metadata": {},
   "outputs": [
    {
     "name": "stdout",
     "output_type": "stream",
     "text": [
      "开始抓取图集 1\n",
      "完成: 1/14\n",
      "完成: 2/14\n",
      "完成: 3/14\n",
      "完成: 4/14\n",
      "完成: 5/14\n",
      "完成: 6/14\n",
      "完成: 7/14\n",
      "完成: 8/14\n",
      "完成: 9/14\n",
      "完成: 10/14\n",
      "完成: 11/14\n",
      "完成: 12/14\n",
      "完成: 13/14\n",
      "完成: 14/14\n",
      "图集 1 抓取完成\n",
      "开始抓取图集 38\n",
      "完成: 1/16\n",
      "完成: 2/16\n",
      "完成: 3/16\n",
      "完成: 4/16\n",
      "完成: 5/16\n",
      "完成: 6/16\n",
      "完成: 7/16\n",
      "完成: 8/16\n"
     ]
    },
    {
     "ename": "KeyboardInterrupt",
     "evalue": "",
     "output_type": "error",
     "traceback": [
      "\u001b[0;31m---------------------------------------------------------------------------\u001b[0m",
      "\u001b[0;31mKeyboardInterrupt\u001b[0m                         Traceback (most recent call last)",
      "\u001b[0;32m<ipython-input-40-4bede156931f>\u001b[0m in \u001b[0;36m<module>\u001b[0;34m()\u001b[0m\n\u001b[1;32m      1\u001b[0m \u001b[0;32mfor\u001b[0m \u001b[0mi\u001b[0m \u001b[0;32min\u001b[0m \u001b[0mrange\u001b[0m\u001b[0;34m(\u001b[0m\u001b[0;36m50\u001b[0m\u001b[0;34m)\u001b[0m\u001b[0;34m:\u001b[0m\u001b[0;34m\u001b[0m\u001b[0m\n\u001b[1;32m      2\u001b[0m     \u001b[0mtitle\u001b[0m\u001b[0;34m,\u001b[0m \u001b[0mpic_id\u001b[0m\u001b[0;34m,\u001b[0m \u001b[0mpage_count\u001b[0m \u001b[0;34m=\u001b[0m \u001b[0mdata\u001b[0m\u001b[0;34m.\u001b[0m\u001b[0mloc\u001b[0m\u001b[0;34m[\u001b[0m\u001b[0mi\u001b[0m\u001b[0;34m,\u001b[0m \u001b[0;34m[\u001b[0m\u001b[0;34m'title'\u001b[0m\u001b[0;34m,\u001b[0m \u001b[0;34m'pic_id'\u001b[0m\u001b[0;34m,\u001b[0m \u001b[0;34m'page_count'\u001b[0m\u001b[0;34m]\u001b[0m\u001b[0;34m]\u001b[0m\u001b[0;34m\u001b[0m\u001b[0m\n\u001b[0;32m----> 3\u001b[0;31m     \u001b[0mmain_spider\u001b[0m\u001b[0;34m(\u001b[0m\u001b[0mtitle\u001b[0m\u001b[0;34m,\u001b[0m \u001b[0mpic_id\u001b[0m\u001b[0;34m,\u001b[0m \u001b[0mpage_count\u001b[0m\u001b[0;34m,\u001b[0m \u001b[0;34m'/home/ydzhang/spider_download/'\u001b[0m\u001b[0;34m)\u001b[0m\u001b[0;34m\u001b[0m\u001b[0m\n\u001b[0m",
      "\u001b[0;32m<ipython-input-39-08d1d374d1f0>\u001b[0m in \u001b[0;36mmain_spider\u001b[0;34m(title, pic_id, page_count, save_path)\u001b[0m\n\u001b[1;32m     26\u001b[0m         \u001b[0;32mif\u001b[0m \u001b[0;32mnot\u001b[0m \u001b[0mos\u001b[0m\u001b[0;34m.\u001b[0m\u001b[0mpath\u001b[0m\u001b[0;34m.\u001b[0m\u001b[0mexists\u001b[0m\u001b[0;34m(\u001b[0m\u001b[0msave_path\u001b[0m\u001b[0;34m)\u001b[0m\u001b[0;34m:\u001b[0m\u001b[0;34m\u001b[0m\u001b[0m\n\u001b[1;32m     27\u001b[0m             \u001b[0mos\u001b[0m\u001b[0;34m.\u001b[0m\u001b[0mmkdir\u001b[0m\u001b[0;34m(\u001b[0m\u001b[0msave_path\u001b[0m\u001b[0;34m)\u001b[0m\u001b[0;34m\u001b[0m\u001b[0m\n\u001b[0;32m---> 28\u001b[0;31m             \u001b[0mdownload\u001b[0m\u001b[0;34m(\u001b[0m\u001b[0mpic_id\u001b[0m\u001b[0;34m,\u001b[0m \u001b[0mpage_count\u001b[0m\u001b[0;34m,\u001b[0m \u001b[0msave_path\u001b[0m\u001b[0;34m)\u001b[0m\u001b[0;34m\u001b[0m\u001b[0m\n\u001b[0m",
      "\u001b[0;32m<ipython-input-39-08d1d374d1f0>\u001b[0m in \u001b[0;36mdownload\u001b[0;34m(pic_id, page_count, save_path)\u001b[0m\n\u001b[1;32m     15\u001b[0m         \u001b[0;32melse\u001b[0m\u001b[0;34m:\u001b[0m\u001b[0;34m\u001b[0m\u001b[0m\n\u001b[1;32m     16\u001b[0m             \u001b[0mimg_url\u001b[0m \u001b[0;34m=\u001b[0m \u001b[0mfirst_img_url\u001b[0m\u001b[0;34m.\u001b[0m\u001b[0mreplace\u001b[0m\u001b[0;34m(\u001b[0m\u001b[0;34m'01.jpg'\u001b[0m\u001b[0;34m,\u001b[0m \u001b[0;34m'%d.jpg'\u001b[0m \u001b[0;34m%\u001b[0m\u001b[0mindex\u001b[0m\u001b[0;34m)\u001b[0m\u001b[0;34m\u001b[0m\u001b[0m\n\u001b[0;32m---> 17\u001b[0;31m         \u001b[0msave_image\u001b[0m\u001b[0;34m(\u001b[0m\u001b[0mimg_url\u001b[0m\u001b[0;34m,\u001b[0m \u001b[0mindex\u001b[0m\u001b[0;34m,\u001b[0m \u001b[0msave_path\u001b[0m\u001b[0;34m)\u001b[0m\u001b[0;34m\u001b[0m\u001b[0m\n\u001b[0m\u001b[1;32m     18\u001b[0m         \u001b[0mprint\u001b[0m\u001b[0;34m(\u001b[0m\u001b[0;34m'完成: %s/%s'\u001b[0m \u001b[0;34m%\u001b[0m\u001b[0;34m(\u001b[0m\u001b[0mindex\u001b[0m\u001b[0;34m,\u001b[0m \u001b[0mpage_count\u001b[0m\u001b[0;34m)\u001b[0m\u001b[0;34m)\u001b[0m\u001b[0;34m\u001b[0m\u001b[0m\n\u001b[1;32m     19\u001b[0m     \u001b[0mprint\u001b[0m\u001b[0;34m(\u001b[0m\u001b[0;34m'图集 %s 抓取完成'\u001b[0m \u001b[0;34m%\u001b[0m\u001b[0mpic_id\u001b[0m\u001b[0;34m)\u001b[0m\u001b[0;34m\u001b[0m\u001b[0m\n",
      "\u001b[0;32m<ipython-input-39-08d1d374d1f0>\u001b[0m in \u001b[0;36msave_image\u001b[0;34m(img_url, order, save_path)\u001b[0m\n\u001b[1;32m      3\u001b[0m     \u001b[0;32mwith\u001b[0m \u001b[0mopen\u001b[0m\u001b[0;34m(\u001b[0m\u001b[0mos\u001b[0m\u001b[0;34m.\u001b[0m\u001b[0mpath\u001b[0m\u001b[0;34m.\u001b[0m\u001b[0mjoin\u001b[0m\u001b[0;34m(\u001b[0m\u001b[0msave_path\u001b[0m\u001b[0;34m,\u001b[0m \u001b[0;34m'%d.jpg'\u001b[0m \u001b[0;34m%\u001b[0m\u001b[0morder\u001b[0m\u001b[0;34m)\u001b[0m\u001b[0;34m,\u001b[0m \u001b[0;34m'ab'\u001b[0m\u001b[0;34m)\u001b[0m \u001b[0;32mas\u001b[0m \u001b[0mf\u001b[0m\u001b[0;34m:\u001b[0m\u001b[0;34m\u001b[0m\u001b[0m\n\u001b[1;32m      4\u001b[0m         \u001b[0mf\u001b[0m\u001b[0;34m.\u001b[0m\u001b[0mwrite\u001b[0m\u001b[0;34m(\u001b[0m\u001b[0mimg_response\u001b[0m\u001b[0;34m.\u001b[0m\u001b[0mcontent\u001b[0m\u001b[0;34m)\u001b[0m\u001b[0;34m\u001b[0m\u001b[0m\n\u001b[0;32m----> 5\u001b[0;31m     \u001b[0msleep\u001b[0m\u001b[0;34m(\u001b[0m\u001b[0;36m1\u001b[0m\u001b[0;34m)\u001b[0m\u001b[0;34m\u001b[0m\u001b[0m\n\u001b[0m\u001b[1;32m      6\u001b[0m \u001b[0;34m\u001b[0m\u001b[0m\n\u001b[1;32m      7\u001b[0m \u001b[0;32mdef\u001b[0m \u001b[0mdownload\u001b[0m\u001b[0;34m(\u001b[0m\u001b[0mpic_id\u001b[0m\u001b[0;34m,\u001b[0m \u001b[0mpage_count\u001b[0m\u001b[0;34m,\u001b[0m \u001b[0msave_path\u001b[0m\u001b[0;34m)\u001b[0m\u001b[0;34m:\u001b[0m\u001b[0;34m\u001b[0m\u001b[0m\n",
      "\u001b[0;31mKeyboardInterrupt\u001b[0m: "
     ]
    }
   ],
   "source": [
    "for i in range(50):\n",
    "    title, pic_id, page_count = data.loc[i, ['title', 'pic_id', 'page_count']]\n",
    "    main_spider(title, pic_id, page_count, '/home/ydzhang/spider_download/')"
   ]
  }
 ],
 "metadata": {
  "kernelspec": {
   "display_name": "Python 3",
   "language": "python",
   "name": "python3"
  },
  "language_info": {
   "codemirror_mode": {
    "name": "ipython",
    "version": 3
   },
   "file_extension": ".py",
   "mimetype": "text/x-python",
   "name": "python",
   "nbconvert_exporter": "python",
   "pygments_lexer": "ipython3",
   "version": "3.6.4"
  }
 },
 "nbformat": 4,
 "nbformat_minor": 2
}
