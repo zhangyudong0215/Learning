{
 "cells": [
  {
   "cell_type": "code",
   "execution_count": 84,
   "metadata": {},
   "outputs": [],
   "source": [
    "from requests_html import HTMLSession\n",
    "import requests\n",
    "import regex as re\n",
    "import functools\n",
    "import argparse\n",
    "import os"
   ]
  },
  {
   "cell_type": "code",
   "execution_count": 4,
   "metadata": {},
   "outputs": [],
   "source": [
    "session = HTMLSession()"
   ]
  },
  {
   "cell_type": "code",
   "execution_count": 5,
   "metadata": {},
   "outputs": [],
   "source": [
    "start_url = 'http://www.mzitu.com/all/'"
   ]
  },
  {
   "cell_type": "code",
   "execution_count": 6,
   "metadata": {},
   "outputs": [],
   "source": [
    "response = session.get(url)"
   ]
  },
  {
   "cell_type": "code",
   "execution_count": 8,
   "metadata": {},
   "outputs": [],
   "source": [
    "urls = response.html.absolute_links"
   ]
  },
  {
   "cell_type": "code",
   "execution_count": 9,
   "metadata": {},
   "outputs": [
    {
     "data": {
      "text/plain": [
       "2765"
      ]
     },
     "execution_count": 9,
     "metadata": {},
     "output_type": "execute_result"
    }
   ],
   "source": [
    "len(urls)"
   ]
  },
  {
   "cell_type": "code",
   "execution_count": 80,
   "metadata": {},
   "outputs": [],
   "source": [
    "pattern = re.compile('http:\\/\\/www\\.mzitu\\.com\\/\\d{1,6}')"
   ]
  },
  {
   "cell_type": "code",
   "execution_count": 82,
   "metadata": {},
   "outputs": [],
   "source": [
    "links = []\n",
    "for url in urls:\n",
    "    res = pattern.match(url)\n",
    "    if pattern.match(url):\n",
    "        links.append(url)"
   ]
  },
  {
   "cell_type": "code",
   "execution_count": 141,
   "metadata": {},
   "outputs": [],
   "source": [
    "url = 'http://www.mzitu.com/125459'"
   ]
  },
  {
   "cell_type": "code",
   "execution_count": 153,
   "metadata": {},
   "outputs": [],
   "source": [
    "res = session.get(url)"
   ]
  },
  {
   "cell_type": "code",
   "execution_count": 155,
   "metadata": {},
   "outputs": [],
   "source": [
    "def get_details(res):\n",
    "    # 唯一标识 id\n",
    "    pic_id = int(url.split('/')[-1])\n",
    "    # 标题\n",
    "    title = res.html.find('h2.main-title', first=True).text\n",
    "    tag = res.html.find('div.main-meta', first=True).find('span')\n",
    "    # 分类标签\n",
    "    category_tag = tag[0].find('a')[0].text\n",
    "    # 上传时间\n",
    "    upload_time = ':'.join([tag[1].text.replace('发布于', '').strip(), '00']) # 末尾添加':00'匹配mongodb时间格式\n",
    "    # 浏览次数\n",
    "    clicks = int(''.join([i for i in tag[2].text if i in string.digits]))\n",
    "    tag = res.html.find('div.main-tags', first=True).find('a')\n",
    "    # 相关专题\n",
    "    labels = ','.join([i.text for i in tag])\n",
    "    # 图片数量\n",
    "    page_count = int(res.html.find('div.pagenavi', first=True).find('a')[-2].text)\n",
    "    return pic_id, title, category_tag, upload_time, clicks, labels, page_count"
   ]
  },
  {
   "cell_type": "code",
   "execution_count": 157,
   "metadata": {},
   "outputs": [
    {
     "data": {
      "text/plain": [
       "(125459,\n",
       " '双飞姐妹花夏美酱和柳侑绮',\n",
       " '性感妹子',\n",
       " '2018-03-16 20:40:00',\n",
       " 1825709,\n",
       " 'BoLoli(波萝社),夏美酱,柳侑绮,诱惑',\n",
       " 50)"
      ]
     },
     "execution_count": 157,
     "metadata": {},
     "output_type": "execute_result"
    }
   ],
   "source": [
    "get_details(res)"
   ]
  }
 ],
 "metadata": {
  "kernelspec": {
   "display_name": "Python 3",
   "language": "python",
   "name": "python3"
  },
  "language_info": {
   "codemirror_mode": {
    "name": "ipython",
    "version": 3
   },
   "file_extension": ".py",
   "mimetype": "text/x-python",
   "name": "python",
   "nbconvert_exporter": "python",
   "pygments_lexer": "ipython3",
   "version": "3.6.1"
  }
 },
 "nbformat": 4,
 "nbformat_minor": 2
}
