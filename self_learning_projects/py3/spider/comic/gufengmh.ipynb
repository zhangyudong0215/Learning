{
 "cells": [
  {
   "cell_type": "markdown",
   "metadata": {},
   "source": [
    "# requirements"
   ]
  },
  {
   "cell_type": "code",
   "execution_count": 1,
   "metadata": {},
   "outputs": [],
   "source": [
    "import pandas as pd\n",
    "import numpy as np\n",
    "import requests_html\n",
    "from requests_html import HTMLSession\n",
    "import os\n",
    "import regex as re\n",
    "import requests\n",
    "from xpinyin import Pinyin\n",
    "from time import sleep"
   ]
  },
  {
   "cell_type": "code",
   "execution_count": 2,
   "metadata": {},
   "outputs": [],
   "source": [
    "session = HTMLSession()\n",
    "pinyin = Pinyin()"
   ]
  },
  {
   "cell_type": "code",
   "execution_count": 3,
   "metadata": {},
   "outputs": [],
   "source": [
    "headers = {\n",
    "    'user-agent': 'Mozilla/5.0 (X11; Ubuntu; Linux x86_64; rv:54.0) Gecko/20100101 Firefox/54.0',\n",
    "    'accept': 'text/html, application/xhtml+xml, application/xml; q=0.9, image/webp, */*; q=0.8',\n",
    "    'referer': 'http://www.gufengmh.com/manhua/'\n",
    "}"
   ]
  },
  {
   "cell_type": "code",
   "execution_count": 4,
   "metadata": {},
   "outputs": [],
   "source": [
    "# image names\n",
    "pattern_chapterImagesList = re.compile('var chapterImages = \\[\"(.+?)\"\\]')\n",
    "# chapter url\n",
    "pattern_chapterPath = re.compile('var chapterPath = \"(.+?)\"')\n",
    "# chapter title\n",
    "pattern_title = re.compile('var pageTitle = \"(.+?)\"')"
   ]
  },
  {
   "cell_type": "markdown",
   "metadata": {},
   "source": [
    "## get the catalogs\n",
    "+ **chapter_urls** (所有章节的url)"
   ]
  },
  {
   "cell_type": "code",
   "execution_count": 5,
   "metadata": {},
   "outputs": [],
   "source": [
    "def get_the_chapter_urls(comic_name):\n",
    "    main_url = 'http://www.gufengmh.com/manhua/'\n",
    "    pattern_catalog = re.compile('/manhua/' + comic_name + '/\\d+.html')\n",
    "    catalog_url = os.path.join(main_url, comic_name)\n",
    "    res = session.get(catalog_url)\n",
    "    chapter_urls = []\n",
    "    for url in res.html.links:\n",
    "        if pattern_catalog.match(url):\n",
    "            chapter_urls.append('http://www.gufengmh.com'+url)\n",
    "    return chapter_urls"
   ]
  },
  {
   "cell_type": "markdown",
   "metadata": {},
   "source": [
    "## get the first chapter"
   ]
  },
  {
   "cell_type": "code",
   "execution_count": 6,
   "metadata": {},
   "outputs": [],
   "source": [
    "def get_chapter_details(chapter_url):\n",
    "    res = session.get(chapter_url)\n",
    "\n",
    "    # get the chapterPath\n",
    "    temp_chapterPath = pattern_chapterPath.search(res.text)\n",
    "    chapterPath = temp_chapterPath.group(1)\n",
    "    print(chapterPath)\n",
    "\n",
    "    # get the chapterImages urls\n",
    "    temp_chapterImagesList = pattern_chapterImagesList.search(res.text)\n",
    "    chapterImagesList_abbr = temp_chapterImagesList.group(1).split('\",\"')\n",
    "    chapterImagesList = []\n",
    "    for i in chapterImagesList_abbr:\n",
    "        chapterImagesList.append('http://res.gufengmh.com/'+chapterPath+i)\n",
    "\n",
    "    # get the chapterTitle\n",
    "    temp_chapterTitle = pattern_title.search(res.html.full_text)\n",
    "    chapterTitle = temp_chapterTitle.group(1)\n",
    "    chapterTitle = chapterTitle.replace('在线观看', '')\n",
    "    \n",
    "    return chapterImagesList, chapterTitle"
   ]
  },
  {
   "cell_type": "code",
   "execution_count": 7,
   "metadata": {},
   "outputs": [],
   "source": [
    "def download(img_url, img_name):\n",
    "    sleep(1)\n",
    "    img = session.get(img_url, headers=headers)\n",
    "    with open(img_name+'.jpg', 'ab') as f:\n",
    "        f.write(img.content)"
   ]
  },
  {
   "cell_type": "code",
   "execution_count": 9,
   "metadata": {},
   "outputs": [],
   "source": [
    "def download_chapter(chapterImagesList, file_path):\n",
    "    sleep(10)\n",
    "    if not os.path.isdir(file_path):\n",
    "        os.mkdir(file_path)\n",
    "    for index, img_url in enumerate(chapterImagesList):\n",
    "        print(img_url)\n",
    "        download(img_url, os.path.join(file_path, str(index)))"
   ]
  },
  {
   "cell_type": "markdown",
   "metadata": {},
   "source": [
    "## main"
   ]
  },
  {
   "cell_type": "code",
   "execution_count": 10,
   "metadata": {},
   "outputs": [],
   "source": [
    "def main(comic_name_chn, comic_file_path):\n",
    "    comic_file_path = os.path.join(comic_file_path, comic_name_chn)\n",
    "    if not os.path.isdir(comic_file_path):\n",
    "        os.mkdir(comic_file_path)\n",
    "    comic_name = pinyin.get_pinyin(comic_name_chn, '')\n",
    "    chapter_urls = get_the_chapter_urls(comic_name)\n",
    "    for chapter_url in chapter_urls:\n",
    "        chapterImagesList, chapterTitle = get_chapter_details(chapter_url)\n",
    "        chapter_file_path = os.path.join(comic_file_path, chapterTitle)\n",
    "        download_chapter(chapterImagesList, chapter_file_path)"
   ]
  },
  {
   "cell_type": "code",
   "execution_count": 12,
   "metadata": {},
   "outputs": [],
   "source": [
    "main('爆炸头武士', 'D:\\\\zhangyudong\\\\Netease-US\\\\comic_spider')"
   ]
  },
  {
   "cell_type": "markdown",
   "metadata": {},
   "source": [
    "# testing\n",
    "+ 存在一个问题, 爬下来的漫画部分chapter的图片显示\"格式不支持\""
   ]
  },
  {
   "cell_type": "code",
   "execution_count": 13,
   "metadata": {},
   "outputs": [],
   "source": [
    "main('爆炸头武士', 'D:\\\\zhangyudong\\\\Netease-US\\\\comic_spider')"
   ]
  }
 ],
 "metadata": {
  "kernelspec": {
   "display_name": "Python 3",
   "language": "python",
   "name": "python3"
  },
  "language_info": {
   "codemirror_mode": {
    "name": "ipython",
    "version": 3
   },
   "file_extension": ".py",
   "mimetype": "text/x-python",
   "name": "python",
   "nbconvert_exporter": "python",
   "pygments_lexer": "ipython3",
   "version": "3.6.4"
  }
 },
 "nbformat": 4,
 "nbformat_minor": 2
}
