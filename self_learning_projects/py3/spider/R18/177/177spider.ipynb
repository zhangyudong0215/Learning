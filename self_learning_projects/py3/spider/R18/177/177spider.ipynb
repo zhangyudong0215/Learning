{
 "cells": [
  {
   "cell_type": "code",
   "execution_count": 7,
   "metadata": {},
   "outputs": [],
   "source": [
    "from requests_html import HTMLSession\n",
    "import requests\n",
    "import time\n",
    "import regex as re\n",
    "import functools\n",
    "import requests"
   ]
  },
  {
   "cell_type": "code",
   "execution_count": 78,
   "metadata": {},
   "outputs": [],
   "source": [
    "session = HTMLSession()\n",
    "url = 'http://www.177pic.info/html/2020/08/3773166.html'\n",
    "pattern = re.compile(url + '/(\\d+)')\n",
    "responses = []"
   ]
  },
  {
   "cell_type": "markdown",
   "metadata": {},
   "source": [
    "### 以上已抓取到所有需要的网页信息, 储存在responses里面"
   ]
  },
  {
   "cell_type": "code",
   "execution_count": 79,
   "metadata": {},
   "outputs": [],
   "source": [
    "def get_max_page():\n",
    "    responses.append(session.get(url))\n",
    "    pages = []\n",
    "    for item in responses[0].html.absolute_links:\n",
    "        res = pattern.match(item)\n",
    "        if res:\n",
    "            pages.append(res.group(1))\n",
    "    return max(map(int, pages))"
   ]
  },
  {
   "cell_type": "code",
   "execution_count": 80,
   "metadata": {},
   "outputs": [],
   "source": [
    "max_page = get_max_page()"
   ]
  },
  {
   "cell_type": "code",
   "execution_count": 81,
   "metadata": {},
   "outputs": [
    {
     "data": {
      "text/plain": [
       "21"
      ]
     },
     "execution_count": 81,
     "metadata": {},
     "output_type": "execute_result"
    }
   ],
   "source": [
    "max_page"
   ]
  },
  {
   "cell_type": "code",
   "execution_count": 82,
   "metadata": {},
   "outputs": [],
   "source": [
    "for index in range(2, max_page+1):\n",
    "    responses.append(session.get(url+'/'+str(index)))"
   ]
  },
  {
   "cell_type": "markdown",
   "metadata": {},
   "source": [
    "### 获得所有imgs的链接"
   ]
  },
  {
   "cell_type": "code",
   "execution_count": 94,
   "metadata": {},
   "outputs": [],
   "source": [
    "def get_page_imgs(response):\n",
    "    imgs = []\n",
    "    content = response.html.find('div.single-content', first=True)\n",
    "    pics = content.find('p')\n",
    "    for pic in pics:\n",
    "        try:\n",
    "            imgs.append(pic.find('img', first=True).attrs['data-lazy-src'])\n",
    "        except:\n",
    "            pass\n",
    "    return imgs"
   ]
  },
  {
   "cell_type": "code",
   "execution_count": 95,
   "metadata": {},
   "outputs": [],
   "source": [
    "def merge(list1, list2):\n",
    "    list1.extend(list2)\n",
    "    return list1"
   ]
  },
  {
   "cell_type": "code",
   "execution_count": 98,
   "metadata": {},
   "outputs": [],
   "source": [
    "imgs = functools.reduce(merge, map(get_page_imgs, responses))"
   ]
  },
  {
   "cell_type": "markdown",
   "metadata": {},
   "source": [
    "### 抓取图片到本地"
   ]
  },
  {
   "cell_type": "code",
   "execution_count": 100,
   "metadata": {},
   "outputs": [],
   "source": [
    "def save_image(img_url, order):\n",
    "    img_response = requests.get(img_url)\n",
    "    with open('E:/ZYD/spider/177test/%d.jpg' %order, 'ab') as f:\n",
    "        f.write(img_response.content)"
   ]
  },
  {
   "cell_type": "code",
   "execution_count": 101,
   "metadata": {},
   "outputs": [],
   "source": [
    "def download():\n",
    "    for index, img_url in enumerate(imgs):\n",
    "        print(img_url)\n",
    "        save_image(img_url, index+1)"
   ]
  },
  {
   "cell_type": "code",
   "execution_count": 102,
   "metadata": {},
   "outputs": [
    {
     "name": "stdout",
     "output_type": "stream",
     "text": [
      "http://img.177pic.info/uploads/2020/07a/a001-298.jpg\n",
      "http://img.177pic.info/uploads/2020/07a/a002-298.jpg\n",
      "http://img.177pic.info/uploads/2020/07a/a003-298.jpg\n",
      "http://img.177pic.info/uploads/2020/07a/a004-298.jpg\n",
      "http://img.177pic.info/uploads/2020/07a/a005-298.jpg\n",
      "http://img.177pic.info/uploads/2020/07a/a006-298.jpg\n",
      "http://img.177pic.info/uploads/2020/07a/a007-298.jpg\n",
      "http://img.177pic.info/uploads/2020/07a/a008-298.jpg\n",
      "http://img.177pic.info/uploads/2020/07a/a009-298.jpg\n",
      "http://img.177pic.info/uploads/2020/07a/a010-298.jpg\n",
      "http://img.177pic.info/uploads/2020/07a/a011-298.jpg\n",
      "http://img.177pic.info/uploads/2020/07a/a012-298.jpg\n",
      "http://img.177pic.info/uploads/2020/07a/a013-298.jpg\n",
      "http://img.177pic.info/uploads/2020/07a/a014-298.jpg\n",
      "http://img.177pic.info/uploads/2020/07a/a015-298.jpg\n",
      "http://img.177pic.info/uploads/2020/07a/a016-298.jpg\n",
      "http://img.177pic.info/uploads/2020/07a/a017-298.jpg\n",
      "http://img.177pic.info/uploads/2020/07a/a018-298.jpg\n",
      "http://img.177pic.info/uploads/2020/07a/a019-298.jpg\n",
      "http://img.177pic.info/uploads/2020/07a/a020-298.jpg\n",
      "http://img.177pic.info/uploads/2020/07a/a021-298.jpg\n",
      "http://img.177pic.info/uploads/2020/07a/a022-298.jpg\n",
      "http://img.177pic.info/uploads/2020/07a/a023-298.jpg\n",
      "http://img.177pic.info/uploads/2020/07a/a024-298.jpg\n",
      "http://img.177pic.info/uploads/2020/07a/a025-298.jpg\n",
      "http://img.177pic.info/uploads/2020/07a/a026-298.jpg\n",
      "http://img.177pic.info/uploads/2020/07a/a027-298.jpg\n",
      "http://img.177pic.info/uploads/2020/07a/a028-298.jpg\n",
      "http://img.177pic.info/uploads/2020/07a/a029-298.jpg\n",
      "http://img.177pic.info/uploads/2020/07a/a030-298.jpg\n",
      "http://img.177pic.info/uploads/2020/07a/a031-298.jpg\n",
      "http://img.177pic.info/uploads/2020/07a/a032-297.jpg\n",
      "http://img.177pic.info/uploads/2020/07a/a033-297.jpg\n",
      "http://img.177pic.info/uploads/2020/07a/a034-297.jpg\n",
      "http://img.177pic.info/uploads/2020/07a/a035-293.jpg\n",
      "http://img.177pic.info/uploads/2020/07a/a036-292.jpg\n",
      "http://img.177pic.info/uploads/2020/07a/a037-292.jpg\n",
      "http://img.177pic.info/uploads/2020/07a/a038-291.jpg\n",
      "http://img.177pic.info/uploads/2020/07a/a039-291.jpg\n",
      "http://img.177pic.info/uploads/2020/07a/a040-291.jpg\n",
      "http://img.177pic.info/uploads/2020/07a/a041-290.jpg\n",
      "http://img.177pic.info/uploads/2020/07a/a042-289.jpg\n",
      "http://img.177pic.info/uploads/2020/07a/a043-289.jpg\n",
      "http://img.177pic.info/uploads/2020/07a/a044-288.jpg\n",
      "http://img.177pic.info/uploads/2020/07a/a045-288.jpg\n",
      "http://img.177pic.info/uploads/2020/07a/a046-287.jpg\n",
      "http://img.177pic.info/uploads/2020/07a/a047-285.jpg\n",
      "http://img.177pic.info/uploads/2020/07a/a048-284.jpg\n",
      "http://img.177pic.info/uploads/2020/07a/a049-284.jpg\n",
      "http://img.177pic.info/uploads/2020/07a/a050-282.jpg\n",
      "http://img.177pic.info/uploads/2020/07a/a051-281.jpg\n",
      "http://img.177pic.info/uploads/2020/07a/a052-280.jpg\n",
      "http://img.177pic.info/uploads/2020/07a/a053-277.jpg\n",
      "http://img.177pic.info/uploads/2020/07a/a054-276.jpg\n",
      "http://img.177pic.info/uploads/2020/07a/a055-275.jpg\n",
      "http://img.177pic.info/uploads/2020/07a/a056-273.jpg\n",
      "http://img.177pic.info/uploads/2020/07a/a057-272.jpg\n",
      "http://img.177pic.info/uploads/2020/07a/a058-271.jpg\n",
      "http://img.177pic.info/uploads/2020/07a/a059-267.jpg\n",
      "http://img.177pic.info/uploads/2020/07a/a060-267.jpg\n",
      "http://img.177pic.info/uploads/2020/07a/a061-267.jpg\n",
      "http://img.177pic.info/uploads/2020/07a/a062-266.jpg\n",
      "http://img.177pic.info/uploads/2020/07a/a063-266.jpg\n",
      "http://img.177pic.info/uploads/2020/07a/a064-265.jpg\n",
      "http://img.177pic.info/uploads/2020/07a/a065-263.jpg\n",
      "http://img.177pic.info/uploads/2020/07a/a066-259.jpg\n",
      "http://img.177pic.info/uploads/2020/07a/a067-259.jpg\n",
      "http://img.177pic.info/uploads/2020/07a/a068-259.jpg\n",
      "http://img.177pic.info/uploads/2020/07a/a069-257.jpg\n",
      "http://img.177pic.info/uploads/2020/07a/a070-256.jpg\n",
      "http://img.177pic.info/uploads/2020/07a/a071-255.jpg\n",
      "http://img.177pic.info/uploads/2020/07a/a072-253.jpg\n",
      "http://img.177pic.info/uploads/2020/07a/a073-253.jpg\n",
      "http://img.177pic.info/uploads/2020/07a/a074-252.jpg\n",
      "http://img.177pic.info/uploads/2020/07a/a075-250.jpg\n",
      "http://img.177pic.info/uploads/2020/07a/a076-250.jpg\n",
      "http://img.177pic.info/uploads/2020/07a/a077-249.jpg\n",
      "http://img.177pic.info/uploads/2020/07a/a078-248.jpg\n",
      "http://img.177pic.info/uploads/2020/07a/a079-248.jpg\n",
      "http://img.177pic.info/uploads/2020/07a/a080-247.jpg\n",
      "http://img.177pic.info/uploads/2020/07a/a081-246.jpg\n",
      "http://img.177pic.info/uploads/2020/07a/a082-245.jpg\n",
      "http://img.177pic.info/uploads/2020/07a/a083-243.jpg\n",
      "http://img.177pic.info/uploads/2020/07a/a084-241.jpg\n",
      "http://img.177pic.info/uploads/2020/07a/a085-241.jpg\n",
      "http://img.177pic.info/uploads/2020/07a/a086-239.jpg\n",
      "http://img.177pic.info/uploads/2020/07a/a087-236.jpg\n",
      "http://img.177pic.info/uploads/2020/07a/a088-236.jpg\n",
      "http://img.177pic.info/uploads/2020/07a/a089-235.jpg\n",
      "http://img.177pic.info/uploads/2020/07a/a090-232.jpg\n",
      "http://img.177pic.info/uploads/2020/07a/a091-228.jpg\n",
      "http://img.177pic.info/uploads/2020/07a/a092-226.jpg\n",
      "http://img.177pic.info/uploads/2020/07a/a093-225.jpg\n",
      "http://img.177pic.info/uploads/2020/07a/a094-225.jpg\n",
      "http://img.177pic.info/uploads/2020/07a/a095-224.jpg\n",
      "http://img.177pic.info/uploads/2020/07a/a096-223.jpg\n",
      "http://img.177pic.info/uploads/2020/07a/a097-223.jpg\n",
      "http://img.177pic.info/uploads/2020/07a/a098-222.jpg\n",
      "http://img.177pic.info/uploads/2020/07a/a099-221.jpg\n",
      "http://img.177pic.info/uploads/2020/07a/a100-220.jpg\n",
      "http://img.177pic.info/uploads/2020/07a/a101-219.jpg\n",
      "http://img.177pic.info/uploads/2020/07a/a102-219.jpg\n",
      "http://img.177pic.info/uploads/2020/07a/a103-218.jpg\n",
      "http://img.177pic.info/uploads/2020/07a/a104-217.jpg\n",
      "http://img.177pic.info/uploads/2020/07a/a105-216.jpg\n",
      "http://img.177pic.info/uploads/2020/07a/a106-215.jpg\n",
      "http://img.177pic.info/uploads/2020/07a/a107-215.jpg\n",
      "http://img.177pic.info/uploads/2020/07a/a108-211.jpg\n",
      "http://img.177pic.info/uploads/2020/07a/a109-211.jpg\n",
      "http://img.177pic.info/uploads/2020/07a/a110-209.jpg\n",
      "http://img.177pic.info/uploads/2020/07a/a111-209.jpg\n",
      "http://img.177pic.info/uploads/2020/07a/a112-208.jpg\n",
      "http://img.177pic.info/uploads/2020/07a/a113-207.jpg\n",
      "http://img.177pic.info/uploads/2020/07a/a114-203.jpg\n",
      "http://img.177pic.info/uploads/2020/07a/a115-203.jpg\n",
      "http://img.177pic.info/uploads/2020/07a/a116-201.jpg\n",
      "http://img.177pic.info/uploads/2020/07a/a117-201.jpg\n",
      "http://img.177pic.info/uploads/2020/07a/a118-200.jpg\n",
      "http://img.177pic.info/uploads/2020/07a/a119-199.jpg\n",
      "http://img.177pic.info/uploads/2020/07a/a120-199.jpg\n",
      "http://img.177pic.info/uploads/2020/07a/a121-199.jpg\n",
      "http://img.177pic.info/uploads/2020/07a/a122-198.jpg\n",
      "http://img.177pic.info/uploads/2020/07a/a123-198.jpg\n",
      "http://img.177pic.info/uploads/2020/07a/a124-198.jpg\n",
      "http://img.177pic.info/uploads/2020/07a/a125-197.jpg\n",
      "http://img.177pic.info/uploads/2020/07a/a126-196.jpg\n",
      "http://img.177pic.info/uploads/2020/07a/a127-196.jpg\n",
      "http://img.177pic.info/uploads/2020/07a/a128-196.jpg\n",
      "http://img.177pic.info/uploads/2020/07a/a129-196.jpg\n",
      "http://img.177pic.info/uploads/2020/07a/a130-195.jpg\n",
      "http://img.177pic.info/uploads/2020/07a/a131-193.jpg\n",
      "http://img.177pic.info/uploads/2020/07a/a132-193.jpg\n",
      "http://img.177pic.info/uploads/2020/07a/a133-192.jpg\n",
      "http://img.177pic.info/uploads/2020/07a/a134-191.jpg\n",
      "http://img.177pic.info/uploads/2020/07a/a135-191.jpg\n",
      "http://img.177pic.info/uploads/2020/07a/a136-190.jpg\n",
      "http://img.177pic.info/uploads/2020/07a/a137-190.jpg\n",
      "http://img.177pic.info/uploads/2020/07a/a138-190.jpg\n",
      "http://img.177pic.info/uploads/2020/07a/a139-188.jpg\n",
      "http://img.177pic.info/uploads/2020/07a/a140-187.jpg\n",
      "http://img.177pic.info/uploads/2020/07a/a141-186.jpg\n",
      "http://img.177pic.info/uploads/2020/07a/a142-186.jpg\n",
      "http://img.177pic.info/uploads/2020/07a/a143-186.jpg\n",
      "http://img.177pic.info/uploads/2020/07a/a144-185.jpg\n",
      "http://img.177pic.info/uploads/2020/07a/a145-185.jpg\n",
      "http://img.177pic.info/uploads/2020/07a/a146-185.jpg\n",
      "http://img.177pic.info/uploads/2020/07a/a147-184.jpg\n",
      "http://img.177pic.info/uploads/2020/07a/a148-184.jpg\n",
      "http://img.177pic.info/uploads/2020/07a/a149-184.jpg\n",
      "http://img.177pic.info/uploads/2020/07a/a150-183.jpg\n",
      "http://img.177pic.info/uploads/2020/07a/a151-182.jpg\n",
      "http://img.177pic.info/uploads/2020/07a/a152-181.jpg\n",
      "http://img.177pic.info/uploads/2020/07a/a153-180.jpg\n",
      "http://img.177pic.info/uploads/2020/07a/a154-180.jpg\n",
      "http://img.177pic.info/uploads/2020/07a/a155-179.jpg\n",
      "http://img.177pic.info/uploads/2020/07a/a156-179.jpg\n",
      "http://img.177pic.info/uploads/2020/07a/a157-178.jpg\n",
      "http://img.177pic.info/uploads/2020/07a/a158-175.jpg\n",
      "http://img.177pic.info/uploads/2020/07a/a159-174.jpg\n",
      "http://img.177pic.info/uploads/2020/07a/a160-174.jpg\n",
      "http://img.177pic.info/uploads/2020/07a/a161-174.jpg\n",
      "http://img.177pic.info/uploads/2020/07a/a162-174.jpg\n",
      "http://img.177pic.info/uploads/2020/07a/a163-174.jpg\n",
      "http://img.177pic.info/uploads/2020/07a/a164-173.jpg\n",
      "http://img.177pic.info/uploads/2020/07a/a165-173.jpg\n",
      "http://img.177pic.info/uploads/2020/07a/a166-173.jpg\n",
      "http://img.177pic.info/uploads/2020/07a/a167-173.jpg\n",
      "http://img.177pic.info/uploads/2020/07a/a168-173.jpg\n",
      "http://img.177pic.info/uploads/2020/07a/a169-171.jpg\n",
      "http://img.177pic.info/uploads/2020/07a/a170-171.jpg\n",
      "http://img.177pic.info/uploads/2020/07a/a171-170.jpg\n",
      "http://img.177pic.info/uploads/2020/07a/a172-168.jpg\n",
      "http://img.177pic.info/uploads/2020/07a/a173-167.jpg\n",
      "http://img.177pic.info/uploads/2020/07a/a174-165.jpg\n",
      "http://img.177pic.info/uploads/2020/07a/a175-164.jpg\n",
      "http://img.177pic.info/uploads/2020/07a/a176-164.jpg\n",
      "http://img.177pic.info/uploads/2020/07a/a177-164.jpg\n",
      "http://img.177pic.info/uploads/2020/07a/a178-163.jpg\n",
      "http://img.177pic.info/uploads/2020/07a/a179-163.jpg\n",
      "http://img.177pic.info/uploads/2020/07a/a180-162.jpg\n",
      "http://img.177pic.info/uploads/2020/07a/a181-162.jpg\n",
      "http://img.177pic.info/uploads/2020/07a/a182-161.jpg\n",
      "http://img.177pic.info/uploads/2020/07a/a183-161.jpg\n",
      "http://img.177pic.info/uploads/2020/07a/a184-160.jpg\n",
      "http://img.177pic.info/uploads/2020/07a/a185-160.jpg\n",
      "http://img.177pic.info/uploads/2020/07a/a186-159.jpg\n",
      "http://img.177pic.info/uploads/2020/07a/a187-157.jpg\n",
      "http://img.177pic.info/uploads/2020/07a/a188-155.jpg\n",
      "http://img.177pic.info/uploads/2020/07a/a189-154.jpg\n",
      "http://img.177pic.info/uploads/2020/07a/a190-154.jpg\n",
      "http://img.177pic.info/uploads/2020/07a/a191-152.jpg\n",
      "http://img.177pic.info/uploads/2020/07a/a192-150.jpg\n",
      "http://img.177pic.info/uploads/2020/07a/a193-150.jpg\n",
      "http://img.177pic.info/uploads/2020/07a/a194-148.jpg\n",
      "http://img.177pic.info/uploads/2020/07a/a195-146.jpg\n",
      "http://img.177pic.info/uploads/2020/07a/a196-145.jpg\n",
      "http://img.177pic.info/uploads/2020/07a/a197-141.jpg\n",
      "http://img.177pic.info/uploads/2020/07a/a198-139.jpg\n",
      "http://img.177pic.info/uploads/2020/07a/a199-138.jpg\n",
      "http://img.177pic.info/uploads/2020/07a/a200-136.jpg\n",
      "http://img.177pic.info/uploads/2020/07a/a201-133.jpg\n",
      "http://img.177pic.info/uploads/2020/07a/a202-131.jpg\n",
      "http://img.177pic.info/uploads/2020/07a/a203-130.jpg\n",
      "http://img.177pic.info/uploads/2020/07a/a204-129.jpg\n",
      "http://img.177pic.info/uploads/2020/07a/a205-128.jpg\n",
      "http://img.177pic.info/uploads/2020/07a/a206-126.jpg\n",
      "Wall time: 6min 29s\n"
     ]
    }
   ],
   "source": [
    "%time download()"
   ]
  }
 ],
 "metadata": {
  "kernelspec": {
   "display_name": "Python 3",
   "language": "python",
   "name": "python3"
  },
  "language_info": {
   "codemirror_mode": {
    "name": "ipython",
    "version": 3
   },
   "file_extension": ".py",
   "mimetype": "text/x-python",
   "name": "python",
   "nbconvert_exporter": "python",
   "pygments_lexer": "ipython3",
   "version": "3.7.0"
  }
 },
 "nbformat": 4,
 "nbformat_minor": 2
}
