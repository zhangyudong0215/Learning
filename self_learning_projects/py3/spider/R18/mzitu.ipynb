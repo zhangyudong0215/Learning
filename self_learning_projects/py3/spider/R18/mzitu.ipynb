{
 "cells": [
  {
   "cell_type": "code",
   "execution_count": 27,
   "metadata": {},
   "outputs": [],
   "source": [
    "from requests_html import HTMLSession\n",
    "import requests\n",
    "import regex as re\n",
    "import functools\n",
    "import argparse\n",
    "import os"
   ]
  },
  {
   "cell_type": "code",
   "execution_count": 28,
   "metadata": {},
   "outputs": [],
   "source": [
    "session = HTMLSession()"
   ]
  },
  {
   "cell_type": "code",
   "execution_count": 5,
   "metadata": {},
   "outputs": [],
   "source": [
    "start_url = 'http://www.mzitu.com/all/'"
   ]
  },
  {
   "cell_type": "code",
   "execution_count": 6,
   "metadata": {},
   "outputs": [],
   "source": [
    "response = session.get(url)"
   ]
  },
  {
   "cell_type": "code",
   "execution_count": 8,
   "metadata": {},
   "outputs": [],
   "source": [
    "urls = response.html.absolute_links"
   ]
  },
  {
   "cell_type": "code",
   "execution_count": 9,
   "metadata": {},
   "outputs": [
    {
     "data": {
      "text/plain": [
       "2765"
      ]
     },
     "execution_count": 9,
     "metadata": {},
     "output_type": "execute_result"
    }
   ],
   "source": [
    "len(urls)"
   ]
  },
  {
   "cell_type": "code",
   "execution_count": 80,
   "metadata": {},
   "outputs": [],
   "source": [
    "pattern = re.compile('http:\\/\\/www\\.mzitu\\.com\\/\\d{1,6}')"
   ]
  },
  {
   "cell_type": "code",
   "execution_count": 82,
   "metadata": {},
   "outputs": [],
   "source": [
    "links = []\n",
    "for url in urls:\n",
    "    res = pattern.match(url)\n",
    "    if pattern.match(url):\n",
    "        links.append(url)"
   ]
  },
  {
   "cell_type": "code",
   "execution_count": 141,
   "metadata": {},
   "outputs": [],
   "source": [
    "url = 'http://www.mzitu.com/125459'"
   ]
  },
  {
   "cell_type": "code",
   "execution_count": 153,
   "metadata": {},
   "outputs": [],
   "source": [
    "res = session.get(url)"
   ]
  },
  {
   "cell_type": "code",
   "execution_count": 155,
   "metadata": {},
   "outputs": [],
   "source": [
    "def get_details(res):\n",
    "    # 唯一标识 id\n",
    "    pic_id = int(url.split('/')[-1])\n",
    "    # 标题\n",
    "    title = res.html.find('h2.main-title', first=True).text\n",
    "    tag = res.html.find('div.main-meta', first=True).find('span')\n",
    "    # 分类标签\n",
    "    category_tag = tag[0].find('a')[0].text\n",
    "    # 上传时间\n",
    "    upload_time = ':'.join([tag[1].text.replace('发布于', '').strip(), '00']) # 末尾添加':00'匹配mongodb时间格式\n",
    "    # 浏览次数\n",
    "    clicks = int(''.join([i for i in tag[2].text if i in string.digits]))\n",
    "    tag = res.html.find('div.main-tags', first=True).find('a')\n",
    "    # 相关专题\n",
    "    labels = ','.join([i.text for i in tag])\n",
    "    # 图片数量\n",
    "    page_count = int(res.html.find('div.pagenavi', first=True).find('a')[-2].text)\n",
    "    return pic_id, title, category_tag, upload_time, clicks, labels, page_count"
   ]
  },
  {
   "cell_type": "code",
   "execution_count": 157,
   "metadata": {},
   "outputs": [
    {
     "data": {
      "text/plain": [
       "(125459,\n",
       " '双飞姐妹花夏美酱和柳侑绮',\n",
       " '性感妹子',\n",
       " '2018-03-16 20:40:00',\n",
       " 1825709,\n",
       " 'BoLoli(波萝社),夏美酱,柳侑绮,诱惑',\n",
       " 50)"
      ]
     },
     "execution_count": 157,
     "metadata": {},
     "output_type": "execute_result"
    }
   ],
   "source": [
    "get_details(res)"
   ]
  },
  {
   "cell_type": "markdown",
   "metadata": {},
   "source": [
    "### TODO: 在ubuntu中完善代码, 存入mysql或mongodb, 练习一下数据库操作 ----2018_5_8"
   ]
  },
  {
   "cell_type": "markdown",
   "metadata": {},
   "source": [
    "# 下载图片"
   ]
  },
  {
   "cell_type": "code",
   "execution_count": 191,
   "metadata": {},
   "outputs": [],
   "source": [
    "# pic_id = 125459\n",
    "# page_count = 50\n",
    "pic_id = 25469"
   ]
  },
  {
   "cell_type": "code",
   "execution_count": 192,
   "metadata": {},
   "outputs": [],
   "source": [
    "url = 'http://www.mzitu.com/' + str(pic_id) + '/'"
   ]
  },
  {
   "cell_type": "code",
   "execution_count": 193,
   "metadata": {},
   "outputs": [],
   "source": [
    "res = session.get(url)"
   ]
  },
  {
   "cell_type": "code",
   "execution_count": 194,
   "metadata": {},
   "outputs": [
    {
     "data": {
      "text/plain": [
       "'http://i.meizitu.net/2014/05/20140508mt01.jpg'"
      ]
     },
     "execution_count": 194,
     "metadata": {},
     "output_type": "execute_result"
    }
   ],
   "source": [
    "img_url = res.html.xpath('/html/body/div[2]/div[1]/div[3]/p/a/img/@src')[0] # 秀一波xpath\n",
    "img_url"
   ]
  },
  {
   "cell_type": "markdown",
   "metadata": {},
   "source": [
    "## 遇到了防盗链"
   ]
  },
  {
   "cell_type": "code",
   "execution_count": null,
   "metadata": {},
   "outputs": [],
   "source": [
    "referer = request.meta.get('referer', None)\n",
    "if referer:\n",
    "    request.headers['referer'] = referer"
   ]
  },
  {
   "cell_type": "markdown",
   "metadata": {},
   "source": [
    "## 尝试使用博客中看到的应对方法"
   ]
  },
  {
   "cell_type": "code",
   "execution_count": 23,
   "metadata": {},
   "outputs": [],
   "source": [
    "import requests\n",
    "from time import sleep\n",
    "import os"
   ]
  },
  {
   "cell_type": "code",
   "execution_count": 202,
   "metadata": {},
   "outputs": [
    {
     "data": {
      "text/plain": [
       "<function requests.api.head>"
      ]
     },
     "execution_count": 202,
     "metadata": {},
     "output_type": "execute_result"
    }
   ],
   "source": [
    "requests."
   ]
  },
  {
   "cell_type": "markdown",
   "metadata": {},
   "source": [
    "## 下载图片"
   ]
  },
  {
   "cell_type": "code",
   "execution_count": 14,
   "metadata": {},
   "outputs": [],
   "source": [
    "headers = {\n",
    "    'user-agent': 'Mozilla/5.0 (X11; Ubuntu; Linux x86_64; rv:54.0) Gecko/20100101 Firefox/54.0',\n",
    "    'accept': 'text/html, application/xhtml+xml, application/xml; q=0.9, image/webp, */*; q=0.8', \n",
    "    'referer': 'http://www.mzitu.com'\n",
    "}"
   ]
  },
  {
   "cell_type": "code",
   "execution_count": 33,
   "metadata": {},
   "outputs": [
    {
     "name": "stdout",
     "output_type": "stream",
     "text": [
      "http://i.meizitu.net/2018/03/16c01.jpg\n"
     ]
    }
   ],
   "source": [
    "img_response = requests.get('http://i.meizitu.net/2018/03/16c01.jpg', headers=headers)\n",
    "# img_response = requests.get('http://i.meizitu.net/2018/03/16c01.jpg')\n",
    "with open('test.jpg', 'ab') as f:\n",
    "    f.write(img_response.content)\n",
    "print(img_response.url)"
   ]
  },
  {
   "cell_type": "code",
   "execution_count": 40,
   "metadata": {},
   "outputs": [],
   "source": [
    "# def save_image(page_url, order, save_path):\n",
    "#     res = session.get(page_url)\n",
    "#     img_url = res.html.xpath('/html/body/div[2]/div[1]/div[3]/p/a/img/@src')[0] # 秀一波xpath\n",
    "#     img_response = requests.get(img_url, headers=headers)\n",
    "#     with open(os.path.join(save_path, '%s.jpg' %order), 'ab') as f:\n",
    "#         f.write(img_response.content)\n",
    "#     sleep(1)\n",
    "\n",
    "\n",
    "# def download(pic_id, page_count, save_path):\n",
    "#     print('开始进行 %s 图集爬取' %pic_id)\n",
    "#     base_url = 'http://www.mzitu.com/' + str(pic_id) + '/'\n",
    "#     for index in range(1, page_count+1):\n",
    "#         save_image(base_url+str(index), index, save_path)\n",
    "#         print('完成: %s/%s' %(index, page_count))"
   ]
  },
  {
   "cell_type": "markdown",
   "metadata": {},
   "source": [
    "## 修改版save_image和download函数(不考虑page_count>=100的情况)"
   ]
  },
  {
   "cell_type": "code",
   "execution_count": 65,
   "metadata": {},
   "outputs": [],
   "source": [
    "def save_image(img_url, order, save_path):\n",
    "    img_response = session.get(img_url, headers=headers)\n",
    "    with open(os.path.join(save_path, '%d.jpg' %order), 'ab') as f:\n",
    "        f.write(img_response.content)\n",
    "    sleep(1)\n",
    "\n",
    "\n",
    "def download(pic_id, page_count, save_path):\n",
    "    print('开始抓取图集 %s' %pic_id)\n",
    "    base_url = 'http://www.mzitu.com/' + str(pic_id) + '/'\n",
    "    res = session.get(base_url)\n",
    "    first_img_url = res.html.xpath('/html/body/div[2]/div[1]/div[3]/p/a/img/@src')[0] # 秀一波xpath\n",
    "    for index in range(1, page_count+1):\n",
    "        if index < 10:\n",
    "            img_url = first_img_url.replace('1.jpg', '%d.jpg' %index)\n",
    "        else:\n",
    "            img_url = first_img_url.replace('01.jpg', '%d.jpg' %index)\n",
    "        save_image(img_url, index, save_path)\n",
    "        print('完成: %s/%s' %(index, page_count))\n",
    "    print('图集 %s 抓取完成' %pic_id)"
   ]
  },
  {
   "cell_type": "code",
   "execution_count": 70,
   "metadata": {},
   "outputs": [],
   "source": [
    "def main_spider(title, pic_id, page_count, save_path):\n",
    "#     save_path = kwargs['save_path']\n",
    "    if os.path.isdir(save_path):\n",
    "        save_path = os.path.join(save_path, title)\n",
    "        if not os.path.exists(save_path):\n",
    "            os.mkdir(save_path)\n",
    "            download(pic_id, page_count, save_path)"
   ]
  },
  {
   "cell_type": "code",
   "execution_count": 71,
   "metadata": {},
   "outputs": [
    {
     "name": "stdout",
     "output_type": "stream",
     "text": [
      "开始抓取图集 53355\n",
      "完成: 1/43\n",
      "完成: 2/43\n",
      "完成: 3/43\n",
      "完成: 4/43\n",
      "完成: 5/43\n",
      "完成: 6/43\n",
      "完成: 7/43\n",
      "完成: 8/43\n",
      "完成: 9/43\n",
      "完成: 10/43\n",
      "完成: 11/43\n",
      "完成: 12/43\n",
      "完成: 13/43\n",
      "完成: 14/43\n",
      "完成: 15/43\n",
      "完成: 16/43\n",
      "完成: 17/43\n",
      "完成: 18/43\n",
      "完成: 19/43\n",
      "完成: 20/43\n",
      "完成: 21/43\n",
      "完成: 22/43\n",
      "完成: 23/43\n",
      "完成: 24/43\n",
      "完成: 25/43\n",
      "完成: 26/43\n",
      "完成: 27/43\n",
      "完成: 28/43\n",
      "完成: 29/43\n",
      "完成: 30/43\n",
      "完成: 31/43\n",
      "完成: 32/43\n",
      "完成: 33/43\n",
      "完成: 34/43\n",
      "完成: 35/43\n",
      "完成: 36/43\n",
      "完成: 37/43\n",
      "完成: 38/43\n",
      "完成: 39/43\n",
      "完成: 40/43\n",
      "完成: 41/43\n",
      "完成: 42/43\n",
      "完成: 43/43\n",
      "图集 53355 抓取完成\n"
     ]
    }
   ],
   "source": [
    "main_spider('麻辣女教官VS清纯校花,由夏美酱与刘娅希倾情演绎', 53355, 43, 'E:/ZYD/Github/Learning/self_learning_projects/py3/spider/R18/')"
   ]
  },
  {
   "cell_type": "markdown",
   "metadata": {},
   "source": [
    "### 备注: 发送的请求可以减少到一半, 因为img_url也是有规律的, 只需要确认超过100张图片的img_url的规律(可能没有超过100张图片的合集)\n",
    "### 因此需要先完成!~/all页面的爬取, 检查是否存在超过100的图片集, 存在则有针对性地寻找规律."
   ]
  },
  {
   "cell_type": "code",
   "execution_count": 64,
   "metadata": {},
   "outputs": [
    {
     "name": "stdout",
     "output_type": "stream",
     "text": [
      "开始抓取图集 86007\n",
      "完成: 1/40\n",
      "完成: 2/40\n",
      "完成: 3/40\n",
      "完成: 4/40\n",
      "完成: 5/40\n",
      "完成: 6/40\n",
      "完成: 7/40\n",
      "完成: 8/40\n",
      "完成: 9/40\n",
      "完成: 10/40\n",
      "完成: 11/40\n",
      "完成: 12/40\n",
      "完成: 13/40\n",
      "完成: 14/40\n",
      "完成: 15/40\n",
      "完成: 16/40\n",
      "完成: 17/40\n",
      "完成: 18/40\n",
      "完成: 19/40\n",
      "完成: 20/40\n",
      "完成: 21/40\n",
      "完成: 22/40\n",
      "完成: 23/40\n",
      "完成: 24/40\n",
      "完成: 25/40\n",
      "完成: 26/40\n",
      "完成: 27/40\n",
      "完成: 28/40\n",
      "完成: 29/40\n",
      "完成: 30/40\n",
      "完成: 31/40\n",
      "完成: 32/40\n",
      "完成: 33/40\n",
      "完成: 34/40\n",
      "完成: 35/40\n",
      "完成: 36/40\n",
      "完成: 37/40\n",
      "完成: 38/40\n",
      "完成: 39/40\n",
      "完成: 40/40\n",
      "图集 86007 完成\n"
     ]
    }
   ],
   "source": [
    "download(86007, 40, 'E:/ZYD/Github/Learning/self_learning_projects/py3/spider/R18/mzitu_test_4/')"
   ]
  },
  {
   "cell_type": "markdown",
   "metadata": {},
   "source": [
    "# 测试一下requests-html包能不能抓取图片(可以的, 那以后可能不需要requests包了)"
   ]
  },
  {
   "cell_type": "code",
   "execution_count": 48,
   "metadata": {},
   "outputs": [],
   "source": [
    "import requests_html\n",
    "session = requests_html.HTMLSession()"
   ]
  },
  {
   "cell_type": "code",
   "execution_count": 59,
   "metadata": {},
   "outputs": [],
   "source": [
    "res = session.get('http://i.meizitu.net/2018/03/16c01.jpg', headers=headers)"
   ]
  },
  {
   "cell_type": "code",
   "execution_count": 61,
   "metadata": {},
   "outputs": [],
   "source": [
    "with open('test.jpg', 'ab') as f:\n",
    "    f.write(res.content)"
   ]
  }
 ],
 "metadata": {
  "kernelspec": {
   "display_name": "Python 3",
   "language": "python",
   "name": "python3"
  },
  "language_info": {
   "codemirror_mode": {
    "name": "ipython",
    "version": 3
   },
   "file_extension": ".py",
   "mimetype": "text/x-python",
   "name": "python",
   "nbconvert_exporter": "python",
   "pygments_lexer": "ipython3",
   "version": "3.6.1"
  }
 },
 "nbformat": 4,
 "nbformat_minor": 2
}
