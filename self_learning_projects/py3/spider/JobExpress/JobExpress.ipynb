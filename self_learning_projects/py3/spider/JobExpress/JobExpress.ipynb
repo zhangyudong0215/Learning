{
 "cells": [
  {
   "cell_type": "markdown",
   "metadata": {},
   "source": [
    "# 小百合JobExpress板块信息\n",
    "+ 储存到阿里云mysql中"
   ]
  },
  {
   "cell_type": "code",
   "execution_count": 1,
   "metadata": {},
   "outputs": [],
   "source": [
    "from requests_html import HTMLSession\n",
    "import regex as re\n",
    "import string\n",
    "import time\n",
    "from mylog import MyLog as mylog\n",
    "import pymysql\n",
    "import pickle\n",
    "from tqdm import tqdm"
   ]
  },
  {
   "cell_type": "code",
   "execution_count": 2,
   "metadata": {},
   "outputs": [],
   "source": [
    "SUCCESSES = 0\n",
    "ERRORS = 0"
   ]
  },
  {
   "cell_type": "code",
   "execution_count": 3,
   "metadata": {},
   "outputs": [],
   "source": [
    "logger = mylog()\n",
    "htmlsession = HTMLSession()\n",
    "headers = {\n",
    "    'user-agent':\n",
    "    'Mozilla/5.0 (X11; Ubuntu; Linux x86_64; rv:54.0) Gecko/20100101 Firefox/54.0',\n",
    "    'accept':\n",
    "    'text/html, application/xhtml+xml, application/xml; q=0.9, image/webp, */*; q=0.8',\n",
    "    'referer':\n",
    "    'http://bbs.nju.edu.cn/g/JobExpress'\n",
    "}"
   ]
  },
  {
   "cell_type": "code",
   "execution_count": 4,
   "metadata": {},
   "outputs": [],
   "source": [
    "start_url = 'http://bbs.nju.edu.cn/bbsdoc?board=JobExpress'\n",
    "pattern_index = re.compile('bbscon\\?board=JobExpress&file=M\\.\\d+\\.A&num=(\\d+)')"
   ]
  },
  {
   "cell_type": "code",
   "execution_count": 5,
   "metadata": {},
   "outputs": [],
   "source": [
    "keep_going = True\n",
    "count_articles = 999999\n",
    "url_articles = []"
   ]
  },
  {
   "cell_type": "code",
   "execution_count": 6,
   "metadata": {},
   "outputs": [],
   "source": [
    "db = pymysql.connect(\"39.108.157.74\",\"root\",\"00genius00\",\"JobExpress\" )\n",
    "cursor = db.cursor()"
   ]
  },
  {
   "cell_type": "code",
   "execution_count": 7,
   "metadata": {},
   "outputs": [
    {
     "data": {
      "text/plain": [
       "1"
      ]
     },
     "execution_count": 7,
     "metadata": {},
     "output_type": "execute_result"
    }
   ],
   "source": [
    "cursor.execute(\"SELECT MAX(id) FROM links\")"
   ]
  },
  {
   "cell_type": "code",
   "execution_count": 8,
   "metadata": {},
   "outputs": [],
   "source": [
    "count_crawled = cursor.fetchone()[0]"
   ]
  },
  {
   "cell_type": "code",
   "execution_count": 9,
   "metadata": {},
   "outputs": [],
   "source": [
    "def update_url_articles(res):\n",
    "    global count_articles\n",
    "    global keep_going\n",
    "    global pattern_index\n",
    "    for link in res.html.links:\n",
    "        if link.startswith('bbscon?board=JobExpress&file=M.'):\n",
    "            index = int(pattern_index.match(link).group(1))\n",
    "            if index > count_crawled:\n",
    "                count_articles = index if count_articles > index else count_articles\n",
    "                url_articles.append((str(index), 'http://bbs.nju.edu.cn/'+link))\n",
    "            else:\n",
    "                keep_going = False"
   ]
  },
  {
   "cell_type": "code",
   "execution_count": 10,
   "metadata": {},
   "outputs": [],
   "source": [
    "res = htmlsession.get(start_url, headers=headers)\n",
    "update_url_articles(res)"
   ]
  },
  {
   "cell_type": "code",
   "execution_count": 11,
   "metadata": {},
   "outputs": [],
   "source": [
    "while keep_going:\n",
    "    count_articles = count_articles-20 if count_articles>=20 else 0\n",
    "    target_url = 'http://bbs.nju.edu.cn/bbsdoc?board=JobExpress&start=%s&type=doc' %str(count_articles)\n",
    "    res = htmlsession.get(target_url, headers=headers)\n",
    "    update_url_articles(res)\n",
    "    time.sleep(0.5)"
   ]
  },
  {
   "cell_type": "code",
   "execution_count": 21,
   "metadata": {},
   "outputs": [],
   "source": [
    "def insert(cursor, db, index, url):\n",
    "    global SUCCESSES, ERRORS\n",
    "    sql_query = \"INSERT IGNORE INTO links VALUES ('%s', '%s')\" %(str(index), url)\n",
    "    try:\n",
    "        cursor.execute(sql_query)\n",
    "        db.commit()\n",
    "        logger.info('成功: 插入id为: %s 的招聘信息' %str(index))\n",
    "        SUCCESSES += 1\n",
    "    except:\n",
    "        db.rollback()\n",
    "        logger.error('失败: 插入id为: %s 的招聘信息' %str(index))\n",
    "        ERRORS += 1"
   ]
  },
  {
   "cell_type": "code",
   "execution_count": 22,
   "metadata": {},
   "outputs": [
    {
     "name": "stderr",
     "output_type": "stream",
     "text": [
      "  0%|                                                                           | 0/30 [00:00<?, ?it/s]2018-08-28 01:28:57,859 INFO     ydzhang    成功: 插入id为: 12020 的招聘信息\n",
      "\n",
      "2018-08-28 01:28:57,935 INFO     ydzhang    成功: 插入id为: 12026 的招聘信息\n",
      "\n",
      "  7%|████▍                                                              | 2/30 [00:00<00:02, 13.26it/s]2018-08-28 01:28:58,013 INFO     ydzhang    成功: 插入id为: 12013 的招聘信息\n",
      "\n",
      "2018-08-28 01:28:58,087 INFO     ydzhang    成功: 插入id为: 12015 的招聘信息\n",
      "\n",
      " 13%|████████▉                                                          | 4/30 [00:00<00:01, 13.21it/s]2018-08-28 01:28:58,162 INFO     ydzhang    成功: 插入id为: 12023 的招聘信息\n",
      "\n",
      "2018-08-28 01:28:58,236 INFO     ydzhang    成功: 插入id为: 12030 的招聘信息\n",
      "\n",
      " 20%|█████████████▍                                                     | 6/30 [00:00<00:01, 13.26it/s]2018-08-28 01:28:58,310 INFO     ydzhang    成功: 插入id为: 12019 的招聘信息\n",
      "\n",
      "2018-08-28 01:28:58,384 INFO     ydzhang    成功: 插入id为: 12017 的招聘信息\n",
      "\n",
      " 27%|█████████████████▊                                                 | 8/30 [00:00<00:01, 13.33it/s]2018-08-28 01:28:58,459 INFO     ydzhang    成功: 插入id为: 12014 的招聘信息\n",
      "\n",
      "2018-08-28 01:28:58,533 INFO     ydzhang    成功: 插入id为: 12011 的招聘信息\n",
      "\n",
      " 33%|██████████████████████                                            | 10/30 [00:00<00:01, 13.35it/s]2018-08-28 01:28:58,607 INFO     ydzhang    成功: 插入id为: 12024 的招聘信息\n",
      "\n",
      "2018-08-28 01:28:58,681 INFO     ydzhang    成功: 插入id为: 12018 的招聘信息\n",
      "\n",
      " 40%|██████████████████████████▍                                       | 12/30 [00:00<00:01, 13.38it/s]2018-08-28 01:28:58,756 INFO     ydzhang    成功: 插入id为: 12025 的招聘信息\n",
      "\n",
      "2018-08-28 01:28:58,830 INFO     ydzhang    成功: 插入id为: 12021 的招聘信息\n",
      "\n",
      " 47%|██████████████████████████████▊                                   | 14/30 [00:01<00:01, 13.39it/s]2018-08-28 01:28:58,904 INFO     ydzhang    成功: 插入id为: 12012 的招聘信息\n",
      "\n",
      "2018-08-28 01:28:58,979 INFO     ydzhang    成功: 插入id为: 12027 的招聘信息\n",
      "\n",
      " 53%|███████████████████████████████████▏                              | 16/30 [00:01<00:01, 13.39it/s]2018-08-28 01:28:59,071 INFO     ydzhang    成功: 插入id为: 12029 的招聘信息\n",
      "\n",
      "2018-08-28 01:28:59,146 INFO     ydzhang    成功: 插入id为: 12022 的招聘信息\n",
      "\n",
      " 60%|███████████████████████████████████████▌                          | 18/30 [00:01<00:00, 13.22it/s]2018-08-28 01:28:59,221 INFO     ydzhang    成功: 插入id为: 12016 的招聘信息\n",
      "\n",
      "2018-08-28 01:28:59,294 INFO     ydzhang    成功: 插入id为: 12028 的招聘信息\n",
      "\n",
      " 67%|████████████████████████████████████████████                      | 20/30 [00:01<00:00, 13.24it/s]2018-08-28 01:28:59,369 INFO     ydzhang    成功: 插入id为: 12007 的招聘信息\n",
      "\n",
      "2018-08-28 01:28:59,443 INFO     ydzhang    成功: 插入id为: 12004 的招聘信息\n",
      "\n",
      " 73%|████████████████████████████████████████████████▍                 | 22/30 [00:01<00:00, 13.26it/s]2018-08-28 01:28:59,521 INFO     ydzhang    成功: 插入id为: 12010 的招聘信息\n",
      "\n",
      "2018-08-28 01:28:59,595 INFO     ydzhang    成功: 插入id为: 12003 的招聘信息\n",
      "\n",
      " 80%|████████████████████████████████████████████████████▊             | 24/30 [00:01<00:00, 13.25it/s]2018-08-28 01:28:59,669 INFO     ydzhang    成功: 插入id为: 12002 的招聘信息\n",
      "\n",
      "2018-08-28 01:28:59,743 INFO     ydzhang    成功: 插入id为: 12009 的招聘信息\n",
      "\n",
      " 87%|█████████████████████████████████████████████████████████▏        | 26/30 [00:01<00:00, 13.27it/s]2018-08-28 01:28:59,818 INFO     ydzhang    成功: 插入id为: 12005 的招聘信息\n",
      "\n",
      "2018-08-28 01:28:59,892 INFO     ydzhang    成功: 插入id为: 12006 的招聘信息\n",
      "\n",
      " 93%|█████████████████████████████████████████████████████████████▌    | 28/30 [00:02<00:00, 13.29it/s]2018-08-28 01:28:59,966 INFO     ydzhang    成功: 插入id为: 12008 的招聘信息\n",
      "\n",
      "2018-08-28 01:29:00,042 INFO     ydzhang    成功: 插入id为: 12001 的招聘信息\n",
      "\n",
      "100%|██████████████████████████████████████████████████████████████████| 30/30 [00:02<00:00, 13.29it/s]\n"
     ]
    }
   ],
   "source": [
    "for item in tqdm(url_articles):\n",
    "    insert(cursor, db, item[0], item[1])"
   ]
  },
  {
   "cell_type": "code",
   "execution_count": 23,
   "metadata": {},
   "outputs": [
    {
     "name": "stdout",
     "output_type": "stream",
     "text": [
      "30 30\n"
     ]
    }
   ],
   "source": [
    "print(SUCCESSES, ERRORS)"
   ]
  }
 ],
 "metadata": {
  "kernelspec": {
   "display_name": "Python 3",
   "language": "python",
   "name": "python3"
  },
  "language_info": {
   "codemirror_mode": {
    "name": "ipython",
    "version": 3
   },
   "file_extension": ".py",
   "mimetype": "text/x-python",
   "name": "python",
   "nbconvert_exporter": "python",
   "pygments_lexer": "ipython3",
   "version": "3.6.4"
  }
 },
 "nbformat": 4,
 "nbformat_minor": 2
}
