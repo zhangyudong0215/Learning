{
 "cells": [
  {
   "cell_type": "code",
   "execution_count": 23,
   "metadata": {},
   "outputs": [],
   "source": [
    "from requests_html import HTMLSession\n",
    "import requests"
   ]
  },
  {
   "cell_type": "code",
   "execution_count": 18,
   "metadata": {},
   "outputs": [],
   "source": [
    "session = HTMLSession()"
   ]
  },
  {
   "cell_type": "code",
   "execution_count": 52,
   "metadata": {},
   "outputs": [],
   "source": [
    "proxies = {\n",
    "    'http': 'http://127.0.0.1:1080/',\n",
    "    'https': 'http://127.0.0.1:1080/', \n",
    "}"
   ]
  },
  {
   "cell_type": "code",
   "execution_count": 56,
   "metadata": {},
   "outputs": [],
   "source": [
    "res = session.get('http://www.google.com', proxies=proxies)"
   ]
  },
  {
   "cell_type": "code",
   "execution_count": 58,
   "metadata": {},
   "outputs": [
    {
     "data": {
      "text/plain": [
       "{'http://www.google.com/shopping?hl=en&tab=wf',\n",
       " 'https://accounts.google.com/ServiceLogin?hl=en&passive=true&continue=https://www.google.com/%3Fgws_rd%3Dssl',\n",
       " 'https://books.google.com/bkshp?hl=en&tab=wp',\n",
       " 'https://docs.google.com/document/?usp=docs_alc',\n",
       " 'https://drive.google.com/?tab=wo',\n",
       " 'https://hangouts.google.com/',\n",
       " 'https://keep.google.com/',\n",
       " 'https://mail.google.com/mail/?tab=wm',\n",
       " 'https://maps.google.com/maps?hl=en&tab=wl',\n",
       " 'https://myaccount.google.com/?utm_source=OGB&utm_medium=app',\n",
       " 'https://news.google.com/nwshp?hl=en&tab=wn',\n",
       " 'https://photos.google.com/?tab=wq&pageId=none',\n",
       " 'https://play.google.com/?hl=en&tab=w8',\n",
       " 'https://plus.google.com/?gpsrc=ogpy0&tab=wX',\n",
       " 'https://store.google.com/?utm_source=hp_header&utm_medium=google_oo&utm_campaign=GS100042',\n",
       " 'https://support.google.com/websearch/?p=ws_results_help&hl=en&fg=1',\n",
       " 'https://support.google.com/websearch/answer/186645?hl=en',\n",
       " 'https://translate.google.com/?hl=en&tab=wT',\n",
       " 'https://www.blogger.com/?tab=wj',\n",
       " 'https://www.google.com/advanced_search?hl=en&fg=1',\n",
       " 'https://www.google.com/calendar?tab=wc',\n",
       " 'https://www.google.com/contacts/?hl=en&tab=wC',\n",
       " 'https://www.google.com/finance?tab=we',\n",
       " 'https://www.google.com/history/optout?hl=en&fg=1',\n",
       " 'https://www.google.com/imghp?hl=en&tab=wi',\n",
       " 'https://www.google.com/intl/en/about/?fg=1&utm_source=google.com&utm_medium=referral&utm_campaign=hp-header',\n",
       " 'https://www.google.com/intl/en/options/',\n",
       " 'https://www.google.com/intl/en_us/ads/?subid=ww-ww-et-g-awa-a-g_hpafoot1_1!o2&utm_source=google.com&utm_medium=referral&utm_campaign=google_hpafooter&fg=1',\n",
       " 'https://www.google.com/intl/en_us/policies/privacy/?fg=1',\n",
       " 'https://www.google.com/intl/en_us/policies/terms/?fg=1',\n",
       " 'https://www.google.com/preferences?hl=en',\n",
       " 'https://www.google.com/preferences?hl=en&fg=1',\n",
       " 'https://www.google.com/services/?subid=ww-ww-et-g-awa-a-g_hpbfoot1_1!o2&utm_source=google.com&utm_medium=referral&utm_campaign=google_hpbfooter&fg=1',\n",
       " 'https://www.google.com/url?q=https://myaccount.google.com/privacycheckup/1%3Futm_source%3Dgoogle%26utm_medium%3Dcallout-auth%26utm_campaign%3Dglobal-privacy-checkup-q2v1&source=hpp&id=19006010&ct=7&usg=AFQjCNEUpiTBA-yn_Vjea2-hIpd6SyJRKg',\n",
       " 'https://www.google.com/webhp?hl=en&sa=X&ved=0ahUKEwjCk7OQiZbbAhUNyWMKHdlwCesQPAgF',\n",
       " 'https://www.google.com/webhp?tab=ww',\n",
       " 'https://www.youtube.com/?gl=US'}"
      ]
     },
     "execution_count": 58,
     "metadata": {},
     "output_type": "execute_result"
    }
   ],
   "source": [
    "res.html.absolute_links"
   ]
  }
 ],
 "metadata": {
  "kernelspec": {
   "display_name": "Python 3",
   "language": "python",
   "name": "python3"
  },
  "language_info": {
   "codemirror_mode": {
    "name": "ipython",
    "version": 3
   },
   "file_extension": ".py",
   "mimetype": "text/x-python",
   "name": "python",
   "nbconvert_exporter": "python",
   "pygments_lexer": "ipython3",
   "version": "3.6.4"
  }
 },
 "nbformat": 4,
 "nbformat_minor": 2
}
