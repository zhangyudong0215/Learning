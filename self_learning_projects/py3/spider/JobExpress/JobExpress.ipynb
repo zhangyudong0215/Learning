{
 "cells": [
  {
   "cell_type": "markdown",
   "metadata": {},
   "source": [
    "# 小百合JobExpress板块信息\n",
    "+ 储存到阿里云mysql中"
   ]
  },
  {
   "cell_type": "code",
   "execution_count": 1,
   "metadata": {},
   "outputs": [],
   "source": [
    "from requests_html import HTMLSession\n",
    "import regex as re\n",
    "import string\n",
    "import time\n",
    "from mylog import MyLog as mylog\n",
    "import pymysql\n",
    "import pickle\n",
    "from tqdm import tqdm"
   ]
  },
  {
   "cell_type": "code",
   "execution_count": 2,
   "metadata": {},
   "outputs": [],
   "source": [
    "SUCCESSES = 0\n",
    "ERRORS = 0"
   ]
  },
  {
   "cell_type": "code",
   "execution_count": 3,
   "metadata": {},
   "outputs": [],
   "source": [
    "logger = mylog()\n",
    "htmlsession = HTMLSession()\n",
    "headers = {\n",
    "    'user-agent':\n",
    "    'Mozilla/5.0 (X11; Ubuntu; Linux x86_64; rv:54.0) Gecko/20100101 Firefox/54.0',\n",
    "    'accept':\n",
    "    'text/html, application/xhtml+xml, application/xml; q=0.9, image/webp, */*; q=0.8',\n",
    "    'referer':\n",
    "    'http://bbs.nju.edu.cn/g/JobExpress'\n",
    "}"
   ]
  },
  {
   "cell_type": "code",
   "execution_count": 4,
   "metadata": {},
   "outputs": [],
   "source": [
    "start_url = 'http://bbs.nju.edu.cn/bbsdoc?board=JobExpress'\n",
    "pattern_index = re.compile('bbscon\\?board=JobExpress&file=M\\.(\\d+)\\.A&num=(\\d+)')"
   ]
  },
  {
   "cell_type": "code",
   "execution_count": 5,
   "metadata": {},
   "outputs": [],
   "source": [
    "keep_going = True\n",
    "count_articles = 999999\n",
    "url_articles = []"
   ]
  },
  {
   "cell_type": "code",
   "execution_count": 6,
   "metadata": {},
   "outputs": [],
   "source": [
    "db = pymysql.connect(\"39.108.157.74\",\"root\",\"00genius00\",\"JobExpress\" )\n",
    "cursor = db.cursor()"
   ]
  },
  {
   "cell_type": "code",
   "execution_count": 7,
   "metadata": {},
   "outputs": [
    {
     "data": {
      "text/plain": [
       "1"
      ]
     },
     "execution_count": 7,
     "metadata": {},
     "output_type": "execute_result"
    }
   ],
   "source": [
    "cursor.execute(\"SELECT MAX(id) FROM links\")"
   ]
  },
  {
   "cell_type": "code",
   "execution_count": 8,
   "metadata": {},
   "outputs": [],
   "source": [
    "count_crawled = cursor.fetchone()[0]\n",
    "count_crawled"
   ]
  },
  {
   "cell_type": "code",
   "execution_count": 13,
   "metadata": {},
   "outputs": [
    {
     "data": {
      "text/plain": [
       "11914"
      ]
     },
     "execution_count": 13,
     "metadata": {},
     "output_type": "execute_result"
    }
   ],
   "source": [
    "count_crawled -= 100\n",
    "count_crawled"
   ]
  },
  {
   "cell_type": "code",
   "execution_count": 14,
   "metadata": {},
   "outputs": [],
   "source": [
    "def update_url_articles(res):\n",
    "    global count_articles\n",
    "    global keep_going\n",
    "    global pattern_index\n",
    "    for link in res.html.links:\n",
    "        if link.startswith('bbscon?board=JobExpress&file=M.'):\n",
    "            index = int(pattern_index.match(link).group(2))\n",
    "            file = int(pattern_index.match(link).group(1))\n",
    "            if index > count_crawled:\n",
    "                count_articles = index if count_articles > index else count_articles\n",
    "                url_articles.append((str(file), str(index), 'http://bbs.nju.edu.cn/'+link))\n",
    "            else:\n",
    "                keep_going = False"
   ]
  },
  {
   "cell_type": "code",
   "execution_count": 16,
   "metadata": {},
   "outputs": [],
   "source": [
    "res = htmlsession.get(start_url, headers=headers)\n",
    "update_url_articles(res)"
   ]
  },
  {
   "cell_type": "code",
   "execution_count": 17,
   "metadata": {},
   "outputs": [],
   "source": [
    "while keep_going:\n",
    "    count_articles = count_articles-20 if count_articles>=20 else 0\n",
    "    target_url = 'http://bbs.nju.edu.cn/bbsdoc?board=JobExpress&start=%s&type=doc' %str(count_articles)\n",
    "    res = htmlsession.get(target_url, headers=headers)\n",
    "    update_url_articles(res)\n",
    "    time.sleep(0.5)"
   ]
  },
  {
   "cell_type": "code",
   "execution_count": 18,
   "metadata": {},
   "outputs": [],
   "source": [
    "def insert(cursor, db, file, index, url):\n",
    "    global SUCCESSES, ERRORS\n",
    "    sql_query = \"REPLACE INTO links VALUES ('%s', '%s', '%s')\" %(str(file), str(index), url)\n",
    "    try:\n",
    "        cursor.execute(sql_query)\n",
    "        db.commit()\n",
    "        logger.info('成功: 插入id为: %s 的招聘信息' %str(index))\n",
    "        SUCCESSES += 1\n",
    "    except:\n",
    "        db.rollback()\n",
    "        logger.error('失败: 插入id为: %s 的招聘信息' %str(index))\n",
    "        ERRORS += 1"
   ]
  },
  {
   "cell_type": "code",
   "execution_count": null,
   "metadata": {},
   "outputs": [
    {
     "name": "stderr",
     "output_type": "stream",
     "text": [
      "  0%|                                                                           | 0/40 [00:00<?, ?it/s]2018-08-28 16:01:34,295 INFO     ydzhang    成功: 插入id为: 12014 的招聘信息\n",
      "\n",
      "  2%|█▋                                                                 | 1/40 [00:00<00:04,  9.27it/s]2018-08-28 16:01:34,401 INFO     ydzhang    成功: 插入id为: 12009 的招聘信息\n",
      "\n",
      "  5%|███▎                                                               | 2/40 [00:00<00:04,  9.35it/s]2018-08-28 16:01:34,545 INFO     ydzhang    成功: 插入id为: 11998 的招聘信息\n",
      "\n",
      "  8%|█████                                                              | 3/40 [00:00<00:04,  8.40it/s]2018-08-28 16:01:34,656 INFO     ydzhang    成功: 插入id为: 11997 的招聘信息\n",
      "\n",
      " 10%|██████▋                                                            | 4/40 [00:00<00:04,  8.55it/s]2018-08-28 16:01:34,764 INFO     ydzhang    成功: 插入id为: 12002 的招聘信息\n",
      "\n",
      " 12%|████████▍                                                          | 5/40 [00:00<00:04,  8.68it/s]2018-08-28 16:01:34,880 INFO     ydzhang    成功: 插入id为: 12007 的招聘信息\n",
      "\n",
      " 15%|██████████                                                         | 6/40 [00:00<00:03,  8.66it/s]2018-08-28 16:01:34,987 INFO     ydzhang    成功: 插入id为: 12010 的招聘信息\n",
      "\n",
      " 18%|███████████▋                                                       | 7/40 [00:00<00:03,  8.75it/s]2018-08-28 16:01:35,094 INFO     ydzhang    成功: 插入id为: 11995 的招聘信息\n",
      "\n",
      " 20%|█████████████▍                                                     | 8/40 [00:00<00:03,  8.82it/s]2018-08-28 16:01:35,202 INFO     ydzhang    成功: 插入id为: 11996 的招聘信息\n",
      "\n",
      " 22%|███████████████                                                    | 9/40 [00:01<00:03,  8.87it/s]2018-08-28 16:01:35,310 INFO     ydzhang    成功: 插入id为: 12004 的招聘信息\n",
      "\n",
      " 25%|████████████████▌                                                 | 10/40 [00:01<00:03,  8.91it/s]2018-08-28 16:01:35,416 INFO     ydzhang    成功: 插入id为: 12011 的招聘信息\n",
      "\n",
      " 28%|██████████████████▏                                               | 11/40 [00:01<00:03,  8.95it/s]2018-08-28 16:01:35,524 INFO     ydzhang    成功: 插入id为: 12008 的招聘信息\n",
      "\n",
      " 30%|███████████████████▊                                              | 12/40 [00:01<00:03,  8.98it/s]2018-08-28 16:01:35,630 INFO     ydzhang    成功: 插入id为: 12012 的招聘信息\n",
      "\n",
      " 32%|█████████████████████▍                                            | 13/40 [00:01<00:02,  9.01it/s]2018-08-28 16:01:35,738 INFO     ydzhang    成功: 插入id为: 12003 的招聘信息\n",
      "\n",
      " 35%|███████████████████████                                           | 14/40 [00:01<00:02,  9.03it/s]2018-08-28 16:01:35,843 INFO     ydzhang    成功: 插入id为: 12001 的招聘信息\n",
      "\n",
      " 38%|████████████████████████▊                                         | 15/40 [00:01<00:02,  9.06it/s]2018-08-28 16:01:35,956 INFO     ydzhang    成功: 插入id为: 12006 的招聘信息\n",
      "\n",
      " 40%|██████████████████████████▍                                       | 16/40 [00:01<00:02,  9.05it/s]2018-08-28 16:01:36,060 INFO     ydzhang    成功: 插入id为: 12000 的招聘信息\n",
      "\n",
      " 42%|████████████████████████████                                      | 17/40 [00:01<00:02,  9.08it/s]2018-08-28 16:01:36,167 INFO     ydzhang    成功: 插入id为: 12005 的招聘信息\n",
      "\n",
      " 45%|█████████████████████████████▋                                    | 18/40 [00:01<00:02,  9.10it/s]2018-08-28 16:01:36,274 INFO     ydzhang    成功: 插入id为: 12013 的招聘信息\n",
      "\n",
      " 48%|███████████████████████████████▎                                  | 19/40 [00:02<00:02,  9.10it/s]2018-08-28 16:01:36,385 INFO     ydzhang    成功: 插入id为: 11999 的招聘信息\n",
      "\n",
      " 50%|█████████████████████████████████                                 | 20/40 [00:02<00:02,  9.10it/s]"
     ]
    }
   ],
   "source": [
    "for item in tqdm(url_articles):\n",
    "    insert(cursor, db, item[0], item[1], item[2])"
   ]
  },
  {
   "cell_type": "code",
   "execution_count": 23,
   "metadata": {},
   "outputs": [
    {
     "name": "stdout",
     "output_type": "stream",
     "text": [
      "30 30\n"
     ]
    }
   ],
   "source": [
    "print(SUCCESSES, ERRORS)"
   ]
  }
 ],
 "metadata": {
  "kernelspec": {
   "display_name": "Python 3",
   "language": "python",
   "name": "python3"
  },
  "language_info": {
   "codemirror_mode": {
    "name": "ipython",
    "version": 3
   },
   "file_extension": ".py",
   "mimetype": "text/x-python",
   "name": "python",
   "nbconvert_exporter": "python",
   "pygments_lexer": "ipython3",
   "version": "3.6.4"
  }
 },
 "nbformat": 4,
 "nbformat_minor": 2
}
